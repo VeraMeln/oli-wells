{
 "cells": [
  {
   "cell_type": "markdown",
   "metadata": {},
   "source": [
    "# Выбор локации для скважины"
   ]
  },
  {
   "cell_type": "markdown",
   "metadata": {},
   "source": [
    "## Введение"
   ]
  },
  {
   "cell_type": "markdown",
   "metadata": {},
   "source": [
    "Допустим, вы работаете в добывающей компании «ГлавРосГосНефть». Нужно решить, где бурить новую скважину.\n",
    "\n",
    "Вам предоставлены пробы нефти в трёх регионах: в каждом 10 000 месторождений, где измерили качество нефти и объём её запасов. Постройте модель машинного обучения, которая поможет определить регион, где добыча принесёт наибольшую прибыль. Проанализируйте возможную прибыль и риски техникой *Bootstrap.*\n",
    "\n",
    "Шаги для выбора локации:\n",
    "\n",
    "- В избранном регионе ищут месторождения, для каждого определяют значения признаков;\n",
    "- Строят модель и оценивают объём запасов;\n",
    "- Выбирают месторождения с самым высокими оценками значений. Количество месторождений зависит от бюджета компании и стоимости разработки одной скважины;\n",
    "- Прибыль равна суммарной прибыли отобранных месторождений."
   ]
  },
  {
   "cell_type": "markdown",
   "metadata": {},
   "source": [
    "**Описание данных**\n",
    "\n",
    "Данные геологоразведки трёх регионов находятся в файлах: \n",
    "- /datasets/geo_data_0.csv. Скачать датасет\n",
    "- /datasets/geo_data_1.csv. Скачать датасет\n",
    "- /datasets/geo_data_2.csv. Скачать датасет\n",
    "- id — уникальный идентификатор скважины;\n",
    "- f0, f1, f2 — три признака точек (неважно, что они означают, но сами признаки значимы);\n",
    "- product — объём запасов в скважине (тыс. баррелей).\n"
   ]
  },
  {
   "cell_type": "markdown",
   "metadata": {},
   "source": [
    "**Условия задачи:**\n",
    "\n",
    "- Для обучения модели подходит только линейная регрессия (остальные — недостаточно предсказуемые).\n",
    "- При разведке региона исследуют 500 точек, из которых с помощью машинного обучения выбирают 200 лучших для разработки.\n",
    "- Бюджет на разработку скважин в регионе — 10 млрд рублей.\n",
    "- При нынешних ценах один баррель сырья приносит 450 рублей дохода. Доход с каждой единицы продукта составляет 450 тыс. рублей, поскольку объём указан в тысячах баррелей.\n",
    "- После оценки рисков нужно оставить лишь те регионы, в которых вероятность убытков меньше 2.5%. Среди них выбирают регион с наибольшей средней прибылью.\n"
   ]
  },
  {
   "cell_type": "markdown",
   "metadata": {},
   "source": [
    "## Импорт библиотек"
   ]
  },
  {
   "cell_type": "markdown",
   "metadata": {},
   "source": [
    "Импортируем необходимые библиотеки и функции. Объявим константы."
   ]
  },
  {
   "cell_type": "code",
   "execution_count": 1,
   "metadata": {},
   "outputs": [],
   "source": [
    "import pandas as pd\n",
    "import numpy as np\n",
    "import matplotlib.pyplot as plt\n",
    "from scipy import stats as st\n",
    "\n",
    "from sklearn.preprocessing import StandardScaler\n",
    "\n",
    "from sklearn.model_selection import train_test_split\n",
    "\n",
    "from sklearn.linear_model import LinearRegression\n",
    "\n",
    "from sklearn.metrics import mean_squared_error"
   ]
  },
  {
   "cell_type": "code",
   "execution_count": 2,
   "metadata": {},
   "outputs": [],
   "source": [
    "PROFIT_OF_ONE_THOUSAND_BARRELS = 450_000\n",
    "MONEY_FOR_DEVELOPMENT = 10_000_000_000\n",
    "NUMBER_OF_OIL_WELLS = 200\n",
    "\n",
    "RANDOM_STATE = 12345"
   ]
  },
  {
   "cell_type": "markdown",
   "metadata": {},
   "source": [
    "## Загрузка и подготовка данных"
   ]
  },
  {
   "cell_type": "markdown",
   "metadata": {},
   "source": [
    "### Знакомство с данными"
   ]
  },
  {
   "cell_type": "markdown",
   "metadata": {},
   "source": [
    "Напишем функцию, которая принимает в качестве параметра датасет и выводит на экран первые пять строк, основную информацию и гистограммы."
   ]
  },
  {
   "cell_type": "code",
   "execution_count": 3,
   "metadata": {},
   "outputs": [],
   "source": [
    "def first_look(df, lines=5):\n",
    "    print(f'Первые строки ({lines} шт):')\n",
    "    print(df.head(lines))\n",
    "    print()\n",
    "    print('Общее описание набора данных:\\n')\n",
    "    print(df.info())\n",
    "    print()\n",
    "    print('Основные статистические характеристики:\\n')\n",
    "    print(df.describe())    \n",
    "    print()\n",
    "    print('Наличие пропусков в данных:\\n')\n",
    "    print(df.isna().sum())\n",
    "    print()\n",
    "    print('Наличие дубликатов в данных:', df.duplicated(subset=['f0', 'f1', 'f2', 'product']).sum())\n",
    "    print()\n",
    "    print('Матрица корреляции')\n",
    "    print(df.corr())\n",
    "    print()\n",
    "    print('Диаграммы рассеяния:')\n",
    "    pd.plotting.scatter_matrix(df, figsize=(10, 7), alpha=0.03)"
   ]
  },
  {
   "cell_type": "markdown",
   "metadata": {},
   "source": [
    "Достанем данные о всех трех регионах и посмотри на них."
   ]
  },
  {
   "cell_type": "code",
   "execution_count": 4,
   "metadata": {},
   "outputs": [
    {
     "name": "stdout",
     "output_type": "stream",
     "text": [
      "Первые строки (5 шт):\n",
      "      id        f0        f1        f2     product\n",
      "0  txEyH  0.705745 -0.497823  1.221170  105.280062\n",
      "1  2acmU  1.334711 -0.340164  4.365080   73.037750\n",
      "2  409Wp  1.022732  0.151990  1.419926   85.265647\n",
      "3  iJLyR -0.032172  0.139033  2.978566  168.620776\n",
      "4  Xdl7t  1.988431  0.155413  4.751769  154.036647\n",
      "\n",
      "Общее описание набора данных:\n",
      "\n",
      "<class 'pandas.core.frame.DataFrame'>\n",
      "RangeIndex: 100000 entries, 0 to 99999\n",
      "Data columns (total 5 columns):\n",
      " #   Column   Non-Null Count   Dtype  \n",
      "---  ------   --------------   -----  \n",
      " 0   id       100000 non-null  object \n",
      " 1   f0       100000 non-null  float64\n",
      " 2   f1       100000 non-null  float64\n",
      " 3   f2       100000 non-null  float64\n",
      " 4   product  100000 non-null  float64\n",
      "dtypes: float64(4), object(1)\n",
      "memory usage: 3.8+ MB\n",
      "None\n",
      "\n",
      "Основные статистические характеристики:\n",
      "\n",
      "                  f0             f1             f2        product\n",
      "count  100000.000000  100000.000000  100000.000000  100000.000000\n",
      "mean        0.500419       0.250143       2.502647      92.500000\n",
      "std         0.871832       0.504433       3.248248      44.288691\n",
      "min        -1.408605      -0.848218     -12.088328       0.000000\n",
      "25%        -0.072580      -0.200881       0.287748      56.497507\n",
      "50%         0.502360       0.250252       2.515969      91.849972\n",
      "75%         1.073581       0.700646       4.715088     128.564089\n",
      "max         2.362331       1.343769      16.003790     185.364347\n",
      "\n",
      "Наличие пропусков в данных:\n",
      "\n",
      "id         0\n",
      "f0         0\n",
      "f1         0\n",
      "f2         0\n",
      "product    0\n",
      "dtype: int64\n",
      "\n",
      "Наличие дубликатов в данных: 0\n",
      "\n",
      "Матрица корреляции\n",
      "               f0        f1        f2   product\n",
      "f0       1.000000 -0.440723 -0.003153  0.143536\n",
      "f1      -0.440723  1.000000  0.001724 -0.192356\n",
      "f2      -0.003153  0.001724  1.000000  0.483663\n",
      "product  0.143536 -0.192356  0.483663  1.000000\n",
      "\n",
      "Диаграммы рассеяния:\n"
     ]
    },
    {
     "data": {
      "image/png": "[encoded data removed]",
      "text/plain": [
       "<Figure size 720x504 with 16 Axes>"
      ]
     },
     "metadata": {
      "needs_background": "light"
     },
     "output_type": "display_data"
    }
   ],
   "source": [
    "data_1 = pd.read_csv('/datasets/geo_data_0.csv')\n",
    "first_look(data_1)"
   ]
  },
  {
   "cell_type": "code",
   "execution_count": 5,
   "metadata": {},
   "outputs": [
    {
     "name": "stdout",
     "output_type": "stream",
     "text": [
      "Первые строки (5 шт):\n",
      "      id         f0         f1        f2     product\n",
      "0  kBEdx -15.001348  -8.276000 -0.005876    3.179103\n",
      "1  62mP7  14.272088  -3.475083  0.999183   26.953261\n",
      "2  vyE1P   6.263187  -5.948386  5.001160  134.766305\n",
      "3  KcrkZ -13.081196 -11.506057  4.999415  137.945408\n",
      "4  AHL4O  12.702195  -8.147433  5.004363  134.766305\n",
      "\n",
      "Общее описание набора данных:\n",
      "\n",
      "<class 'pandas.core.frame.DataFrame'>\n",
      "RangeIndex: 100000 entries, 0 to 99999\n",
      "Data columns (total 5 columns):\n",
      " #   Column   Non-Null Count   Dtype  \n",
      "---  ------   --------------   -----  \n",
      " 0   id       100000 non-null  object \n",
      " 1   f0       100000 non-null  float64\n",
      " 2   f1       100000 non-null  float64\n",
      " 3   f2       100000 non-null  float64\n",
      " 4   product  100000 non-null  float64\n",
      "dtypes: float64(4), object(1)\n",
      "memory usage: 3.8+ MB\n",
      "None\n",
      "\n",
      "Основные статистические характеристики:\n",
      "\n",
      "                  f0             f1             f2        product\n",
      "count  100000.000000  100000.000000  100000.000000  100000.000000\n",
      "mean        1.141296      -4.796579       2.494541      68.825000\n",
      "std         8.965932       5.119872       1.703572      45.944423\n",
      "min       -31.609576     -26.358598      -0.018144       0.000000\n",
      "25%        -6.298551      -8.267985       1.000021      26.953261\n",
      "50%         1.153055      -4.813172       2.011479      57.085625\n",
      "75%         8.621015      -1.332816       3.999904     107.813044\n",
      "max        29.421755      18.734063       5.019721     137.945408\n",
      "\n",
      "Наличие пропусков в данных:\n",
      "\n",
      "id         0\n",
      "f0         0\n",
      "f1         0\n",
      "f2         0\n",
      "product    0\n",
      "dtype: int64\n",
      "\n",
      "Наличие дубликатов в данных: 0\n",
      "\n",
      "Матрица корреляции\n",
      "               f0        f1        f2   product\n",
      "f0       1.000000  0.182287 -0.001777 -0.030491\n",
      "f1       0.182287  1.000000 -0.002595 -0.010155\n",
      "f2      -0.001777 -0.002595  1.000000  0.999397\n",
      "product -0.030491 -0.010155  0.999397  1.000000\n",
      "\n",
      "Диаграммы рассеяния:\n"
     ]
    },
    {
     "data": {
      "image/png": "[encoded data removed]",
      "text/plain": [
       "<Figure size 720x504 with 16 Axes>"
      ]
     },
     "metadata": {
      "needs_background": "light"
     },
     "output_type": "display_data"
    }
   ],
   "source": [
    "data_2 = pd.read_csv('/datasets/geo_data_1.csv')\n",
    "first_look(data_2)"
   ]
  },
  {
   "cell_type": "markdown",
   "metadata": {},
   "source": [
    "Настораживает вид диаграммы рассеяния для f2 и product. Посмотрим количество уникальных значений в этих столбцах."
   ]
  },
  {
   "cell_type": "code",
   "execution_count": 6,
   "metadata": {},
   "outputs": [
    {
     "data": {
      "text/plain": [
       "100000"
      ]
     },
     "execution_count": 6,
     "metadata": {},
     "output_type": "execute_result"
    }
   ],
   "source": [
    "# количество уникальных значений f2\t\n",
    "len(data_2['f2'].unique())"
   ]
  },
  {
   "cell_type": "code",
   "execution_count": 7,
   "metadata": {},
   "outputs": [
    {
     "data": {
      "text/plain": [
       "12"
      ]
     },
     "execution_count": 7,
     "metadata": {},
     "output_type": "execute_result"
    }
   ],
   "source": [
    "# количество уникальных значений product\n",
    "len(data_2['product'].unique())"
   ]
  },
  {
   "cell_type": "code",
   "execution_count": 8,
   "metadata": {},
   "outputs": [
    {
     "data": {
      "text/plain": [
       "array([  3.17910258,  26.95326103, 134.76630516, 137.94540774,\n",
       "        84.03888568, 110.99214671,  53.90652206,   0.        ,\n",
       "       107.81304413,  57.08562465,  30.13236361,  80.85978309])"
      ]
     },
     "execution_count": 8,
     "metadata": {},
     "output_type": "execute_result"
    }
   ],
   "source": [
    "# список уникальных значений product\n",
    "data_2['product'].unique()"
   ]
  },
  {
   "cell_type": "markdown",
   "metadata": {},
   "source": [
    "Видим, что в этом наборе данных в столбце product встречается всего 12 уникальных значений."
   ]
  },
  {
   "cell_type": "code",
   "execution_count": 9,
   "metadata": {},
   "outputs": [
    {
     "name": "stdout",
     "output_type": "stream",
     "text": [
      "Первые строки (5 шт):\n",
      "      id        f0        f1        f2     product\n",
      "0  fwXo0 -1.146987  0.963328 -0.828965   27.758673\n",
      "1  WJtFt  0.262778  0.269839 -2.530187   56.069697\n",
      "2  ovLUW  0.194587  0.289035 -5.586433   62.871910\n",
      "3  q6cA6  2.236060 -0.553760  0.930038  114.572842\n",
      "4  WPMUX -0.515993  1.716266  5.899011  149.600746\n",
      "\n",
      "Общее описание набора данных:\n",
      "\n",
      "<class 'pandas.core.frame.DataFrame'>\n",
      "RangeIndex: 100000 entries, 0 to 99999\n",
      "Data columns (total 5 columns):\n",
      " #   Column   Non-Null Count   Dtype  \n",
      "---  ------   --------------   -----  \n",
      " 0   id       100000 non-null  object \n",
      " 1   f0       100000 non-null  float64\n",
      " 2   f1       100000 non-null  float64\n",
      " 3   f2       100000 non-null  float64\n",
      " 4   product  100000 non-null  float64\n",
      "dtypes: float64(4), object(1)\n",
      "memory usage: 3.8+ MB\n",
      "None\n",
      "\n",
      "Основные статистические характеристики:\n",
      "\n",
      "                  f0             f1             f2        product\n",
      "count  100000.000000  100000.000000  100000.000000  100000.000000\n",
      "mean        0.002023      -0.002081       2.495128      95.000000\n",
      "std         1.732045       1.730417       3.473445      44.749921\n",
      "min        -8.760004      -7.084020     -11.970335       0.000000\n",
      "25%        -1.162288      -1.174820       0.130359      59.450441\n",
      "50%         0.009424      -0.009482       2.484236      94.925613\n",
      "75%         1.158535       1.163678       4.858794     130.595027\n",
      "max         7.238262       7.844801      16.739402     190.029838\n",
      "\n",
      "Наличие пропусков в данных:\n",
      "\n",
      "id         0\n",
      "f0         0\n",
      "f1         0\n",
      "f2         0\n",
      "product    0\n",
      "dtype: int64\n",
      "\n",
      "Наличие дубликатов в данных: 0\n",
      "\n",
      "Матрица корреляции\n",
      "               f0        f1        f2   product\n",
      "f0       1.000000  0.000528 -0.000448 -0.001987\n",
      "f1       0.000528  1.000000  0.000779 -0.001012\n",
      "f2      -0.000448  0.000779  1.000000  0.445871\n",
      "product -0.001987 -0.001012  0.445871  1.000000\n",
      "\n",
      "Диаграммы рассеяния:\n"
     ]
    },
    {
     "data": {
      "image/png": "[encoded data removed]",
      "text/plain": [
       "<Figure size 720x504 with 16 Axes>"
      ]
     },
     "metadata": {
      "needs_background": "light"
     },
     "output_type": "display_data"
    }
   ],
   "source": [
    "data_3 = pd.read_csv('/datasets/geo_data_2.csv')\n",
    "first_look(data_3)"
   ]
  },
  {
   "cell_type": "markdown",
   "metadata": {},
   "source": [
    "**Выводы**\n",
    "\n",
    "Во всех трех наборах данных по 10000 строк. Нет пропусков и дубликатов. Нам доступны три характеристики по каждому объекту. Все они являются числовыми, категориальных нет. Диапазон значений по каждой характеристике разный для каждого набора данных.\n",
    "\n",
    "Гистограммы числовых характеристик в целом похожи на нормальное распределение. Отличаются только гистограммы столбцов f0 в первом наборе данных и f2 во втором. Распределение объемов запасов в скважинах тоже напоминает нормальное распределение для первого и третьего наборов данных. Во втором наборе много скважин с минимальным или максимальным объемом запасов. \n",
    "\n",
    "Во всех датасетах заметно наличие корреляции между величиной f2 объемом запасов в скважине. Особенно сильно это проявляется во втором регионе, там коэффициент корреляции очень близок к 1."
   ]
  },
  {
   "cell_type": "code",
   "execution_count": 10,
   "metadata": {},
   "outputs": [
    {
     "data": {
      "text/html": [
       "<div>\n",
       "<style scoped>\n",
       "    .dataframe tbody tr th:only-of-type {\n",
       "        vertical-align: middle;\n",
       "    }\n",
       "\n",
       "    .dataframe tbody tr th {\n",
       "        vertical-align: top;\n",
       "    }\n",
       "\n",
       "    .dataframe thead th {\n",
       "        text-align: right;\n",
       "    }\n",
       "</style>\n",
       "<table border=\"1\" class=\"dataframe\">\n",
       "  <thead>\n",
       "    <tr style=\"text-align: right;\">\n",
       "      <th></th>\n",
       "      <th>id</th>\n",
       "      <th>f0</th>\n",
       "      <th>f1</th>\n",
       "      <th>f2</th>\n",
       "      <th>product</th>\n",
       "    </tr>\n",
       "  </thead>\n",
       "  <tbody>\n",
       "    <tr>\n",
       "      <th>41906</th>\n",
       "      <td>LHZR0</td>\n",
       "      <td>-8.989672</td>\n",
       "      <td>-4.286607</td>\n",
       "      <td>2.009139</td>\n",
       "      <td>57.085625</td>\n",
       "    </tr>\n",
       "    <tr>\n",
       "      <th>82178</th>\n",
       "      <td>bfPNe</td>\n",
       "      <td>-6.202799</td>\n",
       "      <td>-4.820045</td>\n",
       "      <td>2.995107</td>\n",
       "      <td>84.038886</td>\n",
       "    </tr>\n",
       "    <tr>\n",
       "      <th>82873</th>\n",
       "      <td>wt4Uk</td>\n",
       "      <td>10.259972</td>\n",
       "      <td>-9.376355</td>\n",
       "      <td>4.994297</td>\n",
       "      <td>134.766305</td>\n",
       "    </tr>\n",
       "    <tr>\n",
       "      <th>84461</th>\n",
       "      <td>5ltQ6</td>\n",
       "      <td>18.213839</td>\n",
       "      <td>2.191999</td>\n",
       "      <td>3.993869</td>\n",
       "      <td>107.813044</td>\n",
       "    </tr>\n",
       "  </tbody>\n",
       "</table>\n",
       "</div>"
      ],
      "text/plain": [
       "          id         f0        f1        f2     product\n",
       "41906  LHZR0  -8.989672 -4.286607  2.009139   57.085625\n",
       "82178  bfPNe  -6.202799 -4.820045  2.995107   84.038886\n",
       "82873  wt4Uk  10.259972 -9.376355  4.994297  134.766305\n",
       "84461  5ltQ6  18.213839  2.191999  3.993869  107.813044"
      ]
     },
     "execution_count": 10,
     "metadata": {},
     "output_type": "execute_result"
    }
   ],
   "source": [
    "data_2[data_2['id'].duplicated()]"
   ]
  },
  {
   "cell_type": "code",
   "execution_count": 11,
   "metadata": {
    "scrolled": true
   },
   "outputs": [
    {
     "data": {
      "text/html": [
       "<div>\n",
       "<style scoped>\n",
       "    .dataframe tbody tr th:only-of-type {\n",
       "        vertical-align: middle;\n",
       "    }\n",
       "\n",
       "    .dataframe tbody tr th {\n",
       "        vertical-align: top;\n",
       "    }\n",
       "\n",
       "    .dataframe thead th {\n",
       "        text-align: right;\n",
       "    }\n",
       "</style>\n",
       "<table border=\"1\" class=\"dataframe\">\n",
       "  <thead>\n",
       "    <tr style=\"text-align: right;\">\n",
       "      <th></th>\n",
       "      <th>id</th>\n",
       "      <th>f0</th>\n",
       "      <th>f1</th>\n",
       "      <th>f2</th>\n",
       "      <th>product</th>\n",
       "    </tr>\n",
       "  </thead>\n",
       "  <tbody>\n",
       "    <tr>\n",
       "      <th>47591</th>\n",
       "      <td>wt4Uk</td>\n",
       "      <td>-9.091098</td>\n",
       "      <td>-8.109279</td>\n",
       "      <td>-0.002314</td>\n",
       "      <td>3.179103</td>\n",
       "    </tr>\n",
       "    <tr>\n",
       "      <th>82873</th>\n",
       "      <td>wt4Uk</td>\n",
       "      <td>10.259972</td>\n",
       "      <td>-9.376355</td>\n",
       "      <td>4.994297</td>\n",
       "      <td>134.766305</td>\n",
       "    </tr>\n",
       "  </tbody>\n",
       "</table>\n",
       "</div>"
      ],
      "text/plain": [
       "          id         f0        f1        f2     product\n",
       "47591  wt4Uk  -9.091098 -8.109279 -0.002314    3.179103\n",
       "82873  wt4Uk  10.259972 -9.376355  4.994297  134.766305"
      ]
     },
     "execution_count": 11,
     "metadata": {},
     "output_type": "execute_result"
    }
   ],
   "source": [
    "data_2[data_2['id'] == 'wt4Uk']"
   ]
  },
  {
   "cell_type": "markdown",
   "metadata": {},
   "source": [
    "### Разбивка на выборки"
   ]
  },
  {
   "cell_type": "markdown",
   "metadata": {},
   "source": [
    "Подготовим данные для обучения модели. Создадим переменные, содержащие характеристики и целевой признак."
   ]
  },
  {
   "cell_type": "code",
   "execution_count": 12,
   "metadata": {},
   "outputs": [],
   "source": [
    "def get_features_and_target(df):\n",
    "    features = df.loc[:, ['f0', 'f1', 'f2']]\n",
    "    print('Характеристики')\n",
    "    print(features.head())\n",
    "    print()\n",
    "    print('Целевой признак')\n",
    "    target = df['product']\n",
    "    print(target.head())\n",
    "    return features, target"
   ]
  },
  {
   "cell_type": "code",
   "execution_count": 13,
   "metadata": {
    "scrolled": true
   },
   "outputs": [
    {
     "name": "stdout",
     "output_type": "stream",
     "text": [
      "Характеристики\n",
      "         f0        f1        f2\n",
      "0  0.705745 -0.497823  1.221170\n",
      "1  1.334711 -0.340164  4.365080\n",
      "2  1.022732  0.151990  1.419926\n",
      "3 -0.032172  0.139033  2.978566\n",
      "4  1.988431  0.155413  4.751769\n",
      "\n",
      "Целевой признак\n",
      "0    105.280062\n",
      "1     73.037750\n",
      "2     85.265647\n",
      "3    168.620776\n",
      "4    154.036647\n",
      "Name: product, dtype: float64\n"
     ]
    }
   ],
   "source": [
    "# первый набор данных\n",
    "features_1, target_1 = get_features_and_target(data_1)"
   ]
  },
  {
   "cell_type": "code",
   "execution_count": 14,
   "metadata": {
    "scrolled": true
   },
   "outputs": [
    {
     "name": "stdout",
     "output_type": "stream",
     "text": [
      "Характеристики\n",
      "          f0         f1        f2\n",
      "0 -15.001348  -8.276000 -0.005876\n",
      "1  14.272088  -3.475083  0.999183\n",
      "2   6.263187  -5.948386  5.001160\n",
      "3 -13.081196 -11.506057  4.999415\n",
      "4  12.702195  -8.147433  5.004363\n",
      "\n",
      "Целевой признак\n",
      "0      3.179103\n",
      "1     26.953261\n",
      "2    134.766305\n",
      "3    137.945408\n",
      "4    134.766305\n",
      "Name: product, dtype: float64\n"
     ]
    }
   ],
   "source": [
    "# второй набор данных\n",
    "features_2, target_2 = get_features_and_target(data_2)"
   ]
  },
  {
   "cell_type": "code",
   "execution_count": 15,
   "metadata": {
    "scrolled": true
   },
   "outputs": [
    {
     "name": "stdout",
     "output_type": "stream",
     "text": [
      "Характеристики\n",
      "         f0        f1        f2\n",
      "0 -1.146987  0.963328 -0.828965\n",
      "1  0.262778  0.269839 -2.530187\n",
      "2  0.194587  0.289035 -5.586433\n",
      "3  2.236060 -0.553760  0.930038\n",
      "4 -0.515993  1.716266  5.899011\n",
      "\n",
      "Целевой признак\n",
      "0     27.758673\n",
      "1     56.069697\n",
      "2     62.871910\n",
      "3    114.572842\n",
      "4    149.600746\n",
      "Name: product, dtype: float64\n"
     ]
    }
   ],
   "source": [
    "# третий набор данных\n",
    "features_3, target_3 = get_features_and_target(data_3)"
   ]
  },
  {
   "cell_type": "markdown",
   "metadata": {},
   "source": [
    "Полученные переменные разобьём на обучающую и валидационную выборки."
   ]
  },
  {
   "cell_type": "code",
   "execution_count": 16,
   "metadata": {},
   "outputs": [],
   "source": [
    "# функция разбивает данные на подвыборки и проверяет корректность разбиения\n",
    "def get_tran_test_split_and_check(features, target):\n",
    "    features_train, features_valid, target_train, target_valid = train_test_split(\n",
    "        features,\n",
    "        target,\n",
    "        test_size=0.25,\n",
    "        random_state = RANDOM_STATE\n",
    "    )\n",
    "    if (features_train.shape[0] + features_valid.shape[0] == features.shape[0] and\n",
    "        target_train.shape[0] + target_valid.shape[0] == target.shape[0]\n",
    "    ):\n",
    "        print('Разделение на выборки прошло корректно')\n",
    "    return features_train, features_valid, target_train, target_valid"
   ]
  },
  {
   "cell_type": "code",
   "execution_count": 17,
   "metadata": {},
   "outputs": [
    {
     "name": "stdout",
     "output_type": "stream",
     "text": [
      "Разделение на выборки прошло корректно\n"
     ]
    }
   ],
   "source": [
    "# первый набор данных\n",
    "features_train_1, features_valid_1, target_train_1, target_valid_1 = get_tran_test_split_and_check(\n",
    "    features_1,\n",
    "    target_1\n",
    ")"
   ]
  },
  {
   "cell_type": "code",
   "execution_count": 18,
   "metadata": {},
   "outputs": [
    {
     "name": "stdout",
     "output_type": "stream",
     "text": [
      "Разделение на выборки прошло корректно\n"
     ]
    }
   ],
   "source": [
    "# второй набор данных\n",
    "features_train_2, features_valid_2, target_train_2, target_valid_2 = get_tran_test_split_and_check(\n",
    "    features_2,\n",
    "    target_2\n",
    ")"
   ]
  },
  {
   "cell_type": "code",
   "execution_count": 19,
   "metadata": {},
   "outputs": [
    {
     "name": "stdout",
     "output_type": "stream",
     "text": [
      "Разделение на выборки прошло корректно\n"
     ]
    }
   ],
   "source": [
    "# третий набор данных\n",
    "features_train_3, features_valid_3, target_train_3, target_valid_3 = get_tran_test_split_and_check(\n",
    "    features_3,\n",
    "    target_3\n",
    ")"
   ]
  },
  {
   "cell_type": "markdown",
   "metadata": {},
   "source": [
    "**Вывод**\n",
    "\n",
    "Для каждого набора данных мы выделили переменные, содержащие характеристики и целевой признак, и полученные переменные разбили на обучающие и валидационные выборки."
   ]
  },
  {
   "cell_type": "markdown",
   "metadata": {},
   "source": [
    "### Масштабирование данных"
   ]
  },
  {
   "cell_type": "markdown",
   "metadata": {},
   "source": [
    "Так как разброс характеристик по числовым значениям отличается внутри каждого датасета, проведем масштабирование данных. "
   ]
  },
  {
   "cell_type": "code",
   "execution_count": 20,
   "metadata": {},
   "outputs": [],
   "source": [
    "# отключим вывод предупреждений\n",
    "pd.options.mode.chained_assignment = None"
   ]
  },
  {
   "cell_type": "code",
   "execution_count": 21,
   "metadata": {},
   "outputs": [],
   "source": [
    "# список столбцов, которые содержат числовые характеристики\n",
    "features_columns = ['f0', 'f1', 'f2']"
   ]
  },
  {
   "cell_type": "markdown",
   "metadata": {},
   "source": [
    "Напишем функцию, которая будет масштабировать числовые характеристики данных и для проверки корректности работы выводить две гистограммы: до масштабирования и после."
   ]
  },
  {
   "cell_type": "code",
   "execution_count": 22,
   "metadata": {},
   "outputs": [],
   "source": [
    "def scaling_hists(df, features_columns, title):\n",
    "    # строим гистограммы\n",
    "    fig, (ax1, ax2, ax3) = plt.subplots(1, 3)\n",
    "    fig.suptitle(title)\n",
    "    fig.set_figwidth(12)\n",
    "    fig.set_figheight(2)\n",
    "    \n",
    "    ax1.hist(df[features_columns[0]])\n",
    "    ax1.set_xlabel(\"f0\")\n",
    "    ax2.hist(df[features_columns[1]])\n",
    "    ax2.set_xlabel(\"f1\")\n",
    "    ax3.hist(df[features_columns[2]])\n",
    "    ax3.set_xlabel(\"f2\")"
   ]
  },
  {
   "cell_type": "code",
   "execution_count": 23,
   "metadata": {},
   "outputs": [],
   "source": [
    "def scale_data(df_train, df_valid, features_columns):\n",
    "    # строим гистограммы до масштабирования\n",
    "    scaling_hists(df_train, features_columns, 'TRAIN Числовые характеристики до масштабирования')\n",
    "    \n",
    "    # используем StandardScaler: настраиваем его на имеющихся данных и преобразуем эти данные\n",
    "    # настраиваем StadardScaler и масштабируем тренировочную выборку\n",
    "    scaler = StandardScaler()  \n",
    "    df_train[features_columns] = scaler.fit_transform(df_train[features_columns])\n",
    "    scaling_hists(df_train, features_columns, 'Числовые характеристики после масштабирования')\n",
    "    \n",
    "    # масштабируем валидационную выборку\n",
    "    scaling_hists(df_valid, features_columns, 'VALID Числовые характеристики до масштабирования')\n",
    "    df_valid[features_columns] = scaler.transform(df_valid[features_columns])\n",
    "    scaling_hists(df_valid, features_columns, 'Числовые характеристики после масштабирования')\n",
    "    \n",
    "    return df_train[features_columns], df_valid[features_columns]"
   ]
  },
  {
   "cell_type": "code",
   "execution_count": 24,
   "metadata": {},
   "outputs": [
    {
     "data": {
      "image/png": "[encoded data removed]",
      "text/plain": [
       "<Figure size 864x144 with 3 Axes>"
      ]
     },
     "metadata": {
      "needs_background": "light"
     },
     "output_type": "display_data"
    },
    {
     "data": {
      "image/png": "[encoded data removed]",
      "text/plain": [
       "<Figure size 864x144 with 3 Axes>"
      ]
     },
     "metadata": {
      "needs_background": "light"
     },
     "output_type": "display_data"
    },
    {
     "data": {
      "image/png": "[encoded data removed]",
      "text/plain": [
       "<Figure size 864x144 with 3 Axes>"
      ]
     },
     "metadata": {
      "needs_background": "light"
     },
     "output_type": "display_data"
    },
    {
     "data": {
      "image/png": "[encoded data removed]",
      "text/plain": [
       "<Figure size 864x144 with 3 Axes>"
      ]
     },
     "metadata": {
      "needs_background": "light"
     },
     "output_type": "display_data"
    }
   ],
   "source": [
    "features_train_1[features_columns], features_valid_1[features_columns] = scale_data(\n",
    "    features_train_1, \n",
    "    features_valid_1,\n",
    "    features_columns\n",
    ")"
   ]
  },
  {
   "cell_type": "code",
   "execution_count": 25,
   "metadata": {},
   "outputs": [
    {
     "data": {
      "image/png": "[encoded data removed]",
      "text/plain": [
       "<Figure size 864x144 with 3 Axes>"
      ]
     },
     "metadata": {
      "needs_background": "light"
     },
     "output_type": "display_data"
    },
    {
     "data": {
      "image/png": "[encoded data removed]",
      "text/plain": [
       "<Figure size 864x144 with 3 Axes>"
      ]
     },
     "metadata": {
      "needs_background": "light"
     },
     "output_type": "display_data"
    },
    {
     "data": {
      "image/png": "[encoded data removed]",
      "text/plain": [
       "<Figure size 864x144 with 3 Axes>"
      ]
     },
     "metadata": {
      "needs_background": "light"
     },
     "output_type": "display_data"
    },
    {
     "data": {
      "image/png": "[encoded data removed]",
      "text/plain": [
       "<Figure size 864x144 with 3 Axes>"
      ]
     },
     "metadata": {
      "needs_background": "light"
     },
     "output_type": "display_data"
    }
   ],
   "source": [
    "features_train_2[features_columns], features_valid_2[features_columns] = scale_data(\n",
    "    features_train_2, \n",
    "    features_valid_2,\n",
    "    features_columns\n",
    ")"
   ]
  },
  {
   "cell_type": "code",
   "execution_count": 26,
   "metadata": {},
   "outputs": [
    {
     "data": {
      "image/png": "[encoded data removed]",
      "text/plain": [
       "<Figure size 864x144 with 3 Axes>"
      ]
     },
     "metadata": {
      "needs_background": "light"
     },
     "output_type": "display_data"
    },
    {
     "data": {
      "image/png": "[encoded data removed]",
      "text/plain": [
       "<Figure size 864x144 with 3 Axes>"
      ]
     },
     "metadata": {
      "needs_background": "light"
     },
     "output_type": "display_data"
    },
    {
     "data": {
      "image/png": "[encoded data removed]",
      "text/plain": [
       "<Figure size 864x144 with 3 Axes>"
      ]
     },
     "metadata": {
      "needs_background": "light"
     },
     "output_type": "display_data"
    },
    {
     "data": {
      "image/png": "[encoded data removed]",
      "text/plain": [
       "<Figure size 864x144 with 3 Axes>"
      ]
     },
     "metadata": {
      "needs_background": "light"
     },
     "output_type": "display_data"
    }
   ],
   "source": [
    "features_train_3[features_columns], features_valid_3[features_columns] = scale_data(\n",
    "    features_train_3, \n",
    "    features_valid_3,\n",
    "    features_columns\n",
    ")"
   ]
  },
  {
   "cell_type": "markdown",
   "metadata": {},
   "source": [
    "После масштабирования числовые характеристики во всех датасетах находятся в диапазоне от -4 до 4."
   ]
  },
  {
   "cell_type": "markdown",
   "metadata": {},
   "source": [
    "### Выводы"
   ]
  },
  {
   "cell_type": "markdown",
   "metadata": {},
   "source": [
    "Для обучения модели мы загрузили и подготовили три набора данных.\n",
    "\n",
    "Во всех наборах по 10000 строк. Пропусков и дубликатов нет. Нам доступны три характеристики по каждому объекту. Все они являются числовыми, категориальных нет. Диапазон значений по каждой характеристике разный для каждого набора данных.\n",
    "\n",
    "Во всех датасетах заметно наличие корреляции между величиной f2 объемом запасов в скважине. Особенно сильно это проявляется во втором регионе, там коэффициент корреляции очень близок к 1.\n",
    "\n",
    "Распределение объемов запасов в скважинах напоминает нормальное распределение для первого и третьего наборов данных. Во втором наборе много скважин с минимальным или максимальным объемом запасов.\n",
    "\n",
    "Для каждого набора данных мы выделили переменные, содержащие характеристики и целевой признак, и полученные переменные разбили на обучающие и валидационные выборки.\n",
    "\n",
    "После масштабирования числовые характеристики во всех датасетах находятся в диапазоне от -4 до 4."
   ]
  },
  {
   "cell_type": "markdown",
   "metadata": {},
   "source": [
    "## Обучение и проверка модели"
   ]
  },
  {
   "cell_type": "markdown",
   "metadata": {},
   "source": [
    "Обучим модель линейной регрессии для предсказания объема запасов скважины по ее характеристикам. Для оценки качества модели будем использовать RMSE модели.\n",
    "\n",
    "Чем ниже RMSE, тем лучше модель. По итогам обучения сравним модели и выберем ту, у которой RMSE минимальная."
   ]
  },
  {
   "cell_type": "code",
   "execution_count": 27,
   "metadata": {},
   "outputs": [],
   "source": [
    "def get_and_check_model(features_train, target_train,  features_valid, target_valid):\n",
    "    model = LinearRegression()\n",
    "    model.fit(features_train, target_train)\n",
    "    predictions = model.predict(features_valid)\n",
    "    print('Средний запас предсказанного сырья: ', predictions.mean())\n",
    "    rmse = mean_squared_error(target_valid, predictions) ** 0.5\n",
    "    print('RMSE: ', rmse)\n",
    "    return model, predictions"
   ]
  },
  {
   "cell_type": "markdown",
   "metadata": {},
   "source": [
    "### Обучение моделей и сравнение оценок"
   ]
  },
  {
   "cell_type": "code",
   "execution_count": 28,
   "metadata": {},
   "outputs": [
    {
     "name": "stdout",
     "output_type": "stream",
     "text": [
      "Первый регион\n",
      "Средний запас предсказанного сырья:  92.59256778438035\n",
      "RMSE:  37.5794217150813\n"
     ]
    }
   ],
   "source": [
    "# для первого региона\n",
    "print('Первый регион')\n",
    "model_1, predictions_1 = get_and_check_model(\n",
    "    features_train_1, \n",
    "    target_train_1,  \n",
    "    features_valid_1, \n",
    "    target_valid_1\n",
    ")"
   ]
  },
  {
   "cell_type": "code",
   "execution_count": 29,
   "metadata": {},
   "outputs": [
    {
     "name": "stdout",
     "output_type": "stream",
     "text": [
      "Второй регион\n",
      "Средний запас предсказанного сырья:  68.728546895446\n",
      "RMSE:  0.893099286775617\n"
     ]
    }
   ],
   "source": [
    "# для второго региона\n",
    "print('Второй регион')\n",
    "model_2, predictions_2 = get_and_check_model(\n",
    "    features_train_2, \n",
    "    target_train_2,  \n",
    "    features_valid_2, \n",
    "    target_valid_2\n",
    ")"
   ]
  },
  {
   "cell_type": "code",
   "execution_count": 30,
   "metadata": {},
   "outputs": [
    {
     "name": "stdout",
     "output_type": "stream",
     "text": [
      "Третий регион\n",
      "Средний запас предсказанного сырья:  94.96504596800489\n",
      "RMSE:  40.02970873393434\n"
     ]
    }
   ],
   "source": [
    "# для третьего региона\n",
    "print('Третий регион')\n",
    "model_3, predictions_3 = get_and_check_model(\n",
    "    features_train_3, \n",
    "    target_train_3,  \n",
    "    features_valid_3, \n",
    "    target_valid_3\n",
    ")"
   ]
  },
  {
   "cell_type": "markdown",
   "metadata": {},
   "source": [
    "**Вывод**\n",
    "\n",
    "Самая низкая оценка RMSE у модели, построенной для второго региона. "
   ]
  },
  {
   "cell_type": "code",
   "execution_count": 31,
   "metadata": {},
   "outputs": [
    {
     "name": "stdout",
     "output_type": "stream",
     "text": [
      "Средний запас предсказанного сырья:  68.85899112906351\n",
      "RMSE:  46.006958160915644\n"
     ]
    }
   ],
   "source": [
    "features_train_2_1 = features_train_2.drop('f2', axis=1)\n",
    "features_valid_2_1 = features_valid_2.drop('f2', axis=1)\n",
    "model_2_1, predictions_2_1 = get_and_check_model(\n",
    "    features_train_2_1, \n",
    "    target_train_2,  \n",
    "    features_valid_2_1, \n",
    "    target_valid_2\n",
    ")"
   ]
  },
  {
   "cell_type": "markdown",
   "metadata": {},
   "source": [
    "### Вывод"
   ]
  },
  {
   "cell_type": "markdown",
   "metadata": {},
   "source": [
    "Мы обучили модель линейной регрессии для предсказания объема запасов скважины по ее характеристикам для каждого региона.\n",
    "\n",
    "Самая низкая оценка RMSE у модели, построенной для второго региона. \n",
    "\n",
    "Самый высокий средний запас сырья в третьем и первом регионах\n",
    "\n",
    "Самый низкий – во втором."
   ]
  },
  {
   "cell_type": "markdown",
   "metadata": {},
   "source": [
    "## Подготовка к расчёту прибыли"
   ]
  },
  {
   "cell_type": "markdown",
   "metadata": {},
   "source": [
    "Для расчета прибыли по региону, сначала рассчитаем достаточный объем сырья для безубыточной разработки одной новой скважины."
   ]
  },
  {
   "cell_type": "markdown",
   "metadata": {},
   "source": [
    "### Расчет характеристик одной скважины"
   ]
  },
  {
   "cell_type": "markdown",
   "metadata": {},
   "source": [
    "При разведке региона исследуют 500 точек, из них выбирают 200 лучших для разработки. Бюджет на разработку скважин в регионе – 10 млрд рублей. Узнаем, какая сумма приходится на одну скважину из 200"
   ]
  },
  {
   "cell_type": "code",
   "execution_count": 32,
   "metadata": {},
   "outputs": [
    {
     "data": {
      "text/plain": [
       "50000000.0"
      ]
     },
     "execution_count": 32,
     "metadata": {},
     "output_type": "execute_result"
    }
   ],
   "source": [
    "MONEY_FOR_ONE_OIL_WELL = MONEY_FOR_DEVELOPMENT / NUMBER_OF_OIL_WELLS\n",
    "MONEY_FOR_ONE_OIL_WELL"
   ]
  },
  {
   "cell_type": "markdown",
   "metadata": {},
   "source": [
    "Посчитаем объем сырья, достаточный для безубыточной разработки: разделим расходы (50 000 000) на доход с тысячи баррелей (450 000)"
   ]
  },
  {
   "cell_type": "code",
   "execution_count": 33,
   "metadata": {},
   "outputs": [
    {
     "data": {
      "text/plain": [
       "111"
      ]
     },
     "execution_count": 33,
     "metadata": {},
     "output_type": "execute_result"
    }
   ],
   "source": [
    "SUFFICIENT_AMOUNT_OF_OIL = round(MONEY_FOR_ONE_OIL_WELL / PROFIT_OF_ONE_THOUSAND_BARRELS)\n",
    "SUFFICIENT_AMOUNT_OF_OIL"
   ]
  },
  {
   "cell_type": "markdown",
   "metadata": {},
   "source": [
    "### Сравнение со средним по регионам"
   ]
  },
  {
   "cell_type": "markdown",
   "metadata": {},
   "source": [
    "Выведем средние показатели по предсказаниям по регионам"
   ]
  },
  {
   "cell_type": "code",
   "execution_count": 34,
   "metadata": {},
   "outputs": [
    {
     "data": {
      "text/plain": [
       "(92.59256778438035, 68.728546895446, 94.96504596800489)"
      ]
     },
     "execution_count": 34,
     "metadata": {},
     "output_type": "execute_result"
    }
   ],
   "source": [
    "predictions_1.mean(), predictions_2.mean(), predictions_3.mean()"
   ]
  },
  {
   "cell_type": "markdown",
   "metadata": {},
   "source": [
    "**Вывод**\n",
    "\n",
    "Средний запас третьего региона ближе всего к искомым показателям."
   ]
  },
  {
   "cell_type": "markdown",
   "metadata": {},
   "source": [
    "### Выводы"
   ]
  },
  {
   "cell_type": "markdown",
   "metadata": {},
   "source": [
    "На разработку одной скважины в среднем тратится 50 000 000 рублей. Для безубыточной разработки необходимо, чтобы минимальный объём запаса скважины составлял 111 тыс. баррелей.\n",
    "\n",
    "Ближе всего к искомым показателям средние запасы первого и третьего регионов."
   ]
  },
  {
   "cell_type": "markdown",
   "metadata": {},
   "source": [
    "## Расчёт прибыли и рисков "
   ]
  },
  {
   "cell_type": "markdown",
   "metadata": {},
   "source": [
    "### Расчет прибыли"
   ]
  },
  {
   "cell_type": "markdown",
   "metadata": {},
   "source": [
    "Посчитаем ожидаемую прибыль с региона. Для этого отсортируем предсказания по убыванию и выберем 200 самых богатых скважин."
   ]
  },
  {
   "cell_type": "code",
   "execution_count": 35,
   "metadata": {},
   "outputs": [],
   "source": [
    "# напишем функцию расчета валовой прибыли\n",
    "\n",
    "def profit(predictions, target):\n",
    "    \n",
    "    # выберем 200 самых богатых скважин\n",
    "    predict_sorted = predictions.sort_values(ascending=False)\n",
    "    target_sorted = target.loc[predict_sorted.index][:NUMBER_OF_OIL_WELLS]\n",
    "    \n",
    "    # отнимем от прибыли, которую дает регион, затраты на его разработку\n",
    "    profit = sum(target_sorted) * PROFIT_OF_ONE_THOUSAND_BARRELS - MONEY_FOR_DEVELOPMENT\n",
    "    \n",
    "    return profit"
   ]
  },
  {
   "cell_type": "code",
   "execution_count": 36,
   "metadata": {},
   "outputs": [
    {
     "data": {
      "text/plain": [
       "(71751     10.038645\n",
       " 80493    114.551489\n",
       " 2655     132.603635\n",
       " 53233    169.072125\n",
       " 91141    122.325180\n",
       "             ...    \n",
       " 12581    170.116726\n",
       " 18456     93.632175\n",
       " 73035    127.352259\n",
       " 63834     99.782700\n",
       " 43558    177.821022\n",
       " Name: product, Length: 25000, dtype: float64,\n",
       " array([ 95.89495185,  77.57258261,  77.89263965, ...,  61.50983303,\n",
       "        118.18039721, 118.16939229]))"
      ]
     },
     "execution_count": 36,
     "metadata": {},
     "output_type": "execute_result"
    }
   ],
   "source": [
    "#ячейка ревьюера\n",
    "'''индексы НЕ совпадают'''\n",
    "\n",
    "target_valid_1, predictions_1"
   ]
  },
  {
   "cell_type": "code",
   "execution_count": 37,
   "metadata": {},
   "outputs": [
    {
     "data": {
      "text/plain": [
       "(0         10.038645\n",
       " 1        114.551489\n",
       " 2        132.603635\n",
       " 3        169.072125\n",
       " 4        122.325180\n",
       "             ...    \n",
       " 24995    170.116726\n",
       " 24996     93.632175\n",
       " 24997    127.352259\n",
       " 24998     99.782700\n",
       " 24999    177.821022\n",
       " Name: product, Length: 25000, dtype: float64,\n",
       " 0         95.894952\n",
       " 1         77.572583\n",
       " 2         77.892640\n",
       " 3         90.175134\n",
       " 4         70.510088\n",
       "             ...    \n",
       " 24995    103.037104\n",
       " 24996     85.403255\n",
       " 24997     61.509833\n",
       " 24998    118.180397\n",
       " 24999    118.169392\n",
       " Length: 25000, dtype: float64)"
      ]
     },
     "execution_count": 37,
     "metadata": {},
     "output_type": "execute_result"
    }
   ],
   "source": [
    "#ячейка ревьюера\n",
    "'''индексы совпадают'''\n",
    "\n",
    "target_valid_1.reset_index(drop = True), pd.Series(predictions_1)"
   ]
  },
  {
   "cell_type": "markdown",
   "metadata": {},
   "source": [
    "Изменим индексы в переменных, содержащих целевой признак так, чтобы они шли по порядку."
   ]
  },
  {
   "cell_type": "code",
   "execution_count": 38,
   "metadata": {},
   "outputs": [],
   "source": [
    "target_valid_1 = target_valid_1.reset_index(drop = True)\n",
    "target_valid_2 = target_valid_2.reset_index(drop = True)\n",
    "target_valid_3 = target_valid_3.reset_index(drop = True)"
   ]
  },
  {
   "cell_type": "markdown",
   "metadata": {},
   "source": [
    "Рассчитаем прибыль по регионам в миллионах"
   ]
  },
  {
   "cell_type": "code",
   "execution_count": 39,
   "metadata": {},
   "outputs": [
    {
     "name": "stdout",
     "output_type": "stream",
     "text": [
      "Прогнозируемая прибыль\n",
      "для первого региона: 332.0826 млн\n",
      "для второго региона: 241.5087 млн\n",
      "для третьего региона: 271.0350 млн\n"
     ]
    }
   ],
   "source": [
    "print('Прогнозируемая прибыль')\n",
    "print(f'для первого региона: {profit(pd.Series(predictions_1), target_valid_1) / 10e6:.4f} млн')\n",
    "print(f'для второго региона: {profit(pd.Series(predictions_2), target_valid_2) / 10e6:.4f} млн')\n",
    "print(f'для третьего региона: {profit(pd.Series(predictions_3), target_valid_3) / 10e6:.4f} млн')"
   ]
  },
  {
   "cell_type": "markdown",
   "metadata": {},
   "source": [
    "Расчет прибыли показал, что максимальная прибыль ожидается от разработки первого региона."
   ]
  },
  {
   "cell_type": "markdown",
   "metadata": {},
   "source": [
    "### Расчет рисков для каждого региона"
   ]
  },
  {
   "cell_type": "markdown",
   "metadata": {},
   "source": [
    "Для прогнозирования возможных  убытков рассчитаем распределение прибыли с помощью техники Bootstrap ."
   ]
  },
  {
   "cell_type": "markdown",
   "metadata": {},
   "source": [
    "Напишем функцию для нахождения распределения прибыли по региону при разработке двухсот лучших скважин из пятисот случайно выбранных."
   ]
  },
  {
   "cell_type": "code",
   "execution_count": 40,
   "metadata": {},
   "outputs": [],
   "source": [
    "# Сформируем 1000 выборок по 500 месторождений \n",
    "# и вызовем для каждой выборки функцию расчета прибыли.\n",
    "\n",
    "def create_profit_series_on_predictions(predictions, target_valid):\n",
    "    bootstrap_samples = 1000\n",
    "    profit_list = []\n",
    "    state = np.random.RandomState(12345)\n",
    "\n",
    "    for iteraion in range(bootstrap_samples):\n",
    "        target_500 = target_valid.sample(\n",
    "            n=500,\n",
    "            replace=True,\n",
    "            random_state=state\n",
    "        )\n",
    "        predict_500 = predictions[target_500.index]\n",
    "        profit_list.append(profit(predict_500, target_500))\n",
    "    \n",
    "    return pd.Series(profit_list)"
   ]
  },
  {
   "cell_type": "markdown",
   "metadata": {},
   "source": [
    "Напишем функцию для нахождения по полученному распределению прибыли среднего дохода с региона, 95%-ного доверительного региона и вероятности убытков."
   ]
  },
  {
   "cell_type": "code",
   "execution_count": 42,
   "metadata": {},
   "outputs": [],
   "source": [
    "def get_statistics(predicions, target_valid):\n",
    "    profit_list = create_profit_series_on_predictions(pd.Series(predicions), target_valid)\n",
    "    # находим среднюю ожидаемую прибыль\n",
    "    print(f'Средняя прибыль: {profit_list.mean() / 1e6:.2f} млн')\n",
    "    \n",
    "    # найдем 95%-й доверительный интервал\n",
    "    print('95%-й доверительный интервал:')\n",
    "    print(count_confidence_interval(profit_list))\n",
    "\n",
    "    # Посчитаем вероятность отрицательной прибыли как \n",
    "    #долю количества убыточных разработок от общего числа\n",
    "    print('Риск убытков:', len(profit_list[profit_list<0])/len(profit_list)*100, '%')"
   ]
  },
  {
   "cell_type": "markdown",
   "metadata": {},
   "source": [
    "\n",
    "Проведем расчеты для каждого региона."
   ]
  },
  {
   "cell_type": "code",
   "execution_count": 43,
   "metadata": {},
   "outputs": [
    {
     "name": "stdout",
     "output_type": "stream",
     "text": [
      "Первый регион\n",
      "Средняя прибыль: 42.59 млн\n",
      "95%-й доверительный интервал:\n",
      "(-102090094.83793645, 947976353.3583689)\n",
      "Риск убытков: 6.0 %\n"
     ]
    }
   ],
   "source": [
    "# для первого региона\n",
    "print('Первый регион')\n",
    "get_statistics(predictions_1, target_valid_1)"
   ]
  },
  {
   "cell_type": "code",
   "execution_count": 44,
   "metadata": {},
   "outputs": [
    {
     "name": "stdout",
     "output_type": "stream",
     "text": [
      "Второй регион\n",
      "Средняя прибыль: 51.52 млн\n",
      "95%-й доверительный интервал:\n",
      "(68873225.37051702, 931547591.2570724)\n",
      "Риск убытков: 1.0 %\n"
     ]
    }
   ],
   "source": [
    "# для второго региона\n",
    "print('Второй регион')\n",
    "get_statistics(predictions_2, target_valid_2)"
   ]
  },
  {
   "cell_type": "code",
   "execution_count": 45,
   "metadata": {},
   "outputs": [
    {
     "name": "stdout",
     "output_type": "stream",
     "text": [
      "Третий регион\n",
      "Средняя прибыль: 43.50 млн\n",
      "95%-й доверительный интервал:\n",
      "(-128880547.32978535, 969706954.1802661)\n",
      "Риск убытков: 6.4 %\n"
     ]
    }
   ],
   "source": [
    "# для третьего региона\n",
    "print('Третий регион')\n",
    "get_statistics(predictions_3, target_valid_3)"
   ]
  },
  {
   "cell_type": "markdown",
   "metadata": {},
   "source": [
    "### Выводы"
   ]
  },
  {
   "cell_type": "markdown",
   "metadata": {},
   "source": [
    "Для первого и третьего регионов риск убытков выше 2,5% (левая граница доверительного интервала – отрицательное число). **Самый низкий риск убытков во втором регионе – всего 1%**.\n",
    "\n",
    "По результатам вычислений **самая высокая средняя прибыль наблюдается во втором регионе – 51,5 млн рублей**.\n"
   ]
  },
  {
   "cell_type": "markdown",
   "metadata": {},
   "source": [
    "## Общий вывод"
   ]
  },
  {
   "cell_type": "markdown",
   "metadata": {},
   "source": [
    "Для построения модели, которая определит самый прибыльный регион для разработки нефти, мы загрузили и подготовили три набора данных.\n",
    "\n",
    "Во всех наборах по 10000 строк. Пропусков и дубликатов нет. Нам доступны три характеристики по каждому объекту. Все они являются числовыми, категориальных нет. \n",
    "\n",
    "Для каждого набора данных мы выделили переменные, содержащие характеристики и целевой признак, и полученные переменные разбили на обучающие и валидационные выборки. После масштабирования числовые характеристики во всех датасетах находятся в диапазоне от -4 до 4.\n",
    "\n",
    "Мы обучили модель линейной регрессии для предсказания объема запасов скважины по ее характеристикам для каждого региона.\n",
    "\n",
    "Самая удачная модель – модель, разработанная для второго региона, у нее самая низкая оценка RMSE (0.893). \n",
    "\n",
    "Мы провели анализ среднего запаса сырья. Самый высокий - в третьем и первом регионах.\n",
    "\n",
    "На разработку одной скважины в среднем тратится 50 000 000 рублей. Для безубыточной разработки необходимо, чтобы минимальный объём запаса скважины составлял 111 тыс. баррелей.\n",
    "\n",
    "Ближе всего к искомым показателям средние запасы первого и третьего регионов.\n",
    "\n",
    "По результатам исследования **самым выгодным для разработки нам кажется второй регион**, так как он:\n",
    "\n",
    "- по прогнозируемой средней прибыли занимает первое место (51,5 млн рублей)\n",
    "- риск убытков для этого региона самый низкий из всех проанализированных (1%)\n"
   ]
  }
 ],
 "metadata": {
  "ExecuteTimeLog": [
   {
    "duration": 4,
    "start_time": "2023-04-05T17:22:45.052Z"
   },
   {
    "duration": 63,
    "start_time": "2023-04-05T17:24:24.584Z"
   },
   {
    "duration": 2,
    "start_time": "2023-04-05T17:25:40.441Z"
   },
   {
    "duration": 380,
    "start_time": "2023-04-05T17:26:01.665Z"
   },
   {
    "duration": 52,
    "start_time": "2023-04-05T17:27:32.855Z"
   },
   {
    "duration": 53,
    "start_time": "2023-04-05T17:42:37.766Z"
   },
   {
    "duration": 67,
    "start_time": "2023-04-05T17:42:44.176Z"
   },
   {
    "duration": 7,
    "start_time": "2023-04-05T17:42:52.030Z"
   },
   {
    "duration": 828,
    "start_time": "2023-04-05T17:43:02.078Z"
   },
   {
    "duration": 14,
    "start_time": "2023-04-05T17:43:43.391Z"
   },
   {
    "duration": 685,
    "start_time": "2023-04-05T17:44:00.271Z"
   },
   {
    "duration": 416,
    "start_time": "2023-04-05T17:44:22.639Z"
   },
   {
    "duration": 423,
    "start_time": "2023-04-05T17:44:30.160Z"
   },
   {
    "duration": 3,
    "start_time": "2023-04-05T17:45:31.792Z"
   },
   {
    "duration": 124,
    "start_time": "2023-04-05T17:45:43.414Z"
   },
   {
    "duration": 3,
    "start_time": "2023-04-05T17:45:51.392Z"
   },
   {
    "duration": 132,
    "start_time": "2023-04-05T17:45:52.761Z"
   },
   {
    "duration": 3,
    "start_time": "2023-04-05T17:46:16.481Z"
   },
   {
    "duration": 139,
    "start_time": "2023-04-05T17:46:17.705Z"
   },
   {
    "duration": 3,
    "start_time": "2023-04-05T17:46:24.735Z"
   },
   {
    "duration": 530,
    "start_time": "2023-04-05T17:46:26.585Z"
   },
   {
    "duration": 4,
    "start_time": "2023-04-05T17:48:07.854Z"
   },
   {
    "duration": 530,
    "start_time": "2023-04-05T17:48:12.953Z"
   },
   {
    "duration": 4,
    "start_time": "2023-04-05T17:48:27.621Z"
   },
   {
    "duration": 524,
    "start_time": "2023-04-05T17:48:31.890Z"
   },
   {
    "duration": 742,
    "start_time": "2023-04-05T17:50:16.348Z"
   },
   {
    "duration": 642,
    "start_time": "2023-04-05T17:50:48.805Z"
   },
   {
    "duration": 406,
    "start_time": "2023-04-07T11:19:17.229Z"
   },
   {
    "duration": 4,
    "start_time": "2023-04-07T11:19:17.636Z"
   },
   {
    "duration": 1296,
    "start_time": "2023-04-07T11:19:17.641Z"
   },
   {
    "duration": 642,
    "start_time": "2023-04-07T11:19:18.940Z"
   },
   {
    "duration": 618,
    "start_time": "2023-04-07T11:19:19.584Z"
   },
   {
    "duration": 45,
    "start_time": "2023-04-07T11:20:11.728Z"
   },
   {
    "duration": 42,
    "start_time": "2023-04-07T11:20:17.745Z"
   },
   {
    "duration": 40,
    "start_time": "2023-04-07T11:20:22.336Z"
   },
   {
    "duration": 38,
    "start_time": "2023-04-07T11:20:35.416Z"
   },
   {
    "duration": 43,
    "start_time": "2023-04-07T11:20:42.336Z"
   },
   {
    "duration": 9,
    "start_time": "2023-04-07T11:21:06.609Z"
   },
   {
    "duration": 15,
    "start_time": "2023-04-07T11:21:17.200Z"
   },
   {
    "duration": 9,
    "start_time": "2023-04-07T11:21:33.450Z"
   },
   {
    "duration": 11,
    "start_time": "2023-04-07T11:21:46.959Z"
   },
   {
    "duration": 8,
    "start_time": "2023-04-07T11:21:53.601Z"
   },
   {
    "duration": 287,
    "start_time": "2023-04-07T12:10:15.031Z"
   },
   {
    "duration": 253,
    "start_time": "2023-04-07T12:10:20.541Z"
   },
   {
    "duration": 296,
    "start_time": "2023-04-07T12:10:40.835Z"
   },
   {
    "duration": 281,
    "start_time": "2023-04-07T12:10:47.749Z"
   },
   {
    "duration": 353,
    "start_time": "2023-04-07T12:11:02.602Z"
   },
   {
    "duration": 294,
    "start_time": "2023-04-07T12:11:24.422Z"
   },
   {
    "duration": 293,
    "start_time": "2023-04-07T12:11:30.839Z"
   },
   {
    "duration": 3,
    "start_time": "2023-04-07T12:12:07.381Z"
   },
   {
    "duration": 873,
    "start_time": "2023-04-07T12:13:26.314Z"
   },
   {
    "duration": 3,
    "start_time": "2023-04-07T12:13:33.725Z"
   },
   {
    "duration": 50,
    "start_time": "2023-04-07T12:14:40.011Z"
   },
   {
    "duration": 288,
    "start_time": "2023-04-07T12:14:49.915Z"
   },
   {
    "duration": 344,
    "start_time": "2023-04-07T12:15:31.107Z"
   },
   {
    "duration": 1039,
    "start_time": "2023-04-09T12:41:15.221Z"
   },
   {
    "duration": 3,
    "start_time": "2023-04-09T12:41:16.262Z"
   },
   {
    "duration": 1471,
    "start_time": "2023-04-09T12:41:16.267Z"
   },
   {
    "duration": 545,
    "start_time": "2023-04-09T12:41:17.740Z"
   },
   {
    "duration": 559,
    "start_time": "2023-04-09T12:41:18.287Z"
   },
   {
    "duration": 39,
    "start_time": "2023-04-09T12:41:18.848Z"
   },
   {
    "duration": 31,
    "start_time": "2023-04-09T12:41:18.889Z"
   },
   {
    "duration": 50,
    "start_time": "2023-04-09T12:41:18.921Z"
   },
   {
    "duration": 8,
    "start_time": "2023-04-09T12:41:18.973Z"
   },
   {
    "duration": 7,
    "start_time": "2023-04-09T12:41:18.983Z"
   },
   {
    "duration": 7,
    "start_time": "2023-04-09T12:41:18.992Z"
   },
   {
    "duration": 3,
    "start_time": "2023-04-09T12:41:19.000Z"
   },
   {
    "duration": 286,
    "start_time": "2023-04-09T12:41:19.004Z"
   },
   {
    "duration": 283,
    "start_time": "2023-04-09T12:41:19.292Z"
   },
   {
    "duration": 269,
    "start_time": "2023-04-09T12:41:19.576Z"
   },
   {
    "duration": 3,
    "start_time": "2023-04-09T12:41:19.846Z"
   },
   {
    "duration": 3,
    "start_time": "2023-04-09T12:41:19.850Z"
   },
   {
    "duration": 43,
    "start_time": "2023-04-09T12:41:19.854Z"
   },
   {
    "duration": 267,
    "start_time": "2023-04-09T12:41:19.898Z"
   },
   {
    "duration": 308,
    "start_time": "2023-04-09T12:41:20.167Z"
   },
   {
    "duration": 390,
    "start_time": "2023-04-09T12:43:59.986Z"
   },
   {
    "duration": 362,
    "start_time": "2023-04-09T12:44:36.491Z"
   },
   {
    "duration": 99,
    "start_time": "2023-04-09T12:46:51.492Z"
   },
   {
    "duration": 12,
    "start_time": "2023-04-09T12:47:01.284Z"
   },
   {
    "duration": 742,
    "start_time": "2023-04-09T12:47:53.468Z"
   },
   {
    "duration": 13,
    "start_time": "2023-04-09T12:48:18.022Z"
   },
   {
    "duration": 2,
    "start_time": "2023-04-09T12:48:42.606Z"
   },
   {
    "duration": 4,
    "start_time": "2023-04-09T12:48:48.588Z"
   },
   {
    "duration": 9,
    "start_time": "2023-04-09T12:49:08.469Z"
   },
   {
    "duration": 5,
    "start_time": "2023-04-09T12:49:28.078Z"
   },
   {
    "duration": 10,
    "start_time": "2023-04-09T12:49:51.764Z"
   },
   {
    "duration": 5,
    "start_time": "2023-04-09T12:49:54.180Z"
   },
   {
    "duration": 2,
    "start_time": "2023-04-09T12:54:54.674Z"
   },
   {
    "duration": 9,
    "start_time": "2023-04-09T12:55:08.128Z"
   },
   {
    "duration": 15,
    "start_time": "2023-04-09T12:55:56.981Z"
   },
   {
    "duration": 10,
    "start_time": "2023-04-09T12:56:04.187Z"
   },
   {
    "duration": 4,
    "start_time": "2023-04-09T12:56:19.849Z"
   },
   {
    "duration": 11,
    "start_time": "2023-04-09T13:52:48.217Z"
   },
   {
    "duration": 8,
    "start_time": "2023-04-09T13:52:52.499Z"
   },
   {
    "duration": 9,
    "start_time": "2023-04-09T13:52:59.945Z"
   },
   {
    "duration": 9,
    "start_time": "2023-04-09T13:53:01.918Z"
   },
   {
    "duration": 35,
    "start_time": "2023-04-09T13:53:23.368Z"
   },
   {
    "duration": 32,
    "start_time": "2023-04-09T13:53:44.504Z"
   },
   {
    "duration": 33,
    "start_time": "2023-04-09T13:53:47.313Z"
   },
   {
    "duration": 3,
    "start_time": "2023-04-09T14:01:12.312Z"
   },
   {
    "duration": 513,
    "start_time": "2023-04-09T14:01:15.802Z"
   },
   {
    "duration": 3,
    "start_time": "2023-04-09T14:01:30.337Z"
   },
   {
    "duration": 490,
    "start_time": "2023-04-09T14:01:32.540Z"
   },
   {
    "duration": 499,
    "start_time": "2023-04-09T14:01:52.086Z"
   },
   {
    "duration": 2,
    "start_time": "2023-04-09T14:01:58.991Z"
   },
   {
    "duration": 13,
    "start_time": "2023-04-09T14:01:58.997Z"
   },
   {
    "duration": 3,
    "start_time": "2023-04-09T14:01:59.093Z"
   },
   {
    "duration": 574,
    "start_time": "2023-04-09T14:01:59.099Z"
   },
   {
    "duration": 511,
    "start_time": "2023-04-09T14:01:59.675Z"
   },
   {
    "duration": 508,
    "start_time": "2023-04-09T14:02:00.188Z"
   },
   {
    "duration": 45,
    "start_time": "2023-04-09T14:02:00.697Z"
   },
   {
    "duration": 36,
    "start_time": "2023-04-09T14:02:00.744Z"
   },
   {
    "duration": 35,
    "start_time": "2023-04-09T14:02:00.781Z"
   },
   {
    "duration": 27,
    "start_time": "2023-04-09T14:02:00.818Z"
   },
   {
    "duration": 14,
    "start_time": "2023-04-09T14:02:00.846Z"
   },
   {
    "duration": 26,
    "start_time": "2023-04-09T14:02:00.861Z"
   },
   {
    "duration": 47,
    "start_time": "2023-04-09T14:02:00.889Z"
   },
   {
    "duration": 294,
    "start_time": "2023-04-09T14:02:00.938Z"
   },
   {
    "duration": 296,
    "start_time": "2023-04-09T14:02:01.239Z"
   },
   {
    "duration": 343,
    "start_time": "2023-04-09T14:02:01.536Z"
   },
   {
    "duration": 2,
    "start_time": "2023-04-09T14:02:01.881Z"
   },
   {
    "duration": 38,
    "start_time": "2023-04-09T14:02:01.884Z"
   },
   {
    "duration": 44,
    "start_time": "2023-04-09T14:02:01.924Z"
   },
   {
    "duration": 287,
    "start_time": "2023-04-09T14:02:01.969Z"
   },
   {
    "duration": 317,
    "start_time": "2023-04-09T14:02:02.258Z"
   },
   {
    "duration": 320,
    "start_time": "2023-04-09T14:02:02.577Z"
   },
   {
    "duration": 14,
    "start_time": "2023-04-09T14:02:02.899Z"
   },
   {
    "duration": 29,
    "start_time": "2023-04-09T14:02:02.914Z"
   },
   {
    "duration": 8,
    "start_time": "2023-04-09T14:02:02.945Z"
   },
   {
    "duration": 12,
    "start_time": "2023-04-09T14:02:02.954Z"
   },
   {
    "duration": 10,
    "start_time": "2023-04-09T14:02:02.967Z"
   },
   {
    "duration": 11,
    "start_time": "2023-04-09T14:02:02.978Z"
   },
   {
    "duration": 8,
    "start_time": "2023-04-09T14:02:02.990Z"
   },
   {
    "duration": 12,
    "start_time": "2023-04-09T14:02:02.999Z"
   },
   {
    "duration": 23,
    "start_time": "2023-04-09T14:02:03.018Z"
   },
   {
    "duration": 39,
    "start_time": "2023-04-09T14:02:03.043Z"
   },
   {
    "duration": 32,
    "start_time": "2023-04-09T14:02:03.083Z"
   },
   {
    "duration": 47,
    "start_time": "2023-04-09T14:02:03.116Z"
   },
   {
    "duration": 19,
    "start_time": "2023-04-09T14:03:22.223Z"
   },
   {
    "duration": 147,
    "start_time": "2023-04-09T14:10:29.906Z"
   },
   {
    "duration": 4,
    "start_time": "2023-04-09T14:10:44.207Z"
   },
   {
    "duration": 3,
    "start_time": "2023-04-09T14:21:05.745Z"
   },
   {
    "duration": 4,
    "start_time": "2023-04-09T14:21:19.048Z"
   },
   {
    "duration": 4,
    "start_time": "2023-04-09T14:22:00.451Z"
   },
   {
    "duration": 2,
    "start_time": "2023-04-09T14:22:34.146Z"
   },
   {
    "duration": 17,
    "start_time": "2023-04-09T14:23:17.147Z"
   },
   {
    "duration": 4,
    "start_time": "2023-04-09T14:23:18.282Z"
   },
   {
    "duration": 4,
    "start_time": "2023-04-09T14:23:19.163Z"
   },
   {
    "duration": 45,
    "start_time": "2023-04-09T14:23:23.571Z"
   },
   {
    "duration": 10,
    "start_time": "2023-04-09T14:23:30.434Z"
   },
   {
    "duration": 12,
    "start_time": "2023-04-09T14:25:31.525Z"
   },
   {
    "duration": 4,
    "start_time": "2023-04-09T14:25:32.573Z"
   },
   {
    "duration": 9,
    "start_time": "2023-04-09T14:25:35.372Z"
   },
   {
    "duration": 4,
    "start_time": "2023-04-09T14:25:36.068Z"
   },
   {
    "duration": 19,
    "start_time": "2023-04-09T14:25:40.207Z"
   },
   {
    "duration": 4,
    "start_time": "2023-04-09T14:25:42.868Z"
   },
   {
    "duration": 4,
    "start_time": "2023-04-09T14:25:49.284Z"
   },
   {
    "duration": 13,
    "start_time": "2023-04-09T14:26:31.546Z"
   },
   {
    "duration": 5,
    "start_time": "2023-04-09T14:26:38.966Z"
   },
   {
    "duration": 4,
    "start_time": "2023-04-09T14:26:44.758Z"
   },
   {
    "duration": 5,
    "start_time": "2023-04-09T14:26:55.207Z"
   },
   {
    "duration": 4,
    "start_time": "2023-04-09T14:27:02.854Z"
   },
   {
    "duration": 13,
    "start_time": "2023-04-09T14:27:05.813Z"
   },
   {
    "duration": 4,
    "start_time": "2023-04-09T14:27:15.929Z"
   },
   {
    "duration": 4,
    "start_time": "2023-04-09T14:27:20.181Z"
   },
   {
    "duration": 4,
    "start_time": "2023-04-09T14:27:58.894Z"
   },
   {
    "duration": 9,
    "start_time": "2023-04-09T14:30:50.135Z"
   },
   {
    "duration": 4,
    "start_time": "2023-04-09T14:30:57.825Z"
   },
   {
    "duration": 4,
    "start_time": "2023-04-09T14:31:07.311Z"
   },
   {
    "duration": 5,
    "start_time": "2023-04-09T15:05:36.568Z"
   },
   {
    "duration": 4,
    "start_time": "2023-04-09T15:05:36.575Z"
   },
   {
    "duration": 6,
    "start_time": "2023-04-09T15:05:36.581Z"
   },
   {
    "duration": 649,
    "start_time": "2023-04-09T15:05:36.588Z"
   },
   {
    "duration": 675,
    "start_time": "2023-04-09T15:05:37.239Z"
   },
   {
    "duration": 597,
    "start_time": "2023-04-09T15:05:37.915Z"
   },
   {
    "duration": 62,
    "start_time": "2023-04-09T15:05:38.514Z"
   },
   {
    "duration": 36,
    "start_time": "2023-04-09T15:05:38.578Z"
   },
   {
    "duration": 67,
    "start_time": "2023-04-09T15:05:38.615Z"
   },
   {
    "duration": 8,
    "start_time": "2023-04-09T15:05:38.684Z"
   },
   {
    "duration": 18,
    "start_time": "2023-04-09T15:05:38.694Z"
   },
   {
    "duration": 19,
    "start_time": "2023-04-09T15:05:38.714Z"
   },
   {
    "duration": 2,
    "start_time": "2023-04-09T15:05:38.736Z"
   },
   {
    "duration": 321,
    "start_time": "2023-04-09T15:05:38.739Z"
   },
   {
    "duration": 315,
    "start_time": "2023-04-09T15:05:39.061Z"
   },
   {
    "duration": 313,
    "start_time": "2023-04-09T15:05:39.377Z"
   },
   {
    "duration": 3,
    "start_time": "2023-04-09T15:05:39.692Z"
   },
   {
    "duration": 4,
    "start_time": "2023-04-09T15:05:39.696Z"
   },
   {
    "duration": 72,
    "start_time": "2023-04-09T15:05:39.702Z"
   },
   {
    "duration": 393,
    "start_time": "2023-04-09T15:05:39.776Z"
   },
   {
    "duration": 319,
    "start_time": "2023-04-09T15:05:40.171Z"
   },
   {
    "duration": 318,
    "start_time": "2023-04-09T15:05:40.491Z"
   },
   {
    "duration": 12,
    "start_time": "2023-04-09T15:05:40.810Z"
   },
   {
    "duration": 41,
    "start_time": "2023-04-09T15:05:40.824Z"
   },
   {
    "duration": 6,
    "start_time": "2023-04-09T15:05:40.866Z"
   },
   {
    "duration": 19,
    "start_time": "2023-04-09T15:05:40.873Z"
   },
   {
    "duration": 7,
    "start_time": "2023-04-09T15:05:40.893Z"
   },
   {
    "duration": 9,
    "start_time": "2023-04-09T15:05:40.901Z"
   },
   {
    "duration": 5,
    "start_time": "2023-04-09T15:05:40.911Z"
   },
   {
    "duration": 15,
    "start_time": "2023-04-09T15:05:40.917Z"
   },
   {
    "duration": 3,
    "start_time": "2023-04-09T15:05:40.934Z"
   },
   {
    "duration": 25,
    "start_time": "2023-04-09T15:05:40.938Z"
   },
   {
    "duration": 17,
    "start_time": "2023-04-09T15:05:40.964Z"
   },
   {
    "duration": 16,
    "start_time": "2023-04-09T15:05:40.982Z"
   },
   {
    "duration": 7,
    "start_time": "2023-04-09T15:05:40.999Z"
   },
   {
    "duration": 49,
    "start_time": "2023-04-09T15:05:41.008Z"
   },
   {
    "duration": 80,
    "start_time": "2023-04-09T15:05:41.065Z"
   },
   {
    "duration": 7,
    "start_time": "2023-04-09T15:05:41.146Z"
   },
   {
    "duration": 24,
    "start_time": "2023-04-09T15:05:41.156Z"
   },
   {
    "duration": 70,
    "start_time": "2023-04-09T15:05:41.181Z"
   },
   {
    "duration": 7,
    "start_time": "2023-04-09T15:05:41.252Z"
   },
   {
    "duration": 109,
    "start_time": "2023-04-09T15:05:41.261Z"
   },
   {
    "duration": 13,
    "start_time": "2023-04-09T15:05:41.375Z"
   },
   {
    "duration": 9,
    "start_time": "2023-04-09T15:05:41.451Z"
   },
   {
    "duration": 4,
    "start_time": "2023-04-09T15:11:09.359Z"
   },
   {
    "duration": 4,
    "start_time": "2023-04-09T15:13:55.431Z"
   },
   {
    "duration": 3,
    "start_time": "2023-04-09T15:14:24.369Z"
   },
   {
    "duration": 3,
    "start_time": "2023-04-09T15:14:51.984Z"
   },
   {
    "duration": 4,
    "start_time": "2023-04-09T15:17:33.352Z"
   },
   {
    "duration": 6,
    "start_time": "2023-04-09T15:19:39.280Z"
   },
   {
    "duration": 3,
    "start_time": "2023-04-09T15:21:06.819Z"
   },
   {
    "duration": 9,
    "start_time": "2023-04-09T15:22:02.862Z"
   },
   {
    "duration": 8,
    "start_time": "2023-04-09T15:22:13.257Z"
   },
   {
    "duration": 24,
    "start_time": "2023-04-09T15:22:16.891Z"
   },
   {
    "duration": 8,
    "start_time": "2023-04-09T15:22:35.655Z"
   },
   {
    "duration": 17,
    "start_time": "2023-04-09T15:23:42.553Z"
   },
   {
    "duration": 9,
    "start_time": "2023-04-09T15:24:08.368Z"
   },
   {
    "duration": 10,
    "start_time": "2023-04-09T15:24:21.971Z"
   },
   {
    "duration": 31,
    "start_time": "2023-04-09T15:25:19.017Z"
   },
   {
    "duration": 16,
    "start_time": "2023-04-09T15:25:36.654Z"
   },
   {
    "duration": 40,
    "start_time": "2023-04-09T15:26:52.729Z"
   },
   {
    "duration": 16,
    "start_time": "2023-04-09T15:27:05.160Z"
   },
   {
    "duration": 8,
    "start_time": "2023-04-09T15:30:39.472Z"
   },
   {
    "duration": 128,
    "start_time": "2023-04-09T15:30:59.020Z"
   },
   {
    "duration": 4,
    "start_time": "2023-04-09T15:31:23.420Z"
   },
   {
    "duration": 4,
    "start_time": "2023-04-09T15:31:32.990Z"
   },
   {
    "duration": 7,
    "start_time": "2023-04-09T15:33:33.852Z"
   },
   {
    "duration": 4,
    "start_time": "2023-04-09T16:22:37.345Z"
   },
   {
    "duration": 6,
    "start_time": "2023-04-09T16:24:21.284Z"
   },
   {
    "duration": 33,
    "start_time": "2023-04-09T16:25:09.807Z"
   },
   {
    "duration": 22,
    "start_time": "2023-04-09T16:26:12.368Z"
   },
   {
    "duration": 3,
    "start_time": "2023-04-09T16:26:26.375Z"
   },
   {
    "duration": 23,
    "start_time": "2023-04-09T16:26:29.101Z"
   },
   {
    "duration": 3,
    "start_time": "2023-04-09T16:26:47.297Z"
   },
   {
    "duration": 15,
    "start_time": "2023-04-09T16:26:50.136Z"
   },
   {
    "duration": 3,
    "start_time": "2023-04-09T16:27:39.466Z"
   },
   {
    "duration": 17,
    "start_time": "2023-04-09T16:27:43.770Z"
   },
   {
    "duration": 3,
    "start_time": "2023-04-09T16:28:03.211Z"
   },
   {
    "duration": 30,
    "start_time": "2023-04-09T16:28:06.801Z"
   },
   {
    "duration": 4,
    "start_time": "2023-04-09T16:28:25.426Z"
   },
   {
    "duration": 3,
    "start_time": "2023-04-09T16:28:54.322Z"
   },
   {
    "duration": 18,
    "start_time": "2023-04-09T16:28:56.299Z"
   },
   {
    "duration": 3,
    "start_time": "2023-04-09T16:29:05.155Z"
   },
   {
    "duration": 16,
    "start_time": "2023-04-09T16:29:09.219Z"
   },
   {
    "duration": 12,
    "start_time": "2023-04-09T16:29:26.083Z"
   },
   {
    "duration": 5,
    "start_time": "2023-04-09T16:30:01.203Z"
   },
   {
    "duration": 371,
    "start_time": "2023-04-09T16:30:23.522Z"
   },
   {
    "duration": 5,
    "start_time": "2023-04-09T16:30:29.797Z"
   },
   {
    "duration": 3,
    "start_time": "2023-04-09T16:30:46.450Z"
   },
   {
    "duration": 16,
    "start_time": "2023-04-09T16:30:48.334Z"
   },
   {
    "duration": 15,
    "start_time": "2023-04-09T16:31:13.997Z"
   },
   {
    "duration": 4,
    "start_time": "2023-04-09T16:31:23.241Z"
   },
   {
    "duration": 6,
    "start_time": "2023-04-09T16:31:32.988Z"
   },
   {
    "duration": 17,
    "start_time": "2023-04-09T16:31:38.766Z"
   },
   {
    "duration": 5,
    "start_time": "2023-04-09T16:31:54.908Z"
   },
   {
    "duration": 8,
    "start_time": "2023-04-09T16:32:08.356Z"
   },
   {
    "duration": 4,
    "start_time": "2023-04-09T16:32:27.789Z"
   },
   {
    "duration": 3,
    "start_time": "2023-04-09T16:32:34.487Z"
   },
   {
    "duration": 3,
    "start_time": "2023-04-09T16:32:41.569Z"
   },
   {
    "duration": 2,
    "start_time": "2023-04-09T16:32:41.577Z"
   },
   {
    "duration": 3,
    "start_time": "2023-04-09T16:32:41.583Z"
   },
   {
    "duration": 587,
    "start_time": "2023-04-09T16:32:41.590Z"
   },
   {
    "duration": 532,
    "start_time": "2023-04-09T16:32:42.179Z"
   },
   {
    "duration": 568,
    "start_time": "2023-04-09T16:32:42.713Z"
   },
   {
    "duration": 48,
    "start_time": "2023-04-09T16:32:43.286Z"
   },
   {
    "duration": 48,
    "start_time": "2023-04-09T16:32:43.336Z"
   },
   {
    "duration": 37,
    "start_time": "2023-04-09T16:32:43.386Z"
   },
   {
    "duration": 32,
    "start_time": "2023-04-09T16:32:43.425Z"
   },
   {
    "duration": 10,
    "start_time": "2023-04-09T16:32:43.459Z"
   },
   {
    "duration": 13,
    "start_time": "2023-04-09T16:32:43.471Z"
   },
   {
    "duration": 3,
    "start_time": "2023-04-09T16:32:43.486Z"
   },
   {
    "duration": 404,
    "start_time": "2023-04-09T16:32:43.490Z"
   },
   {
    "duration": 306,
    "start_time": "2023-04-09T16:32:43.895Z"
   },
   {
    "duration": 306,
    "start_time": "2023-04-09T16:32:44.203Z"
   },
   {
    "duration": 2,
    "start_time": "2023-04-09T16:32:44.511Z"
   },
   {
    "duration": 6,
    "start_time": "2023-04-09T16:32:44.515Z"
   },
   {
    "duration": 72,
    "start_time": "2023-04-09T16:32:44.523Z"
   },
   {
    "duration": 285,
    "start_time": "2023-04-09T16:32:44.597Z"
   },
   {
    "duration": 330,
    "start_time": "2023-04-09T16:32:44.884Z"
   },
   {
    "duration": 389,
    "start_time": "2023-04-09T16:32:45.216Z"
   },
   {
    "duration": 12,
    "start_time": "2023-04-09T16:32:45.607Z"
   },
   {
    "duration": 33,
    "start_time": "2023-04-09T16:32:45.621Z"
   },
   {
    "duration": 5,
    "start_time": "2023-04-09T16:32:45.656Z"
   },
   {
    "duration": 8,
    "start_time": "2023-04-09T16:32:45.662Z"
   },
   {
    "duration": 5,
    "start_time": "2023-04-09T16:32:45.671Z"
   },
   {
    "duration": 9,
    "start_time": "2023-04-09T16:32:45.677Z"
   },
   {
    "duration": 7,
    "start_time": "2023-04-09T16:32:45.687Z"
   },
   {
    "duration": 9,
    "start_time": "2023-04-09T16:32:45.696Z"
   },
   {
    "duration": 4,
    "start_time": "2023-04-09T16:32:45.708Z"
   },
   {
    "duration": 36,
    "start_time": "2023-04-09T16:32:45.713Z"
   },
   {
    "duration": 5,
    "start_time": "2023-04-09T16:32:45.754Z"
   },
   {
    "duration": 11,
    "start_time": "2023-04-09T16:32:45.761Z"
   },
   {
    "duration": 4,
    "start_time": "2023-04-09T16:32:45.773Z"
   },
   {
    "duration": 22,
    "start_time": "2023-04-09T16:32:45.779Z"
   },
   {
    "duration": 137,
    "start_time": "2023-04-09T16:32:45.802Z"
   },
   {
    "duration": 9,
    "start_time": "2023-04-09T16:32:45.940Z"
   },
   {
    "duration": 13,
    "start_time": "2023-04-09T16:32:45.950Z"
   },
   {
    "duration": 7,
    "start_time": "2023-04-09T16:32:45.965Z"
   },
   {
    "duration": 15,
    "start_time": "2023-04-09T16:32:46.050Z"
   },
   {
    "duration": 94,
    "start_time": "2023-04-09T16:32:46.066Z"
   },
   {
    "duration": 5,
    "start_time": "2023-04-09T16:32:46.161Z"
   },
   {
    "duration": 17,
    "start_time": "2023-04-09T16:32:46.242Z"
   },
   {
    "duration": 14,
    "start_time": "2023-04-09T16:32:46.260Z"
   },
   {
    "duration": 6,
    "start_time": "2023-04-09T16:32:46.341Z"
   },
   {
    "duration": 4,
    "start_time": "2023-04-09T16:32:46.349Z"
   },
   {
    "duration": 6,
    "start_time": "2023-04-09T16:32:46.354Z"
   },
   {
    "duration": 4,
    "start_time": "2023-04-09T16:32:46.362Z"
   },
   {
    "duration": 15,
    "start_time": "2023-04-09T16:32:46.368Z"
   },
   {
    "duration": 6,
    "start_time": "2023-04-09T16:32:46.384Z"
   },
   {
    "duration": 3,
    "start_time": "2023-04-09T16:32:46.391Z"
   },
   {
    "duration": 49,
    "start_time": "2023-04-09T16:32:46.396Z"
   },
   {
    "duration": 5,
    "start_time": "2023-04-09T16:32:46.446Z"
   },
   {
    "duration": 15,
    "start_time": "2023-04-09T16:32:46.452Z"
   },
   {
    "duration": 17,
    "start_time": "2023-04-09T16:32:46.468Z"
   },
   {
    "duration": 5,
    "start_time": "2023-04-09T16:33:06.301Z"
   },
   {
    "duration": 4,
    "start_time": "2023-04-09T16:33:15.982Z"
   },
   {
    "duration": 3,
    "start_time": "2023-04-09T16:33:20.580Z"
   },
   {
    "duration": 15,
    "start_time": "2023-04-09T16:33:23.668Z"
   },
   {
    "duration": 3,
    "start_time": "2023-04-09T16:33:34.566Z"
   },
   {
    "duration": 16,
    "start_time": "2023-04-09T16:33:37.165Z"
   },
   {
    "duration": 15,
    "start_time": "2023-04-09T16:33:45.253Z"
   },
   {
    "duration": 16,
    "start_time": "2023-04-09T16:34:24.871Z"
   },
   {
    "duration": 15,
    "start_time": "2023-04-09T16:34:27.590Z"
   },
   {
    "duration": 1205,
    "start_time": "2023-04-11T19:02:52.172Z"
   },
   {
    "duration": 3,
    "start_time": "2023-04-11T19:02:53.379Z"
   },
   {
    "duration": 20,
    "start_time": "2023-04-11T19:02:53.384Z"
   },
   {
    "duration": 1564,
    "start_time": "2023-04-11T19:02:53.405Z"
   },
   {
    "duration": 1433,
    "start_time": "2023-04-11T19:02:54.972Z"
   },
   {
    "duration": 1379,
    "start_time": "2023-04-11T19:02:56.408Z"
   },
   {
    "duration": 73,
    "start_time": "2023-04-11T19:02:57.789Z"
   },
   {
    "duration": 50,
    "start_time": "2023-04-11T19:02:57.866Z"
   },
   {
    "duration": 59,
    "start_time": "2023-04-11T19:02:57.918Z"
   },
   {
    "duration": 17,
    "start_time": "2023-04-11T19:02:57.978Z"
   },
   {
    "duration": 77,
    "start_time": "2023-04-11T19:02:57.997Z"
   },
   {
    "duration": 32,
    "start_time": "2023-04-11T19:02:58.076Z"
   },
   {
    "duration": 61,
    "start_time": "2023-04-11T19:02:58.111Z"
   },
   {
    "duration": 398,
    "start_time": "2023-04-11T19:02:58.175Z"
   },
   {
    "duration": 392,
    "start_time": "2023-04-11T19:02:58.576Z"
   },
   {
    "duration": 412,
    "start_time": "2023-04-11T19:02:58.970Z"
   },
   {
    "duration": 3,
    "start_time": "2023-04-11T19:02:59.384Z"
   },
   {
    "duration": 27,
    "start_time": "2023-04-11T19:02:59.390Z"
   },
   {
    "duration": 85,
    "start_time": "2023-04-11T19:02:59.419Z"
   },
   {
    "duration": 386,
    "start_time": "2023-04-11T19:02:59.506Z"
   },
   {
    "duration": 564,
    "start_time": "2023-04-11T19:02:59.893Z"
   },
   {
    "duration": 445,
    "start_time": "2023-04-11T19:03:00.460Z"
   },
   {
    "duration": 18,
    "start_time": "2023-04-11T19:03:00.907Z"
   },
   {
    "duration": 52,
    "start_time": "2023-04-11T19:03:00.927Z"
   },
   {
    "duration": 20,
    "start_time": "2023-04-11T19:03:00.981Z"
   },
   {
    "duration": 49,
    "start_time": "2023-04-11T19:03:01.003Z"
   },
   {
    "duration": 60,
    "start_time": "2023-04-11T19:03:01.054Z"
   },
   {
    "duration": 82,
    "start_time": "2023-04-11T19:03:01.115Z"
   },
   {
    "duration": 87,
    "start_time": "2023-04-11T19:03:01.199Z"
   },
   {
    "duration": 65,
    "start_time": "2023-04-11T19:03:01.288Z"
   },
   {
    "duration": 50,
    "start_time": "2023-04-11T19:03:01.357Z"
   },
   {
    "duration": 45,
    "start_time": "2023-04-11T19:03:01.409Z"
   },
   {
    "duration": 38,
    "start_time": "2023-04-11T19:03:01.458Z"
   },
   {
    "duration": 61,
    "start_time": "2023-04-11T19:03:01.499Z"
   },
   {
    "duration": 42,
    "start_time": "2023-04-11T19:03:01.562Z"
   },
   {
    "duration": 65,
    "start_time": "2023-04-11T19:03:01.606Z"
   },
   {
    "duration": 172,
    "start_time": "2023-04-11T19:03:01.683Z"
   },
   {
    "duration": 37,
    "start_time": "2023-04-11T19:03:01.859Z"
   },
   {
    "duration": 40,
    "start_time": "2023-04-11T19:03:01.898Z"
   },
   {
    "duration": 109,
    "start_time": "2023-04-11T19:03:01.940Z"
   },
   {
    "duration": 124,
    "start_time": "2023-04-11T19:03:02.062Z"
   },
   {
    "duration": 78,
    "start_time": "2023-04-11T19:03:02.188Z"
   },
   {
    "duration": 170,
    "start_time": "2023-04-11T19:03:02.279Z"
   },
   {
    "duration": 49,
    "start_time": "2023-04-11T19:03:02.451Z"
   },
   {
    "duration": 29,
    "start_time": "2023-04-11T19:03:02.502Z"
   },
   {
    "duration": 50,
    "start_time": "2023-04-11T19:03:02.533Z"
   },
   {
    "duration": 21,
    "start_time": "2023-04-11T19:03:02.585Z"
   },
   {
    "duration": 34,
    "start_time": "2023-04-11T19:03:02.608Z"
   },
   {
    "duration": 25,
    "start_time": "2023-04-11T19:03:02.652Z"
   },
   {
    "duration": 23,
    "start_time": "2023-04-11T19:03:02.679Z"
   },
   {
    "duration": 17,
    "start_time": "2023-04-11T19:03:02.704Z"
   },
   {
    "duration": 14,
    "start_time": "2023-04-11T19:03:02.723Z"
   },
   {
    "duration": 53,
    "start_time": "2023-04-11T19:03:02.739Z"
   },
   {
    "duration": 29,
    "start_time": "2023-04-11T19:03:02.794Z"
   },
   {
    "duration": 30,
    "start_time": "2023-04-11T19:03:02.825Z"
   },
   {
    "duration": 44,
    "start_time": "2023-04-11T19:03:02.862Z"
   },
   {
    "duration": 37,
    "start_time": "2023-04-11T19:03:02.908Z"
   },
   {
    "duration": 76,
    "start_time": "2023-04-11T19:03:02.947Z"
   },
   {
    "duration": 112,
    "start_time": "2023-04-11T19:21:43.227Z"
   },
   {
    "duration": 4,
    "start_time": "2023-04-11T19:21:50.319Z"
   },
   {
    "duration": 83,
    "start_time": "2023-04-11T19:22:38.018Z"
   },
   {
    "duration": 120,
    "start_time": "2023-04-11T19:22:42.018Z"
   },
   {
    "duration": 16,
    "start_time": "2023-04-11T19:23:28.654Z"
   },
   {
    "duration": 16,
    "start_time": "2023-04-11T19:24:01.216Z"
   },
   {
    "duration": 18,
    "start_time": "2023-04-11T19:24:14.584Z"
   },
   {
    "duration": 14,
    "start_time": "2023-04-11T19:24:36.531Z"
   },
   {
    "duration": 10,
    "start_time": "2023-04-11T19:24:47.193Z"
   },
   {
    "duration": 267,
    "start_time": "2023-04-11T19:24:56.529Z"
   },
   {
    "duration": 3,
    "start_time": "2023-04-11T19:29:35.221Z"
   },
   {
    "duration": 12,
    "start_time": "2023-04-11T19:30:33.879Z"
   },
   {
    "duration": 4,
    "start_time": "2023-04-11T19:30:55.377Z"
   },
   {
    "duration": 5,
    "start_time": "2023-04-11T19:31:03.734Z"
   },
   {
    "duration": 13,
    "start_time": "2023-04-11T19:33:21.215Z"
   },
   {
    "duration": 9,
    "start_time": "2023-04-11T19:33:32.962Z"
   },
   {
    "duration": 36,
    "start_time": "2023-04-11T19:33:46.680Z"
   },
   {
    "duration": 6,
    "start_time": "2023-04-11T19:35:52.882Z"
   },
   {
    "duration": 8,
    "start_time": "2023-04-11T19:35:57.162Z"
   },
   {
    "duration": 8,
    "start_time": "2023-04-11T19:36:42.873Z"
   },
   {
    "duration": 8,
    "start_time": "2023-04-11T19:39:54.636Z"
   },
   {
    "duration": 5,
    "start_time": "2023-04-11T19:39:57.823Z"
   },
   {
    "duration": 9,
    "start_time": "2023-04-11T19:42:07.552Z"
   },
   {
    "duration": 10,
    "start_time": "2023-04-11T19:42:12.511Z"
   },
   {
    "duration": 69,
    "start_time": "2023-04-11T19:42:24.359Z"
   },
   {
    "duration": 4,
    "start_time": "2023-04-11T19:42:29.798Z"
   },
   {
    "duration": 209,
    "start_time": "2023-04-11T19:42:32.708Z"
   },
   {
    "duration": 7,
    "start_time": "2023-04-11T19:42:53.883Z"
   },
   {
    "duration": 9,
    "start_time": "2023-04-11T19:44:13.775Z"
   },
   {
    "duration": 4,
    "start_time": "2023-04-11T19:44:24.815Z"
   },
   {
    "duration": 6,
    "start_time": "2023-04-11T19:44:27.166Z"
   },
   {
    "duration": 2,
    "start_time": "2023-04-11T19:45:28.057Z"
   },
   {
    "duration": 187,
    "start_time": "2023-04-11T19:45:53.978Z"
   },
   {
    "duration": 6,
    "start_time": "2023-04-11T19:46:09.505Z"
   },
   {
    "duration": 4,
    "start_time": "2023-04-11T19:46:21.112Z"
   },
   {
    "duration": 4,
    "start_time": "2023-04-11T19:46:28.762Z"
   },
   {
    "duration": 25,
    "start_time": "2023-04-11T19:47:04.969Z"
   },
   {
    "duration": 5,
    "start_time": "2023-04-11T19:47:18.122Z"
   },
   {
    "duration": 5,
    "start_time": "2023-04-11T19:47:31.907Z"
   },
   {
    "duration": 210,
    "start_time": "2023-04-11T19:47:50.644Z"
   },
   {
    "duration": 7,
    "start_time": "2023-04-11T19:47:59.904Z"
   },
   {
    "duration": 4,
    "start_time": "2023-04-11T19:48:09.857Z"
   },
   {
    "duration": 5,
    "start_time": "2023-04-11T19:48:23.674Z"
   },
   {
    "duration": 1512,
    "start_time": "2023-04-12T12:46:39.220Z"
   },
   {
    "duration": 3,
    "start_time": "2023-04-12T12:46:40.734Z"
   },
   {
    "duration": 13,
    "start_time": "2023-04-12T12:46:40.739Z"
   },
   {
    "duration": 1515,
    "start_time": "2023-04-12T12:46:40.754Z"
   },
   {
    "duration": 1054,
    "start_time": "2023-04-12T12:46:42.272Z"
   },
   {
    "duration": 1093,
    "start_time": "2023-04-12T12:46:43.327Z"
   },
   {
    "duration": 50,
    "start_time": "2023-04-12T12:46:44.422Z"
   },
   {
    "duration": 41,
    "start_time": "2023-04-12T12:46:44.484Z"
   },
   {
    "duration": 60,
    "start_time": "2023-04-12T12:46:44.527Z"
   },
   {
    "duration": 11,
    "start_time": "2023-04-12T12:46:44.589Z"
   },
   {
    "duration": 16,
    "start_time": "2023-04-12T12:46:44.602Z"
   },
   {
    "duration": 12,
    "start_time": "2023-04-12T12:46:44.619Z"
   },
   {
    "duration": 2,
    "start_time": "2023-04-12T12:46:44.633Z"
   },
   {
    "duration": 368,
    "start_time": "2023-04-12T12:46:44.638Z"
   },
   {
    "duration": 354,
    "start_time": "2023-04-12T12:46:45.008Z"
   },
   {
    "duration": 374,
    "start_time": "2023-04-12T12:46:45.364Z"
   },
   {
    "duration": 3,
    "start_time": "2023-04-12T12:46:45.741Z"
   },
   {
    "duration": 32,
    "start_time": "2023-04-12T12:46:45.746Z"
   },
   {
    "duration": 80,
    "start_time": "2023-04-12T12:46:45.780Z"
   },
   {
    "duration": 324,
    "start_time": "2023-04-12T12:46:45.862Z"
   },
   {
    "duration": 473,
    "start_time": "2023-04-12T12:46:46.188Z"
   },
   {
    "duration": 333,
    "start_time": "2023-04-12T12:46:46.663Z"
   },
   {
    "duration": 13,
    "start_time": "2023-04-12T12:46:46.998Z"
   },
   {
    "duration": 12,
    "start_time": "2023-04-12T12:46:47.012Z"
   },
   {
    "duration": 5,
    "start_time": "2023-04-12T12:46:47.026Z"
   },
   {
    "duration": 14,
    "start_time": "2023-04-12T12:46:47.032Z"
   },
   {
    "duration": 8,
    "start_time": "2023-04-12T12:46:47.047Z"
   },
   {
    "duration": 36,
    "start_time": "2023-04-12T12:46:47.056Z"
   },
   {
    "duration": 8,
    "start_time": "2023-04-12T12:46:47.094Z"
   },
   {
    "duration": 13,
    "start_time": "2023-04-12T12:46:47.104Z"
   },
   {
    "duration": 4,
    "start_time": "2023-04-12T12:46:47.119Z"
   },
   {
    "duration": 33,
    "start_time": "2023-04-12T12:46:47.124Z"
   },
   {
    "duration": 5,
    "start_time": "2023-04-12T12:46:47.158Z"
   },
   {
    "duration": 23,
    "start_time": "2023-04-12T12:46:47.164Z"
   },
   {
    "duration": 4,
    "start_time": "2023-04-12T12:46:47.189Z"
   },
   {
    "duration": 93,
    "start_time": "2023-04-12T12:46:47.194Z"
   },
   {
    "duration": 96,
    "start_time": "2023-04-12T12:46:47.289Z"
   },
   {
    "duration": 10,
    "start_time": "2023-04-12T12:46:47.387Z"
   },
   {
    "duration": 20,
    "start_time": "2023-04-12T12:46:47.484Z"
   },
   {
    "duration": 6,
    "start_time": "2023-04-12T12:46:47.506Z"
   },
   {
    "duration": 104,
    "start_time": "2023-04-12T12:46:47.589Z"
   },
   {
    "duration": 17,
    "start_time": "2023-04-12T12:46:47.695Z"
   },
   {
    "duration": 5,
    "start_time": "2023-04-12T12:46:47.715Z"
   },
   {
    "duration": 101,
    "start_time": "2023-04-12T12:46:47.785Z"
   },
   {
    "duration": 6,
    "start_time": "2023-04-12T12:46:47.888Z"
   },
   {
    "duration": 11,
    "start_time": "2023-04-12T12:46:47.896Z"
   },
   {
    "duration": 13,
    "start_time": "2023-04-12T12:46:47.909Z"
   },
   {
    "duration": 11,
    "start_time": "2023-04-12T12:46:47.924Z"
   },
   {
    "duration": 5,
    "start_time": "2023-04-12T12:46:47.936Z"
   },
   {
    "duration": 16,
    "start_time": "2023-04-12T12:46:47.943Z"
   },
   {
    "duration": 25,
    "start_time": "2023-04-12T12:46:47.960Z"
   },
   {
    "duration": 38,
    "start_time": "2023-04-12T12:46:47.986Z"
   },
   {
    "duration": 17,
    "start_time": "2023-04-12T12:46:48.026Z"
   },
   {
    "duration": 13,
    "start_time": "2023-04-12T12:46:48.045Z"
   },
   {
    "duration": 14,
    "start_time": "2023-04-12T12:46:48.059Z"
   },
   {
    "duration": 39,
    "start_time": "2023-04-12T12:46:48.075Z"
   },
   {
    "duration": 59,
    "start_time": "2023-04-12T12:46:48.116Z"
   },
   {
    "duration": 31,
    "start_time": "2023-04-12T12:46:48.177Z"
   },
   {
    "duration": 15,
    "start_time": "2023-04-12T12:46:48.210Z"
   },
   {
    "duration": 22,
    "start_time": "2023-04-12T12:46:48.227Z"
   },
   {
    "duration": 237,
    "start_time": "2023-04-12T12:46:48.251Z"
   },
   {
    "duration": 129,
    "start_time": "2023-04-12T12:46:48.489Z"
   },
   {
    "duration": 0,
    "start_time": "2023-04-12T12:46:48.619Z"
   },
   {
    "duration": 0,
    "start_time": "2023-04-12T12:46:48.620Z"
   },
   {
    "duration": 0,
    "start_time": "2023-04-12T12:46:48.622Z"
   },
   {
    "duration": 0,
    "start_time": "2023-04-12T12:46:48.623Z"
   },
   {
    "duration": 0,
    "start_time": "2023-04-12T12:46:48.625Z"
   },
   {
    "duration": 0,
    "start_time": "2023-04-12T12:46:48.626Z"
   },
   {
    "duration": 0,
    "start_time": "2023-04-12T12:46:48.627Z"
   },
   {
    "duration": 0,
    "start_time": "2023-04-12T12:46:48.628Z"
   },
   {
    "duration": 0,
    "start_time": "2023-04-12T12:46:48.629Z"
   },
   {
    "duration": 0,
    "start_time": "2023-04-12T12:46:48.631Z"
   },
   {
    "duration": 4,
    "start_time": "2023-04-12T12:47:22.484Z"
   },
   {
    "duration": 198,
    "start_time": "2023-04-12T12:47:25.852Z"
   },
   {
    "duration": 6,
    "start_time": "2023-04-12T12:47:28.786Z"
   },
   {
    "duration": 5,
    "start_time": "2023-04-12T12:47:35.283Z"
   },
   {
    "duration": 51,
    "start_time": "2023-04-12T12:47:35.294Z"
   },
   {
    "duration": 236,
    "start_time": "2023-04-12T12:47:35.348Z"
   },
   {
    "duration": 6,
    "start_time": "2023-04-12T12:47:35.585Z"
   },
   {
    "duration": 37,
    "start_time": "2023-04-12T12:47:35.593Z"
   },
   {
    "duration": 67,
    "start_time": "2023-04-12T12:47:35.632Z"
   },
   {
    "duration": 240,
    "start_time": "2023-04-12T12:47:35.701Z"
   },
   {
    "duration": 6,
    "start_time": "2023-04-12T12:47:35.942Z"
   },
   {
    "duration": 61,
    "start_time": "2023-04-12T12:47:35.950Z"
   },
   {
    "duration": 70,
    "start_time": "2023-04-12T12:47:36.013Z"
   },
   {
    "duration": 13,
    "start_time": "2023-04-12T12:50:03.471Z"
   },
   {
    "duration": 5,
    "start_time": "2023-04-12T12:50:47.092Z"
   },
   {
    "duration": 17,
    "start_time": "2023-04-12T12:51:01.968Z"
   },
   {
    "duration": 5,
    "start_time": "2023-04-12T12:51:54.193Z"
   },
   {
    "duration": 179,
    "start_time": "2023-04-12T12:52:05.666Z"
   },
   {
    "duration": 173,
    "start_time": "2023-04-12T12:52:46.801Z"
   },
   {
    "duration": 204,
    "start_time": "2023-04-12T12:52:49.736Z"
   },
   {
    "duration": 6,
    "start_time": "2023-04-12T12:54:11.065Z"
   },
   {
    "duration": 6,
    "start_time": "2023-04-12T12:54:26.498Z"
   },
   {
    "duration": 8,
    "start_time": "2023-04-12T12:54:29.844Z"
   },
   {
    "duration": 1203,
    "start_time": "2023-04-15T13:27:19.736Z"
   },
   {
    "duration": 3,
    "start_time": "2023-04-15T13:27:21.468Z"
   },
   {
    "duration": 3,
    "start_time": "2023-04-15T13:27:33.892Z"
   },
   {
    "duration": 4,
    "start_time": "2023-04-15T13:27:47.839Z"
   },
   {
    "duration": 7,
    "start_time": "2023-04-15T13:27:47.846Z"
   },
   {
    "duration": 4,
    "start_time": "2023-04-15T13:27:47.859Z"
   },
   {
    "duration": 1447,
    "start_time": "2023-04-15T13:27:47.866Z"
   },
   {
    "duration": 1180,
    "start_time": "2023-04-15T13:27:49.315Z"
   },
   {
    "duration": 1204,
    "start_time": "2023-04-15T13:27:50.498Z"
   },
   {
    "duration": 57,
    "start_time": "2023-04-15T13:27:51.704Z"
   },
   {
    "duration": 67,
    "start_time": "2023-04-15T13:27:51.763Z"
   },
   {
    "duration": 68,
    "start_time": "2023-04-15T13:27:51.836Z"
   },
   {
    "duration": 32,
    "start_time": "2023-04-15T13:27:51.906Z"
   },
   {
    "duration": 32,
    "start_time": "2023-04-15T13:27:51.940Z"
   },
   {
    "duration": 16,
    "start_time": "2023-04-15T13:27:51.975Z"
   },
   {
    "duration": 6,
    "start_time": "2023-04-15T13:27:51.995Z"
   },
   {
    "duration": 405,
    "start_time": "2023-04-15T13:27:52.003Z"
   },
   {
    "duration": 424,
    "start_time": "2023-04-15T13:27:52.410Z"
   },
   {
    "duration": 354,
    "start_time": "2023-04-15T13:27:52.837Z"
   },
   {
    "duration": 4,
    "start_time": "2023-04-15T13:27:53.193Z"
   },
   {
    "duration": 11,
    "start_time": "2023-04-15T13:27:53.199Z"
   },
   {
    "duration": 76,
    "start_time": "2023-04-15T13:27:53.219Z"
   },
   {
    "duration": 348,
    "start_time": "2023-04-15T13:27:53.298Z"
   },
   {
    "duration": 504,
    "start_time": "2023-04-15T13:27:53.648Z"
   },
   {
    "duration": 400,
    "start_time": "2023-04-15T13:27:54.154Z"
   },
   {
    "duration": 16,
    "start_time": "2023-04-15T13:27:54.555Z"
   },
   {
    "duration": 10,
    "start_time": "2023-04-15T13:27:54.573Z"
   },
   {
    "duration": 35,
    "start_time": "2023-04-15T13:27:54.585Z"
   },
   {
    "duration": 34,
    "start_time": "2023-04-15T13:27:54.621Z"
   },
   {
    "duration": 18,
    "start_time": "2023-04-15T13:27:54.657Z"
   },
   {
    "duration": 35,
    "start_time": "2023-04-15T13:27:54.678Z"
   },
   {
    "duration": 13,
    "start_time": "2023-04-15T13:27:54.716Z"
   },
   {
    "duration": 38,
    "start_time": "2023-04-15T13:27:54.732Z"
   },
   {
    "duration": 4,
    "start_time": "2023-04-15T13:27:54.774Z"
   },
   {
    "duration": 25,
    "start_time": "2023-04-15T13:27:54.779Z"
   },
   {
    "duration": 11,
    "start_time": "2023-04-15T13:27:54.806Z"
   },
   {
    "duration": 36,
    "start_time": "2023-04-15T13:27:54.818Z"
   },
   {
    "duration": 10,
    "start_time": "2023-04-15T13:27:54.856Z"
   },
   {
    "duration": 77,
    "start_time": "2023-04-15T13:27:54.867Z"
   },
   {
    "duration": 89,
    "start_time": "2023-04-15T13:27:54.946Z"
   },
   {
    "duration": 28,
    "start_time": "2023-04-15T13:27:55.038Z"
   },
   {
    "duration": 63,
    "start_time": "2023-04-15T13:27:55.068Z"
   },
   {
    "duration": 7,
    "start_time": "2023-04-15T13:27:55.133Z"
   },
   {
    "duration": 196,
    "start_time": "2023-04-15T13:27:55.142Z"
   },
   {
    "duration": 16,
    "start_time": "2023-04-15T13:27:55.340Z"
   },
   {
    "duration": 74,
    "start_time": "2023-04-15T13:27:55.358Z"
   },
   {
    "duration": 119,
    "start_time": "2023-04-15T13:27:55.434Z"
   },
   {
    "duration": 18,
    "start_time": "2023-04-15T13:27:55.555Z"
   },
   {
    "duration": 55,
    "start_time": "2023-04-15T13:27:55.576Z"
   },
   {
    "duration": 39,
    "start_time": "2023-04-15T13:27:55.634Z"
   },
   {
    "duration": 20,
    "start_time": "2023-04-15T13:27:55.675Z"
   },
   {
    "duration": 17,
    "start_time": "2023-04-15T13:27:55.697Z"
   },
   {
    "duration": 55,
    "start_time": "2023-04-15T13:27:55.716Z"
   },
   {
    "duration": 20,
    "start_time": "2023-04-15T13:27:55.773Z"
   },
   {
    "duration": 35,
    "start_time": "2023-04-15T13:27:55.795Z"
   },
   {
    "duration": 7,
    "start_time": "2023-04-15T13:27:55.837Z"
   },
   {
    "duration": 29,
    "start_time": "2023-04-15T13:27:55.846Z"
   },
   {
    "duration": 24,
    "start_time": "2023-04-15T13:27:55.876Z"
   },
   {
    "duration": 29,
    "start_time": "2023-04-15T13:27:55.902Z"
   },
   {
    "duration": 32,
    "start_time": "2023-04-15T13:27:55.936Z"
   },
   {
    "duration": 30,
    "start_time": "2023-04-15T13:27:55.970Z"
   },
   {
    "duration": 13,
    "start_time": "2023-04-15T13:27:56.002Z"
   },
   {
    "duration": 30,
    "start_time": "2023-04-15T13:27:56.017Z"
   },
   {
    "duration": 20,
    "start_time": "2023-04-15T13:27:56.049Z"
   },
   {
    "duration": 260,
    "start_time": "2023-04-15T13:27:56.072Z"
   },
   {
    "duration": 205,
    "start_time": "2023-04-15T13:27:56.336Z"
   },
   {
    "duration": 237,
    "start_time": "2023-04-15T13:27:56.543Z"
   },
   {
    "duration": 7,
    "start_time": "2023-04-15T13:27:56.782Z"
   },
   {
    "duration": 30,
    "start_time": "2023-04-15T13:27:56.791Z"
   },
   {
    "duration": 14,
    "start_time": "2023-04-15T13:27:56.823Z"
   },
   {
    "duration": 230,
    "start_time": "2023-04-15T13:27:56.839Z"
   },
   {
    "duration": 8,
    "start_time": "2023-04-15T13:27:57.071Z"
   },
   {
    "duration": 7,
    "start_time": "2023-04-15T13:27:57.081Z"
   },
   {
    "duration": 36,
    "start_time": "2023-04-15T13:27:57.090Z"
   },
   {
    "duration": 275,
    "start_time": "2023-04-15T13:27:57.128Z"
   },
   {
    "duration": 14,
    "start_time": "2023-04-15T13:27:57.405Z"
   },
   {
    "duration": 21,
    "start_time": "2023-04-15T13:27:57.423Z"
   },
   {
    "duration": 14,
    "start_time": "2023-04-15T13:27:57.446Z"
   },
   {
    "duration": 250,
    "start_time": "2023-04-15T13:27:57.462Z"
   },
   {
    "duration": 24,
    "start_time": "2023-04-15T13:27:57.714Z"
   },
   {
    "duration": 11,
    "start_time": "2023-04-15T13:27:57.740Z"
   },
   {
    "duration": 11,
    "start_time": "2023-04-15T13:27:57.753Z"
   },
   {
    "duration": 69,
    "start_time": "2023-04-15T13:34:41.736Z"
   },
   {
    "duration": 6,
    "start_time": "2023-04-15T13:34:59.610Z"
   },
   {
    "duration": 802,
    "start_time": "2023-04-15T13:35:05.283Z"
   },
   {
    "duration": 4,
    "start_time": "2023-04-15T13:35:15.507Z"
   },
   {
    "duration": 853,
    "start_time": "2023-04-15T13:35:17.059Z"
   },
   {
    "duration": 5,
    "start_time": "2023-04-15T13:35:31.271Z"
   },
   {
    "duration": 811,
    "start_time": "2023-04-15T13:35:34.647Z"
   },
   {
    "duration": 8,
    "start_time": "2023-04-15T13:35:41.835Z"
   },
   {
    "duration": 838,
    "start_time": "2023-04-15T13:35:44.120Z"
   },
   {
    "duration": 5,
    "start_time": "2023-04-15T13:36:41.678Z"
   },
   {
    "duration": 705,
    "start_time": "2023-04-15T13:36:44.259Z"
   },
   {
    "duration": 5,
    "start_time": "2023-04-15T13:37:16.993Z"
   },
   {
    "duration": 702,
    "start_time": "2023-04-15T13:37:19.296Z"
   },
   {
    "duration": 6,
    "start_time": "2023-04-15T13:38:50.644Z"
   },
   {
    "duration": 687,
    "start_time": "2023-04-15T13:38:54.314Z"
   },
   {
    "duration": 744,
    "start_time": "2023-04-15T13:39:06.115Z"
   },
   {
    "duration": 715,
    "start_time": "2023-04-15T13:39:46.044Z"
   },
   {
    "duration": 4,
    "start_time": "2023-04-15T15:02:32.583Z"
   },
   {
    "duration": 3,
    "start_time": "2023-04-15T15:02:37.842Z"
   },
   {
    "duration": 8,
    "start_time": "2023-04-15T15:02:37.848Z"
   },
   {
    "duration": 7,
    "start_time": "2023-04-15T15:02:37.859Z"
   },
   {
    "duration": 715,
    "start_time": "2023-04-15T15:02:37.868Z"
   },
   {
    "duration": 668,
    "start_time": "2023-04-15T15:02:38.585Z"
   },
   {
    "duration": 605,
    "start_time": "2023-04-15T15:02:39.255Z"
   },
   {
    "duration": 3,
    "start_time": "2023-04-15T15:02:39.861Z"
   },
   {
    "duration": 6,
    "start_time": "2023-04-15T15:02:39.865Z"
   },
   {
    "duration": 712,
    "start_time": "2023-04-15T15:03:14.197Z"
   },
   {
    "duration": 4,
    "start_time": "2023-04-15T15:04:32.095Z"
   },
   {
    "duration": 3,
    "start_time": "2023-04-15T15:04:39.645Z"
   },
   {
    "duration": 10,
    "start_time": "2023-04-15T15:04:39.652Z"
   },
   {
    "duration": 4,
    "start_time": "2023-04-15T15:04:39.686Z"
   },
   {
    "duration": 719,
    "start_time": "2023-04-15T15:04:39.693Z"
   },
   {
    "duration": 639,
    "start_time": "2023-04-15T15:04:40.417Z"
   },
   {
    "duration": 627,
    "start_time": "2023-04-15T15:04:41.058Z"
   },
   {
    "duration": 3,
    "start_time": "2023-04-15T15:04:41.687Z"
   },
   {
    "duration": 7,
    "start_time": "2023-04-15T15:04:41.691Z"
   },
   {
    "duration": 644,
    "start_time": "2023-04-15T15:04:45.780Z"
   },
   {
    "duration": 415,
    "start_time": "2023-04-15T15:05:09.537Z"
   },
   {
    "duration": 22,
    "start_time": "2023-04-15T15:05:24.118Z"
   },
   {
    "duration": 4,
    "start_time": "2023-04-15T15:05:59.767Z"
   },
   {
    "duration": 721,
    "start_time": "2023-04-15T15:06:02.333Z"
   },
   {
    "duration": 4,
    "start_time": "2023-04-15T15:06:49.411Z"
   },
   {
    "duration": 705,
    "start_time": "2023-04-15T15:06:52.223Z"
   },
   {
    "duration": 4,
    "start_time": "2023-04-15T15:07:03.913Z"
   },
   {
    "duration": 28,
    "start_time": "2023-04-15T15:07:03.922Z"
   },
   {
    "duration": 22,
    "start_time": "2023-04-15T15:07:03.952Z"
   },
   {
    "duration": 798,
    "start_time": "2023-04-15T15:07:03.976Z"
   },
   {
    "duration": 700,
    "start_time": "2023-04-15T15:07:04.777Z"
   },
   {
    "duration": 717,
    "start_time": "2023-04-15T15:07:05.479Z"
   },
   {
    "duration": 3,
    "start_time": "2023-04-15T15:07:06.199Z"
   },
   {
    "duration": 34,
    "start_time": "2023-04-15T15:07:06.204Z"
   },
   {
    "duration": 4,
    "start_time": "2023-04-15T15:10:25.677Z"
   },
   {
    "duration": 4,
    "start_time": "2023-04-15T15:10:38.072Z"
   },
   {
    "duration": 743,
    "start_time": "2023-04-15T15:10:41.778Z"
   },
   {
    "duration": 5,
    "start_time": "2023-04-15T15:12:40.331Z"
   },
   {
    "duration": 548,
    "start_time": "2023-04-15T15:12:43.900Z"
   },
   {
    "duration": 4,
    "start_time": "2023-04-15T15:13:30.119Z"
   },
   {
    "duration": 726,
    "start_time": "2023-04-15T15:13:33.082Z"
   },
   {
    "duration": 3,
    "start_time": "2023-04-15T15:14:52.178Z"
   },
   {
    "duration": 370,
    "start_time": "2023-04-15T15:14:54.694Z"
   },
   {
    "duration": 4,
    "start_time": "2023-04-15T15:15:07.080Z"
   },
   {
    "duration": 477,
    "start_time": "2023-04-15T15:15:09.982Z"
   },
   {
    "duration": 4,
    "start_time": "2023-04-15T15:15:55.081Z"
   },
   {
    "duration": 637,
    "start_time": "2023-04-15T15:15:58.387Z"
   },
   {
    "duration": 4,
    "start_time": "2023-04-15T15:18:51.758Z"
   },
   {
    "duration": 5,
    "start_time": "2023-04-15T15:18:57.831Z"
   },
   {
    "duration": 811,
    "start_time": "2023-04-15T15:19:00.522Z"
   },
   {
    "duration": 6,
    "start_time": "2023-04-15T15:19:43.957Z"
   },
   {
    "duration": 756,
    "start_time": "2023-04-15T15:19:47.717Z"
   },
   {
    "duration": 5,
    "start_time": "2023-04-15T15:20:02.294Z"
   },
   {
    "duration": 929,
    "start_time": "2023-04-15T15:20:03.704Z"
   },
   {
    "duration": 5,
    "start_time": "2023-04-15T15:21:46.210Z"
   },
   {
    "duration": 765,
    "start_time": "2023-04-15T15:21:49.659Z"
   },
   {
    "duration": 6,
    "start_time": "2023-04-15T15:23:06.298Z"
   },
   {
    "duration": 766,
    "start_time": "2023-04-15T15:23:08.576Z"
   },
   {
    "duration": 5,
    "start_time": "2023-04-15T15:24:35.664Z"
   },
   {
    "duration": 852,
    "start_time": "2023-04-15T15:24:38.917Z"
   },
   {
    "duration": 164,
    "start_time": "2023-04-15T15:25:02.672Z"
   },
   {
    "duration": 768,
    "start_time": "2023-04-15T15:25:04.684Z"
   },
   {
    "duration": 118,
    "start_time": "2023-04-15T15:27:01.621Z"
   },
   {
    "duration": 734,
    "start_time": "2023-04-15T15:27:02.749Z"
   },
   {
    "duration": 5,
    "start_time": "2023-04-15T15:27:12.575Z"
   },
   {
    "duration": 786,
    "start_time": "2023-04-15T15:27:15.112Z"
   },
   {
    "duration": 5,
    "start_time": "2023-04-15T15:28:09.514Z"
   },
   {
    "duration": 683,
    "start_time": "2023-04-15T15:28:12.718Z"
   },
   {
    "duration": 6,
    "start_time": "2023-04-15T15:29:02.287Z"
   },
   {
    "duration": 637,
    "start_time": "2023-04-15T15:29:04.728Z"
   },
   {
    "duration": 5,
    "start_time": "2023-04-15T15:29:47.975Z"
   },
   {
    "duration": 853,
    "start_time": "2023-04-15T15:29:50.903Z"
   },
   {
    "duration": 6,
    "start_time": "2023-04-15T15:30:43.530Z"
   },
   {
    "duration": 3,
    "start_time": "2023-04-15T15:30:48.479Z"
   },
   {
    "duration": 6,
    "start_time": "2023-04-15T15:30:48.485Z"
   },
   {
    "duration": 7,
    "start_time": "2023-04-15T15:30:48.493Z"
   },
   {
    "duration": 670,
    "start_time": "2023-04-15T15:30:48.501Z"
   },
   {
    "duration": 675,
    "start_time": "2023-04-15T15:30:49.173Z"
   },
   {
    "duration": 695,
    "start_time": "2023-04-15T15:30:49.850Z"
   },
   {
    "duration": 3,
    "start_time": "2023-04-15T15:30:50.547Z"
   },
   {
    "duration": 7,
    "start_time": "2023-04-15T15:30:50.551Z"
   },
   {
    "duration": 7,
    "start_time": "2023-04-15T15:30:50.560Z"
   },
   {
    "duration": 735,
    "start_time": "2023-04-15T15:30:59.519Z"
   },
   {
    "duration": 130,
    "start_time": "2023-04-15T15:31:21.679Z"
   },
   {
    "duration": 729,
    "start_time": "2023-04-15T15:31:24.276Z"
   },
   {
    "duration": 6,
    "start_time": "2023-04-15T15:31:40.128Z"
   },
   {
    "duration": 770,
    "start_time": "2023-04-15T15:31:41.016Z"
   },
   {
    "duration": 6,
    "start_time": "2023-04-15T15:31:50.137Z"
   },
   {
    "duration": 800,
    "start_time": "2023-04-15T15:31:51.279Z"
   },
   {
    "duration": 334,
    "start_time": "2023-04-15T15:32:13.033Z"
   },
   {
    "duration": 883,
    "start_time": "2023-04-15T15:32:31.308Z"
   },
   {
    "duration": 718,
    "start_time": "2023-04-15T15:32:47.340Z"
   },
   {
    "duration": 97,
    "start_time": "2023-04-15T15:36:21.445Z"
   },
   {
    "duration": 3,
    "start_time": "2023-04-15T15:36:34.609Z"
   },
   {
    "duration": 3,
    "start_time": "2023-04-15T15:37:31.027Z"
   },
   {
    "duration": 4,
    "start_time": "2023-04-15T15:47:15.923Z"
   },
   {
    "duration": 9,
    "start_time": "2023-04-15T15:47:37.371Z"
   },
   {
    "duration": 19,
    "start_time": "2023-04-15T15:47:42.402Z"
   },
   {
    "duration": 4,
    "start_time": "2023-04-15T15:47:48.652Z"
   },
   {
    "duration": 6,
    "start_time": "2023-04-15T15:47:51.058Z"
   },
   {
    "duration": 4,
    "start_time": "2023-04-15T15:47:59.763Z"
   },
   {
    "duration": 9,
    "start_time": "2023-04-15T15:48:00.755Z"
   },
   {
    "duration": 4,
    "start_time": "2023-04-15T15:48:23.019Z"
   },
   {
    "duration": 8,
    "start_time": "2023-04-15T15:48:23.683Z"
   },
   {
    "duration": 9,
    "start_time": "2023-04-15T15:48:42.301Z"
   },
   {
    "duration": 10,
    "start_time": "2023-04-15T15:48:51.524Z"
   },
   {
    "duration": 74,
    "start_time": "2023-04-15T15:51:12.557Z"
   },
   {
    "duration": 5,
    "start_time": "2023-04-15T15:51:21.742Z"
   },
   {
    "duration": 17,
    "start_time": "2023-04-15T15:51:29.852Z"
   },
   {
    "duration": 6,
    "start_time": "2023-04-15T15:51:31.285Z"
   },
   {
    "duration": 5,
    "start_time": "2023-04-15T15:51:53.143Z"
   },
   {
    "duration": 6,
    "start_time": "2023-04-15T15:52:09.262Z"
   },
   {
    "duration": 5,
    "start_time": "2023-04-15T15:52:30.717Z"
   },
   {
    "duration": 4,
    "start_time": "2023-04-15T15:52:52.296Z"
   },
   {
    "duration": 5,
    "start_time": "2023-04-15T15:53:12.653Z"
   },
   {
    "duration": 4,
    "start_time": "2023-04-15T15:53:27.430Z"
   },
   {
    "duration": 4,
    "start_time": "2023-04-15T15:53:55.140Z"
   },
   {
    "duration": 5,
    "start_time": "2023-04-15T15:56:27.388Z"
   },
   {
    "duration": 21,
    "start_time": "2023-04-15T15:56:46.362Z"
   },
   {
    "duration": 4,
    "start_time": "2023-04-15T15:57:12.249Z"
   },
   {
    "duration": 20,
    "start_time": "2023-04-15T15:57:13.993Z"
   },
   {
    "duration": 4,
    "start_time": "2023-04-15T15:58:03.458Z"
   },
   {
    "duration": 15,
    "start_time": "2023-04-15T15:58:04.329Z"
   },
   {
    "duration": 6,
    "start_time": "2023-04-15T15:58:14.601Z"
   },
   {
    "duration": 5,
    "start_time": "2023-04-15T15:58:28.498Z"
   },
   {
    "duration": 4,
    "start_time": "2023-04-15T15:58:48.651Z"
   },
   {
    "duration": 11,
    "start_time": "2023-04-15T16:01:01.082Z"
   },
   {
    "duration": 5,
    "start_time": "2023-04-15T16:01:16.986Z"
   },
   {
    "duration": 11,
    "start_time": "2023-04-15T16:01:43.636Z"
   },
   {
    "duration": 2,
    "start_time": "2023-04-15T16:05:32.155Z"
   },
   {
    "duration": 13,
    "start_time": "2023-04-15T16:49:50.337Z"
   },
   {
    "duration": 4,
    "start_time": "2023-04-15T16:49:52.760Z"
   },
   {
    "duration": 4,
    "start_time": "2023-04-15T16:49:54.477Z"
   },
   {
    "duration": 8,
    "start_time": "2023-04-15T16:50:30.336Z"
   },
   {
    "duration": 9,
    "start_time": "2023-04-15T16:59:02.673Z"
   },
   {
    "duration": 3,
    "start_time": "2023-04-15T16:59:08.139Z"
   },
   {
    "duration": 15,
    "start_time": "2023-04-15T16:59:10.109Z"
   },
   {
    "duration": 16,
    "start_time": "2023-04-15T17:00:20.211Z"
   },
   {
    "duration": 15,
    "start_time": "2023-04-15T17:00:57.027Z"
   },
   {
    "duration": 17,
    "start_time": "2023-04-15T17:01:42.444Z"
   },
   {
    "duration": 4,
    "start_time": "2023-04-15T17:04:44.767Z"
   },
   {
    "duration": 14,
    "start_time": "2023-04-15T17:04:45.710Z"
   },
   {
    "duration": 14,
    "start_time": "2023-04-15T17:04:46.941Z"
   },
   {
    "duration": 22,
    "start_time": "2023-04-15T17:07:09.507Z"
   },
   {
    "duration": 4,
    "start_time": "2023-04-15T17:07:21.322Z"
   },
   {
    "duration": 15,
    "start_time": "2023-04-15T17:07:24.412Z"
   },
   {
    "duration": 13,
    "start_time": "2023-04-15T17:07:51.192Z"
   },
   {
    "duration": 3,
    "start_time": "2023-04-15T17:08:51.865Z"
   },
   {
    "duration": 13,
    "start_time": "2023-04-15T17:08:53.433Z"
   },
   {
    "duration": 13,
    "start_time": "2023-04-15T17:08:58.609Z"
   },
   {
    "duration": 15,
    "start_time": "2023-04-15T17:09:03.456Z"
   },
   {
    "duration": 9,
    "start_time": "2023-04-15T17:11:03.242Z"
   },
   {
    "duration": 9,
    "start_time": "2023-04-15T17:11:18.792Z"
   },
   {
    "duration": 7,
    "start_time": "2023-04-15T17:12:15.700Z"
   },
   {
    "duration": 3,
    "start_time": "2023-04-15T17:16:20.806Z"
   },
   {
    "duration": 15,
    "start_time": "2023-04-15T17:16:21.364Z"
   },
   {
    "duration": 14,
    "start_time": "2023-04-15T17:16:23.437Z"
   },
   {
    "duration": 14,
    "start_time": "2023-04-15T17:16:24.402Z"
   },
   {
    "duration": 74,
    "start_time": "2023-04-15T17:20:57.345Z"
   },
   {
    "duration": 4,
    "start_time": "2023-04-15T17:23:30.060Z"
   },
   {
    "duration": 3,
    "start_time": "2023-04-15T17:26:31.141Z"
   },
   {
    "duration": 4,
    "start_time": "2023-04-15T17:26:38.731Z"
   },
   {
    "duration": 4,
    "start_time": "2023-04-15T17:26:48.490Z"
   },
   {
    "duration": 3,
    "start_time": "2023-04-15T17:27:59.348Z"
   },
   {
    "duration": 4,
    "start_time": "2023-04-15T17:28:05.997Z"
   },
   {
    "duration": 4,
    "start_time": "2023-04-15T17:28:14.356Z"
   },
   {
    "duration": 3,
    "start_time": "2023-04-15T17:30:20.840Z"
   },
   {
    "duration": 3,
    "start_time": "2023-04-15T17:33:36.114Z"
   },
   {
    "duration": 71,
    "start_time": "2023-04-15T17:33:45.544Z"
   },
   {
    "duration": 4,
    "start_time": "2023-04-15T17:39:41.892Z"
   },
   {
    "duration": 19,
    "start_time": "2023-04-15T17:40:03.213Z"
   },
   {
    "duration": 17,
    "start_time": "2023-04-15T17:40:21.030Z"
   },
   {
    "duration": 17,
    "start_time": "2023-04-15T17:40:38.631Z"
   },
   {
    "duration": 75,
    "start_time": "2023-04-15T17:43:15.177Z"
   },
   {
    "duration": 16,
    "start_time": "2023-04-15T17:43:23.359Z"
   },
   {
    "duration": 41,
    "start_time": "2023-04-15T17:43:44.018Z"
   },
   {
    "duration": 4,
    "start_time": "2023-04-15T18:27:35.126Z"
   },
   {
    "duration": 16,
    "start_time": "2023-04-15T18:29:49.133Z"
   },
   {
    "duration": 3,
    "start_time": "2023-04-15T18:30:35.509Z"
   },
   {
    "duration": 186,
    "start_time": "2023-04-15T18:30:38.541Z"
   },
   {
    "duration": 45,
    "start_time": "2023-04-15T18:31:25.136Z"
   },
   {
    "duration": 22,
    "start_time": "2023-04-15T18:32:05.349Z"
   },
   {
    "duration": 41,
    "start_time": "2023-04-15T18:33:06.014Z"
   },
   {
    "duration": 43,
    "start_time": "2023-04-15T18:33:16.862Z"
   },
   {
    "duration": 47,
    "start_time": "2023-04-15T18:33:22.468Z"
   },
   {
    "duration": 38,
    "start_time": "2023-04-15T18:34:00.662Z"
   },
   {
    "duration": 109,
    "start_time": "2023-04-15T18:34:42.142Z"
   },
   {
    "duration": 5,
    "start_time": "2023-04-15T18:34:47.117Z"
   },
   {
    "duration": 184,
    "start_time": "2023-04-15T18:34:49.958Z"
   },
   {
    "duration": 174,
    "start_time": "2023-04-15T18:35:29.640Z"
   },
   {
    "duration": 189,
    "start_time": "2023-04-15T18:35:32.017Z"
   },
   {
    "duration": 182,
    "start_time": "2023-04-15T18:38:33.032Z"
   },
   {
    "duration": 182,
    "start_time": "2023-04-15T18:38:49.205Z"
   },
   {
    "duration": 174,
    "start_time": "2023-04-15T18:39:03.389Z"
   },
   {
    "duration": 4,
    "start_time": "2023-04-15T18:41:27.709Z"
   },
   {
    "duration": 4,
    "start_time": "2023-04-15T18:41:35.621Z"
   },
   {
    "duration": 3,
    "start_time": "2023-04-15T18:44:39.960Z"
   },
   {
    "duration": 184,
    "start_time": "2023-04-15T18:44:56.142Z"
   },
   {
    "duration": 3,
    "start_time": "2023-04-15T18:45:20.126Z"
   },
   {
    "duration": 198,
    "start_time": "2023-04-15T18:45:25.013Z"
   },
   {
    "duration": 180,
    "start_time": "2023-04-15T18:45:34.240Z"
   },
   {
    "duration": 188,
    "start_time": "2023-04-15T18:45:36.860Z"
   },
   {
    "duration": 4,
    "start_time": "2023-04-15T18:45:54.957Z"
   },
   {
    "duration": 4,
    "start_time": "2023-04-15T18:46:06.551Z"
   },
   {
    "duration": 4,
    "start_time": "2023-04-15T18:46:24.652Z"
   },
   {
    "duration": 3,
    "start_time": "2023-04-15T18:56:27.602Z"
   },
   {
    "duration": 4,
    "start_time": "2023-04-15T19:08:43.229Z"
   },
   {
    "duration": 2,
    "start_time": "2023-04-15T19:10:32.932Z"
   },
   {
    "duration": 4,
    "start_time": "2023-04-15T19:10:33.628Z"
   },
   {
    "duration": 4,
    "start_time": "2023-04-15T19:10:35.242Z"
   },
   {
    "duration": 2,
    "start_time": "2023-04-15T19:10:45.579Z"
   },
   {
    "duration": 4,
    "start_time": "2023-04-15T19:10:48.817Z"
   },
   {
    "duration": 3,
    "start_time": "2023-04-15T19:10:56.572Z"
   },
   {
    "duration": 2,
    "start_time": "2023-04-15T19:11:44.225Z"
   },
   {
    "duration": 4,
    "start_time": "2023-04-15T19:11:45.659Z"
   },
   {
    "duration": 4,
    "start_time": "2023-04-15T19:11:48.941Z"
   },
   {
    "duration": 3,
    "start_time": "2023-04-15T19:12:02.121Z"
   },
   {
    "duration": 1377,
    "start_time": "2023-04-15T19:29:27.542Z"
   },
   {
    "duration": 3,
    "start_time": "2023-04-15T19:29:28.921Z"
   },
   {
    "duration": 10,
    "start_time": "2023-04-15T19:29:28.925Z"
   },
   {
    "duration": 692,
    "start_time": "2023-04-15T19:29:28.936Z"
   },
   {
    "duration": 652,
    "start_time": "2023-04-15T19:29:29.631Z"
   },
   {
    "duration": 729,
    "start_time": "2023-04-15T19:29:30.285Z"
   },
   {
    "duration": 3,
    "start_time": "2023-04-15T19:29:31.018Z"
   },
   {
    "duration": 41,
    "start_time": "2023-04-15T19:29:31.022Z"
   },
   {
    "duration": 31,
    "start_time": "2023-04-15T19:29:31.065Z"
   },
   {
    "duration": 793,
    "start_time": "2023-04-15T19:29:31.098Z"
   },
   {
    "duration": 739,
    "start_time": "2023-04-15T19:29:31.892Z"
   },
   {
    "duration": 711,
    "start_time": "2023-04-15T19:29:32.632Z"
   },
   {
    "duration": 4,
    "start_time": "2023-04-15T19:29:33.345Z"
   },
   {
    "duration": 16,
    "start_time": "2023-04-15T19:29:33.353Z"
   },
   {
    "duration": 17,
    "start_time": "2023-04-15T19:29:33.370Z"
   },
   {
    "duration": 12,
    "start_time": "2023-04-15T19:29:33.389Z"
   },
   {
    "duration": 121,
    "start_time": "2023-04-15T19:29:33.403Z"
   },
   {
    "duration": 17,
    "start_time": "2023-04-15T19:29:33.526Z"
   },
   {
    "duration": 12,
    "start_time": "2023-04-15T19:29:33.545Z"
   },
   {
    "duration": 14,
    "start_time": "2023-04-15T19:29:33.559Z"
   },
   {
    "duration": 4,
    "start_time": "2023-04-15T19:29:33.574Z"
   },
   {
    "duration": 49,
    "start_time": "2023-04-15T19:29:33.579Z"
   },
   {
    "duration": 189,
    "start_time": "2023-04-15T19:29:33.629Z"
   },
   {
    "duration": 111,
    "start_time": "2023-04-15T19:29:33.820Z"
   },
   {
    "duration": 185,
    "start_time": "2023-04-15T19:29:33.933Z"
   },
   {
    "duration": 11,
    "start_time": "2023-04-15T19:29:34.120Z"
   },
   {
    "duration": 11,
    "start_time": "2023-04-15T19:29:34.133Z"
   },
   {
    "duration": 27,
    "start_time": "2023-04-15T19:29:34.145Z"
   },
   {
    "duration": 19,
    "start_time": "2023-04-15T19:29:34.173Z"
   },
   {
    "duration": 16,
    "start_time": "2023-04-15T19:29:34.193Z"
   },
   {
    "duration": 51,
    "start_time": "2023-04-15T19:29:34.210Z"
   },
   {
    "duration": 10,
    "start_time": "2023-04-15T19:29:34.262Z"
   },
   {
    "duration": 33,
    "start_time": "2023-04-15T19:29:34.273Z"
   },
   {
    "duration": 28,
    "start_time": "2023-04-15T19:29:34.307Z"
   },
   {
    "duration": 194,
    "start_time": "2023-04-15T19:29:34.336Z"
   },
   {
    "duration": 192,
    "start_time": "2023-04-15T19:29:34.531Z"
   },
   {
    "duration": 172,
    "start_time": "2023-04-15T19:29:34.725Z"
   },
   {
    "duration": 25,
    "start_time": "2023-04-15T19:29:34.898Z"
   },
   {
    "duration": 197,
    "start_time": "2023-04-15T19:29:34.925Z"
   },
   {
    "duration": 13,
    "start_time": "2023-04-15T19:33:21.597Z"
   },
   {
    "duration": 14,
    "start_time": "2023-04-15T19:34:23.076Z"
   },
   {
    "duration": 64,
    "start_time": "2023-04-15T19:35:10.558Z"
   },
   {
    "duration": 1510,
    "start_time": "2023-04-15T19:35:45.909Z"
   },
   {
    "duration": 3,
    "start_time": "2023-04-15T19:35:47.421Z"
   },
   {
    "duration": 16,
    "start_time": "2023-04-15T19:35:47.425Z"
   },
   {
    "duration": 672,
    "start_time": "2023-04-15T19:35:47.443Z"
   },
   {
    "duration": 652,
    "start_time": "2023-04-15T19:35:48.116Z"
   },
   {
    "duration": 705,
    "start_time": "2023-04-15T19:35:48.770Z"
   },
   {
    "duration": 3,
    "start_time": "2023-04-15T19:35:49.476Z"
   },
   {
    "duration": 7,
    "start_time": "2023-04-15T19:35:49.480Z"
   },
   {
    "duration": 7,
    "start_time": "2023-04-15T19:35:49.488Z"
   },
   {
    "duration": 747,
    "start_time": "2023-04-15T19:35:49.497Z"
   },
   {
    "duration": 724,
    "start_time": "2023-04-15T19:35:50.246Z"
   },
   {
    "duration": 706,
    "start_time": "2023-04-15T19:35:50.972Z"
   },
   {
    "duration": 4,
    "start_time": "2023-04-15T19:35:51.679Z"
   },
   {
    "duration": 19,
    "start_time": "2023-04-15T19:35:51.685Z"
   },
   {
    "duration": 15,
    "start_time": "2023-04-15T19:35:51.706Z"
   },
   {
    "duration": 15,
    "start_time": "2023-04-15T19:35:51.723Z"
   },
   {
    "duration": 17,
    "start_time": "2023-04-15T19:35:51.739Z"
   },
   {
    "duration": 18,
    "start_time": "2023-04-15T19:35:51.757Z"
   },
   {
    "duration": 15,
    "start_time": "2023-04-15T19:35:51.776Z"
   },
   {
    "duration": 140,
    "start_time": "2023-04-15T19:35:51.793Z"
   },
   {
    "duration": 6,
    "start_time": "2023-04-15T19:35:51.935Z"
   },
   {
    "duration": 78,
    "start_time": "2023-04-15T19:35:51.942Z"
   },
   {
    "duration": 110,
    "start_time": "2023-04-15T19:35:52.021Z"
   },
   {
    "duration": 189,
    "start_time": "2023-04-15T19:35:52.133Z"
   },
   {
    "duration": 95,
    "start_time": "2023-04-15T19:35:52.325Z"
   },
   {
    "duration": 103,
    "start_time": "2023-04-15T19:35:52.427Z"
   },
   {
    "duration": 9,
    "start_time": "2023-04-15T19:35:52.532Z"
   },
   {
    "duration": 22,
    "start_time": "2023-04-15T19:35:52.544Z"
   },
   {
    "duration": 11,
    "start_time": "2023-04-15T19:35:52.568Z"
   },
   {
    "duration": 9,
    "start_time": "2023-04-15T19:35:52.580Z"
   },
   {
    "duration": 41,
    "start_time": "2023-04-15T19:35:52.591Z"
   },
   {
    "duration": 7,
    "start_time": "2023-04-15T19:35:52.634Z"
   },
   {
    "duration": 6,
    "start_time": "2023-04-15T19:35:52.643Z"
   },
   {
    "duration": 6,
    "start_time": "2023-04-15T19:35:52.651Z"
   },
   {
    "duration": 191,
    "start_time": "2023-04-15T19:35:52.658Z"
   },
   {
    "duration": 209,
    "start_time": "2023-04-15T19:35:52.851Z"
   },
   {
    "duration": 182,
    "start_time": "2023-04-15T19:35:53.062Z"
   },
   {
    "duration": 10,
    "start_time": "2023-04-15T19:35:53.246Z"
   },
   {
    "duration": 110,
    "start_time": "2023-04-15T19:35:53.317Z"
   },
   {
    "duration": 77,
    "start_time": "2023-04-16T05:01:49.409Z"
   },
   {
    "duration": 2353,
    "start_time": "2023-04-16T05:02:00.397Z"
   },
   {
    "duration": 3,
    "start_time": "2023-04-16T05:02:02.752Z"
   },
   {
    "duration": 42,
    "start_time": "2023-04-16T05:02:02.757Z"
   },
   {
    "duration": 665,
    "start_time": "2023-04-16T05:02:02.801Z"
   },
   {
    "duration": 611,
    "start_time": "2023-04-16T05:02:03.467Z"
   },
   {
    "duration": 671,
    "start_time": "2023-04-16T05:02:04.079Z"
   },
   {
    "duration": 2,
    "start_time": "2023-04-16T05:02:04.751Z"
   },
   {
    "duration": 8,
    "start_time": "2023-04-16T05:02:04.755Z"
   },
   {
    "duration": 6,
    "start_time": "2023-04-16T05:02:04.764Z"
   },
   {
    "duration": 722,
    "start_time": "2023-04-16T05:02:04.773Z"
   },
   {
    "duration": 833,
    "start_time": "2023-04-16T05:02:05.498Z"
   },
   {
    "duration": 782,
    "start_time": "2023-04-16T05:02:06.333Z"
   },
   {
    "duration": 4,
    "start_time": "2023-04-16T05:02:07.117Z"
   },
   {
    "duration": 32,
    "start_time": "2023-04-16T05:02:07.123Z"
   },
   {
    "duration": 45,
    "start_time": "2023-04-16T05:02:07.157Z"
   },
   {
    "duration": 24,
    "start_time": "2023-04-16T05:02:07.203Z"
   },
   {
    "duration": 7,
    "start_time": "2023-04-16T05:02:07.228Z"
   },
   {
    "duration": 13,
    "start_time": "2023-04-16T05:02:07.236Z"
   },
   {
    "duration": 12,
    "start_time": "2023-04-16T05:02:07.250Z"
   },
   {
    "duration": 18,
    "start_time": "2023-04-16T05:02:07.263Z"
   },
   {
    "duration": 16,
    "start_time": "2023-04-16T05:02:07.283Z"
   },
   {
    "duration": 85,
    "start_time": "2023-04-16T05:02:07.301Z"
   },
   {
    "duration": 86,
    "start_time": "2023-04-16T05:02:07.394Z"
   },
   {
    "duration": 195,
    "start_time": "2023-04-16T05:02:07.485Z"
   },
   {
    "duration": 3,
    "start_time": "2023-04-16T05:02:07.682Z"
   },
   {
    "duration": 117,
    "start_time": "2023-04-16T05:02:07.686Z"
   },
   {
    "duration": 12,
    "start_time": "2023-04-16T05:02:07.804Z"
   },
   {
    "duration": 5,
    "start_time": "2023-04-16T05:02:07.819Z"
   },
   {
    "duration": 13,
    "start_time": "2023-04-16T05:02:07.826Z"
   },
   {
    "duration": 11,
    "start_time": "2023-04-16T05:02:07.841Z"
   },
   {
    "duration": 53,
    "start_time": "2023-04-16T05:02:07.853Z"
   },
   {
    "duration": 15,
    "start_time": "2023-04-16T05:02:07.908Z"
   },
   {
    "duration": 24,
    "start_time": "2023-04-16T05:02:07.924Z"
   },
   {
    "duration": 10,
    "start_time": "2023-04-16T05:02:07.949Z"
   },
   {
    "duration": 194,
    "start_time": "2023-04-16T05:02:07.961Z"
   },
   {
    "duration": 196,
    "start_time": "2023-04-16T05:02:08.156Z"
   },
   {
    "duration": 199,
    "start_time": "2023-04-16T05:02:08.354Z"
   },
   {
    "duration": 133,
    "start_time": "2023-04-16T05:02:08.555Z"
   },
   {
    "duration": 94,
    "start_time": "2023-04-16T05:02:08.689Z"
   },
   {
    "duration": 6,
    "start_time": "2023-04-16T05:02:28.719Z"
   },
   {
    "duration": 6,
    "start_time": "2023-04-16T05:03:28.510Z"
   },
   {
    "duration": 1904,
    "start_time": "2023-04-17T15:59:12.908Z"
   },
   {
    "duration": 3,
    "start_time": "2023-04-17T15:59:14.816Z"
   },
   {
    "duration": 8,
    "start_time": "2023-04-17T15:59:14.821Z"
   },
   {
    "duration": 1476,
    "start_time": "2023-04-17T15:59:14.830Z"
   },
   {
    "duration": 1943,
    "start_time": "2023-04-17T15:59:16.309Z"
   },
   {
    "duration": 1485,
    "start_time": "2023-04-17T15:59:18.255Z"
   },
   {
    "duration": 2,
    "start_time": "2023-04-17T15:59:19.742Z"
   },
   {
    "duration": 5,
    "start_time": "2023-04-17T15:59:19.746Z"
   },
   {
    "duration": 7,
    "start_time": "2023-04-17T15:59:19.756Z"
   },
   {
    "duration": 954,
    "start_time": "2023-04-17T15:59:19.765Z"
   },
   {
    "duration": 890,
    "start_time": "2023-04-17T15:59:20.721Z"
   },
   {
    "duration": 885,
    "start_time": "2023-04-17T15:59:21.613Z"
   },
   {
    "duration": 6,
    "start_time": "2023-04-17T15:59:22.502Z"
   },
   {
    "duration": 9,
    "start_time": "2023-04-17T15:59:22.520Z"
   },
   {
    "duration": 13,
    "start_time": "2023-04-17T15:59:22.531Z"
   },
   {
    "duration": 27,
    "start_time": "2023-04-17T15:59:22.562Z"
   },
   {
    "duration": 125,
    "start_time": "2023-04-17T15:59:22.593Z"
   },
   {
    "duration": 13,
    "start_time": "2023-04-17T15:59:22.720Z"
   },
   {
    "duration": 41,
    "start_time": "2023-04-17T15:59:22.736Z"
   },
   {
    "duration": 22,
    "start_time": "2023-04-17T15:59:22.787Z"
   },
   {
    "duration": 5,
    "start_time": "2023-04-17T15:59:22.811Z"
   },
   {
    "duration": 138,
    "start_time": "2023-04-17T15:59:22.818Z"
   },
   {
    "duration": 54,
    "start_time": "2023-04-17T15:59:22.958Z"
   },
   {
    "duration": 35,
    "start_time": "2023-04-17T15:59:23.073Z"
   },
   {
    "duration": 5,
    "start_time": "2023-04-17T15:59:23.116Z"
   },
   {
    "duration": 35,
    "start_time": "2023-04-17T15:59:23.176Z"
   },
   {
    "duration": 12,
    "start_time": "2023-04-17T15:59:23.213Z"
   },
   {
    "duration": 42,
    "start_time": "2023-04-17T15:59:23.230Z"
   },
   {
    "duration": 9,
    "start_time": "2023-04-17T15:59:23.274Z"
   },
   {
    "duration": 5,
    "start_time": "2023-04-17T15:59:23.285Z"
   },
   {
    "duration": 15,
    "start_time": "2023-04-17T15:59:23.292Z"
   },
   {
    "duration": 7,
    "start_time": "2023-04-17T15:59:23.309Z"
   },
   {
    "duration": 66,
    "start_time": "2023-04-17T15:59:23.318Z"
   },
   {
    "duration": 6,
    "start_time": "2023-04-17T15:59:23.386Z"
   },
   {
    "duration": 10,
    "start_time": "2023-04-17T15:59:23.394Z"
   },
   {
    "duration": 7,
    "start_time": "2023-04-17T15:59:23.406Z"
   },
   {
    "duration": 225,
    "start_time": "2023-04-17T15:59:23.415Z"
   },
   {
    "duration": 244,
    "start_time": "2023-04-17T15:59:23.642Z"
   },
   {
    "duration": 214,
    "start_time": "2023-04-17T15:59:23.903Z"
   },
   {
    "duration": 44,
    "start_time": "2023-04-17T15:59:24.119Z"
   },
   {
    "duration": 33,
    "start_time": "2023-04-17T15:59:24.167Z"
   },
   {
    "duration": 8,
    "start_time": "2023-04-17T15:59:49.407Z"
   },
   {
    "duration": 140,
    "start_time": "2023-04-17T15:59:56.431Z"
   },
   {
    "duration": 10,
    "start_time": "2023-04-17T16:00:09.440Z"
   },
   {
    "duration": 18,
    "start_time": "2023-04-17T16:00:31.886Z"
   },
   {
    "duration": 10,
    "start_time": "2023-04-17T16:00:40.686Z"
   },
   {
    "duration": 12,
    "start_time": "2023-04-17T16:00:48.110Z"
   },
   {
    "duration": 9,
    "start_time": "2023-04-17T16:00:57.217Z"
   },
   {
    "duration": 12,
    "start_time": "2023-04-17T16:01:36.089Z"
   },
   {
    "duration": 13,
    "start_time": "2023-04-17T16:01:41.192Z"
   },
   {
    "duration": 5,
    "start_time": "2023-04-17T16:01:49.642Z"
   },
   {
    "duration": 7,
    "start_time": "2023-04-17T16:01:59.522Z"
   },
   {
    "duration": 11,
    "start_time": "2023-04-17T16:02:37.498Z"
   },
   {
    "duration": 7,
    "start_time": "2023-04-17T16:02:42.395Z"
   },
   {
    "duration": 5,
    "start_time": "2023-04-17T16:06:23.087Z"
   },
   {
    "duration": 1294,
    "start_time": "2023-04-17T16:06:26.694Z"
   },
   {
    "duration": 5,
    "start_time": "2023-04-17T16:06:47.988Z"
   },
   {
    "duration": 5867,
    "start_time": "2023-04-17T16:06:59.635Z"
   },
   {
    "duration": 6085,
    "start_time": "2023-04-17T16:07:30.619Z"
   },
   {
    "duration": 6,
    "start_time": "2023-04-17T16:08:43.962Z"
   },
   {
    "duration": 5835,
    "start_time": "2023-04-17T16:08:47.853Z"
   },
   {
    "duration": 5,
    "start_time": "2023-04-17T16:09:12.886Z"
   },
   {
    "duration": 5760,
    "start_time": "2023-04-17T16:09:15.844Z"
   },
   {
    "duration": 6056,
    "start_time": "2023-04-17T16:09:35.693Z"
   },
   {
    "duration": 6208,
    "start_time": "2023-04-17T16:09:57.496Z"
   },
   {
    "duration": 5,
    "start_time": "2023-04-17T16:11:17.838Z"
   },
   {
    "duration": 5158,
    "start_time": "2023-04-17T16:11:20.447Z"
   },
   {
    "duration": 5,
    "start_time": "2023-04-17T16:12:07.033Z"
   },
   {
    "duration": 4,
    "start_time": "2023-04-17T16:12:14.639Z"
   },
   {
    "duration": 5579,
    "start_time": "2023-04-17T16:12:17.309Z"
   },
   {
    "duration": 5091,
    "start_time": "2023-04-17T16:12:26.610Z"
   },
   {
    "duration": 5248,
    "start_time": "2023-04-17T16:12:31.704Z"
   },
   {
    "duration": 4,
    "start_time": "2023-04-17T16:16:55.331Z"
   },
   {
    "duration": 4933,
    "start_time": "2023-04-17T16:17:01.371Z"
   },
   {
    "duration": 4,
    "start_time": "2023-04-17T16:17:18.341Z"
   },
   {
    "duration": 4967,
    "start_time": "2023-04-17T16:17:24.769Z"
   },
   {
    "duration": 5,
    "start_time": "2023-04-17T16:18:31.548Z"
   },
   {
    "duration": 4917,
    "start_time": "2023-04-17T16:18:34.070Z"
   },
   {
    "duration": 4800,
    "start_time": "2023-04-17T16:18:48.549Z"
   },
   {
    "duration": 4,
    "start_time": "2023-04-17T16:18:56.840Z"
   },
   {
    "duration": 5248,
    "start_time": "2023-04-17T16:19:06.891Z"
   },
   {
    "duration": 9,
    "start_time": "2023-04-17T16:21:43.143Z"
   },
   {
    "duration": 8,
    "start_time": "2023-04-17T16:21:47.535Z"
   },
   {
    "duration": 6,
    "start_time": "2023-04-17T16:28:58.781Z"
   },
   {
    "duration": 5037,
    "start_time": "2023-04-17T16:29:14.423Z"
   },
   {
    "duration": 5202,
    "start_time": "2023-04-17T16:29:26.085Z"
   },
   {
    "duration": 20,
    "start_time": "2023-04-17T16:32:35.526Z"
   },
   {
    "duration": 18,
    "start_time": "2023-04-17T16:32:44.980Z"
   },
   {
    "duration": 39,
    "start_time": "2023-04-17T16:33:10.486Z"
   },
   {
    "duration": 16,
    "start_time": "2023-04-17T16:33:49.802Z"
   },
   {
    "duration": 21,
    "start_time": "2023-04-17T16:34:16.746Z"
   },
   {
    "duration": 16,
    "start_time": "2023-04-17T16:34:24.419Z"
   },
   {
    "duration": 3,
    "start_time": "2023-04-17T16:56:24.529Z"
   },
   {
    "duration": 9,
    "start_time": "2023-04-17T16:56:24.536Z"
   },
   {
    "duration": 7,
    "start_time": "2023-04-17T16:56:24.551Z"
   },
   {
    "duration": 5908,
    "start_time": "2023-04-17T16:56:24.572Z"
   },
   {
    "duration": 5683,
    "start_time": "2023-04-17T16:56:30.494Z"
   },
   {
    "duration": 19,
    "start_time": "2023-04-17T16:56:36.179Z"
   },
   {
    "duration": 7,
    "start_time": "2023-04-17T16:56:36.203Z"
   },
   {
    "duration": 6,
    "start_time": "2023-04-17T16:56:36.211Z"
   },
   {
    "duration": 6289,
    "start_time": "2023-04-17T16:56:36.219Z"
   },
   {
    "duration": 56,
    "start_time": "2023-04-17T16:56:42.511Z"
   },
   {
    "duration": 34,
    "start_time": "2023-04-17T16:56:42.570Z"
   },
   {
    "duration": 5,
    "start_time": "2023-04-17T16:56:42.606Z"
   },
   {
    "duration": 15,
    "start_time": "2023-04-17T16:56:42.615Z"
   },
   {
    "duration": 19,
    "start_time": "2023-04-17T16:56:42.632Z"
   },
   {
    "duration": 46,
    "start_time": "2023-04-17T16:56:42.653Z"
   },
   {
    "duration": 6,
    "start_time": "2023-04-17T16:56:42.703Z"
   },
   {
    "duration": 17,
    "start_time": "2023-04-17T16:56:42.711Z"
   },
   {
    "duration": 12,
    "start_time": "2023-04-17T16:56:42.730Z"
   },
   {
    "duration": 38,
    "start_time": "2023-04-17T16:56:42.744Z"
   },
   {
    "duration": 3,
    "start_time": "2023-04-17T16:57:00.313Z"
   },
   {
    "duration": 3,
    "start_time": "2023-04-17T16:57:00.909Z"
   },
   {
    "duration": 6,
    "start_time": "2023-04-17T17:14:39.091Z"
   },
   {
    "duration": 5,
    "start_time": "2023-04-17T17:15:39.303Z"
   },
   {
    "duration": 4,
    "start_time": "2023-04-17T17:15:45.984Z"
   },
   {
    "duration": 337,
    "start_time": "2023-04-17T17:15:48.779Z"
   },
   {
    "duration": 4,
    "start_time": "2023-04-17T17:16:29.043Z"
   },
   {
    "duration": 826,
    "start_time": "2023-04-17T17:16:32.020Z"
   },
   {
    "duration": 5,
    "start_time": "2023-04-17T17:16:57.520Z"
   },
   {
    "duration": 718,
    "start_time": "2023-04-17T17:16:59.779Z"
   },
   {
    "duration": 4,
    "start_time": "2023-04-17T17:20:44.047Z"
   },
   {
    "duration": 1356,
    "start_time": "2023-04-17T17:20:45.786Z"
   },
   {
    "duration": 4,
    "start_time": "2023-04-17T17:21:33.193Z"
   },
   {
    "duration": 9,
    "start_time": "2023-04-17T17:21:33.199Z"
   },
   {
    "duration": 5,
    "start_time": "2023-04-17T17:21:33.218Z"
   },
   {
    "duration": 6020,
    "start_time": "2023-04-17T17:21:33.224Z"
   },
   {
    "duration": 6115,
    "start_time": "2023-04-17T17:21:39.246Z"
   },
   {
    "duration": 13,
    "start_time": "2023-04-17T17:21:45.362Z"
   },
   {
    "duration": 6,
    "start_time": "2023-04-17T17:21:45.378Z"
   },
   {
    "duration": 8,
    "start_time": "2023-04-17T17:21:45.386Z"
   },
   {
    "duration": 5721,
    "start_time": "2023-04-17T17:21:45.395Z"
   },
   {
    "duration": 28,
    "start_time": "2023-04-17T17:21:51.117Z"
   },
   {
    "duration": 28,
    "start_time": "2023-04-17T17:21:51.156Z"
   },
   {
    "duration": 7,
    "start_time": "2023-04-17T17:21:51.187Z"
   },
   {
    "duration": 12,
    "start_time": "2023-04-17T17:21:51.196Z"
   },
   {
    "duration": 13,
    "start_time": "2023-04-17T17:21:51.209Z"
   },
   {
    "duration": 8,
    "start_time": "2023-04-17T17:21:51.224Z"
   },
   {
    "duration": 33,
    "start_time": "2023-04-17T17:21:51.234Z"
   },
   {
    "duration": 24,
    "start_time": "2023-04-17T17:21:51.270Z"
   },
   {
    "duration": 18,
    "start_time": "2023-04-17T17:21:51.296Z"
   },
   {
    "duration": 10,
    "start_time": "2023-04-17T17:21:51.315Z"
   },
   {
    "duration": 3,
    "start_time": "2023-04-17T17:21:51.326Z"
   },
   {
    "duration": 4,
    "start_time": "2023-04-17T17:21:51.330Z"
   },
   {
    "duration": 3,
    "start_time": "2023-04-17T17:21:51.336Z"
   },
   {
    "duration": 4,
    "start_time": "2023-04-17T17:22:08.819Z"
   },
   {
    "duration": 5,
    "start_time": "2023-04-17T17:22:10.387Z"
   },
   {
    "duration": 1573,
    "start_time": "2023-04-17T17:22:13.677Z"
   },
   {
    "duration": 5,
    "start_time": "2023-04-17T17:22:28.881Z"
   },
   {
    "duration": 1242,
    "start_time": "2023-04-17T17:22:33.386Z"
   },
   {
    "duration": 4,
    "start_time": "2023-04-17T17:22:48.502Z"
   },
   {
    "duration": 1508,
    "start_time": "2023-04-17T17:22:52.341Z"
   },
   {
    "duration": 4,
    "start_time": "2023-04-17T17:23:04.536Z"
   },
   {
    "duration": 1426,
    "start_time": "2023-04-17T17:23:07.886Z"
   },
   {
    "duration": 5,
    "start_time": "2023-04-17T17:23:26.582Z"
   },
   {
    "duration": 1628,
    "start_time": "2023-04-17T17:23:29.981Z"
   },
   {
    "duration": 5,
    "start_time": "2023-04-17T17:23:40.383Z"
   },
   {
    "duration": 4,
    "start_time": "2023-04-17T17:23:40.390Z"
   },
   {
    "duration": 6,
    "start_time": "2023-04-17T17:23:40.396Z"
   },
   {
    "duration": 5662,
    "start_time": "2023-04-17T17:23:40.421Z"
   },
   {
    "duration": 5205,
    "start_time": "2023-04-17T17:23:46.085Z"
   },
   {
    "duration": 8,
    "start_time": "2023-04-17T17:23:51.291Z"
   },
   {
    "duration": 9,
    "start_time": "2023-04-17T17:23:51.301Z"
   },
   {
    "duration": 9,
    "start_time": "2023-04-17T17:23:51.313Z"
   },
   {
    "duration": 5270,
    "start_time": "2023-04-17T17:23:51.323Z"
   },
   {
    "duration": 29,
    "start_time": "2023-04-17T17:23:56.595Z"
   },
   {
    "duration": 16,
    "start_time": "2023-04-17T17:23:56.626Z"
   },
   {
    "duration": 19,
    "start_time": "2023-04-17T17:23:56.661Z"
   },
   {
    "duration": 9,
    "start_time": "2023-04-17T17:23:56.683Z"
   },
   {
    "duration": 12,
    "start_time": "2023-04-17T17:23:56.694Z"
   },
   {
    "duration": 20,
    "start_time": "2023-04-17T17:23:56.707Z"
   },
   {
    "duration": 4,
    "start_time": "2023-04-17T17:23:56.729Z"
   },
   {
    "duration": 14,
    "start_time": "2023-04-17T17:23:56.736Z"
   },
   {
    "duration": 29,
    "start_time": "2023-04-17T17:23:56.752Z"
   },
   {
    "duration": 16,
    "start_time": "2023-04-17T17:23:56.783Z"
   },
   {
    "duration": 2,
    "start_time": "2023-04-17T17:23:56.801Z"
   },
   {
    "duration": 6,
    "start_time": "2023-04-17T17:23:56.805Z"
   },
   {
    "duration": 6,
    "start_time": "2023-04-17T17:23:56.813Z"
   },
   {
    "duration": 7,
    "start_time": "2023-04-17T17:23:56.821Z"
   },
   {
    "duration": 1638,
    "start_time": "2023-04-17T17:24:15.275Z"
   },
   {
    "duration": 1355,
    "start_time": "2023-04-17T17:24:44.124Z"
   },
   {
    "duration": 4,
    "start_time": "2023-04-17T17:30:59.528Z"
   },
   {
    "duration": 1511,
    "start_time": "2023-04-17T17:31:03.475Z"
   },
   {
    "duration": 6,
    "start_time": "2023-04-17T17:31:19.919Z"
   },
   {
    "duration": 1275,
    "start_time": "2023-04-17T17:31:23.750Z"
   },
   {
    "duration": 3,
    "start_time": "2023-04-17T17:31:44.349Z"
   },
   {
    "duration": 32,
    "start_time": "2023-04-17T17:31:44.355Z"
   },
   {
    "duration": 13,
    "start_time": "2023-04-17T17:31:44.389Z"
   },
   {
    "duration": 5412,
    "start_time": "2023-04-17T17:31:44.404Z"
   },
   {
    "duration": 5079,
    "start_time": "2023-04-17T17:31:49.818Z"
   },
   {
    "duration": 10,
    "start_time": "2023-04-17T17:31:54.899Z"
   },
   {
    "duration": 10,
    "start_time": "2023-04-17T17:31:54.911Z"
   },
   {
    "duration": 5,
    "start_time": "2023-04-17T17:31:54.923Z"
   },
   {
    "duration": 6156,
    "start_time": "2023-04-17T17:31:54.930Z"
   },
   {
    "duration": 30,
    "start_time": "2023-04-17T17:32:01.095Z"
   },
   {
    "duration": 67,
    "start_time": "2023-04-17T17:32:01.127Z"
   },
   {
    "duration": 88,
    "start_time": "2023-04-17T17:32:01.197Z"
   },
   {
    "duration": 89,
    "start_time": "2023-04-17T17:32:01.288Z"
   },
   {
    "duration": 75,
    "start_time": "2023-04-17T17:32:01.380Z"
   },
   {
    "duration": 54,
    "start_time": "2023-04-17T17:32:01.457Z"
   },
   {
    "duration": 77,
    "start_time": "2023-04-17T17:32:01.513Z"
   },
   {
    "duration": 59,
    "start_time": "2023-04-17T17:32:01.592Z"
   },
   {
    "duration": 56,
    "start_time": "2023-04-17T17:32:01.653Z"
   },
   {
    "duration": 51,
    "start_time": "2023-04-17T17:32:01.711Z"
   },
   {
    "duration": 42,
    "start_time": "2023-04-17T17:32:01.768Z"
   },
   {
    "duration": 79,
    "start_time": "2023-04-17T17:32:01.812Z"
   },
   {
    "duration": 97,
    "start_time": "2023-04-17T17:32:01.893Z"
   },
   {
    "duration": 58,
    "start_time": "2023-04-17T17:32:01.992Z"
   },
   {
    "duration": 1539,
    "start_time": "2023-04-17T17:32:02.051Z"
   },
   {
    "duration": 1333,
    "start_time": "2023-04-17T17:32:03.595Z"
   },
   {
    "duration": 1563,
    "start_time": "2023-04-17T17:32:04.931Z"
   },
   {
    "duration": 5,
    "start_time": "2023-04-17T17:32:40.886Z"
   },
   {
    "duration": 1341,
    "start_time": "2023-04-17T17:32:44.506Z"
   },
   {
    "duration": 5,
    "start_time": "2023-04-17T17:32:58.219Z"
   },
   {
    "duration": 4,
    "start_time": "2023-04-17T17:33:12.393Z"
   },
   {
    "duration": 4,
    "start_time": "2023-04-17T17:33:12.400Z"
   },
   {
    "duration": 7,
    "start_time": "2023-04-17T17:33:12.406Z"
   },
   {
    "duration": 5921,
    "start_time": "2023-04-17T17:33:12.415Z"
   },
   {
    "duration": 5475,
    "start_time": "2023-04-17T17:33:18.339Z"
   },
   {
    "duration": 9,
    "start_time": "2023-04-17T17:33:23.816Z"
   },
   {
    "duration": 5,
    "start_time": "2023-04-17T17:33:23.826Z"
   },
   {
    "duration": 27,
    "start_time": "2023-04-17T17:33:23.833Z"
   },
   {
    "duration": 5379,
    "start_time": "2023-04-17T17:33:23.867Z"
   },
   {
    "duration": 47,
    "start_time": "2023-04-17T17:33:29.249Z"
   },
   {
    "duration": 17,
    "start_time": "2023-04-17T17:33:29.298Z"
   },
   {
    "duration": 4,
    "start_time": "2023-04-17T17:33:29.317Z"
   },
   {
    "duration": 12,
    "start_time": "2023-04-17T17:33:29.322Z"
   },
   {
    "duration": 45,
    "start_time": "2023-04-17T17:33:29.335Z"
   },
   {
    "duration": 39,
    "start_time": "2023-04-17T17:33:29.382Z"
   },
   {
    "duration": 8,
    "start_time": "2023-04-17T17:33:29.423Z"
   },
   {
    "duration": 15,
    "start_time": "2023-04-17T17:33:29.433Z"
   },
   {
    "duration": 36,
    "start_time": "2023-04-17T17:33:29.450Z"
   },
   {
    "duration": 11,
    "start_time": "2023-04-17T17:33:29.490Z"
   },
   {
    "duration": 3,
    "start_time": "2023-04-17T17:33:29.503Z"
   },
   {
    "duration": 4,
    "start_time": "2023-04-17T17:33:29.508Z"
   },
   {
    "duration": 6,
    "start_time": "2023-04-17T17:33:29.514Z"
   },
   {
    "duration": 10,
    "start_time": "2023-04-17T17:33:29.522Z"
   },
   {
    "duration": 1458,
    "start_time": "2023-04-17T17:33:29.534Z"
   },
   {
    "duration": 1396,
    "start_time": "2023-04-17T17:33:30.995Z"
   },
   {
    "duration": 1193,
    "start_time": "2023-04-17T17:33:32.394Z"
   },
   {
    "duration": 4,
    "start_time": "2023-04-17T17:49:48.317Z"
   },
   {
    "duration": 21,
    "start_time": "2023-04-17T17:49:51.222Z"
   },
   {
    "duration": 15,
    "start_time": "2023-04-17T17:49:54.723Z"
   },
   {
    "duration": 17,
    "start_time": "2023-04-17T17:49:57.775Z"
   },
   {
    "duration": 877,
    "start_time": "2023-04-17T17:51:10.246Z"
   },
   {
    "duration": 851,
    "start_time": "2023-04-17T17:52:38.297Z"
   },
   {
    "duration": 21,
    "start_time": "2023-04-17T17:53:24.816Z"
   },
   {
    "duration": 14,
    "start_time": "2023-04-17T17:53:45.993Z"
   },
   {
    "duration": 9,
    "start_time": "2023-04-17T17:54:15.396Z"
   },
   {
    "duration": 23,
    "start_time": "2023-04-17T17:55:22.592Z"
   },
   {
    "duration": 4,
    "start_time": "2023-04-17T18:09:47.011Z"
   },
   {
    "duration": 4,
    "start_time": "2023-04-17T18:09:59.386Z"
   },
   {
    "duration": 2,
    "start_time": "2023-04-17T18:10:49.749Z"
   },
   {
    "duration": 3,
    "start_time": "2023-04-17T18:10:59.786Z"
   },
   {
    "duration": 5,
    "start_time": "2023-04-17T18:11:24.597Z"
   },
   {
    "duration": 3,
    "start_time": "2023-04-17T18:11:37.007Z"
   },
   {
    "duration": 3,
    "start_time": "2023-04-17T18:11:37.613Z"
   },
   {
    "duration": 2,
    "start_time": "2023-04-17T18:11:38.209Z"
   },
   {
    "duration": 4,
    "start_time": "2023-04-17T18:11:46.986Z"
   },
   {
    "duration": 4,
    "start_time": "2023-04-17T18:11:48.681Z"
   },
   {
    "duration": 44,
    "start_time": "2023-04-17T18:12:24.605Z"
   },
   {
    "duration": 34,
    "start_time": "2023-04-17T18:17:17.088Z"
   },
   {
    "duration": 3,
    "start_time": "2023-04-17T18:17:27.518Z"
   },
   {
    "duration": 3,
    "start_time": "2023-04-17T18:17:48.546Z"
   },
   {
    "duration": 12,
    "start_time": "2023-04-17T18:17:55.187Z"
   },
   {
    "duration": 10,
    "start_time": "2023-04-17T18:18:19.286Z"
   },
   {
    "duration": 17,
    "start_time": "2023-04-17T18:18:27.002Z"
   },
   {
    "duration": 10,
    "start_time": "2023-04-17T18:20:14.235Z"
   },
   {
    "duration": 4,
    "start_time": "2023-04-17T18:20:22.930Z"
   },
   {
    "duration": 38,
    "start_time": "2023-04-17T18:20:30.828Z"
   },
   {
    "duration": 8,
    "start_time": "2023-04-17T18:21:03.763Z"
   },
   {
    "duration": 39,
    "start_time": "2023-04-17T18:21:08.853Z"
   },
   {
    "duration": 34,
    "start_time": "2023-04-17T18:22:02.150Z"
   },
   {
    "duration": 34,
    "start_time": "2023-04-17T18:22:31.945Z"
   },
   {
    "duration": 4,
    "start_time": "2023-04-17T18:23:15.419Z"
   },
   {
    "duration": 22,
    "start_time": "2023-04-17T18:23:19.526Z"
   },
   {
    "duration": 5,
    "start_time": "2023-04-17T18:26:49.247Z"
   },
   {
    "duration": 4,
    "start_time": "2023-04-17T18:26:59.003Z"
   },
   {
    "duration": 9,
    "start_time": "2023-04-17T18:27:01.712Z"
   },
   {
    "duration": 9,
    "start_time": "2023-04-17T18:27:14.127Z"
   },
   {
    "duration": 10,
    "start_time": "2023-04-17T18:27:21.116Z"
   },
   {
    "duration": 9,
    "start_time": "2023-04-17T18:27:33.130Z"
   },
   {
    "duration": 9,
    "start_time": "2023-04-17T18:27:42.413Z"
   },
   {
    "duration": 9,
    "start_time": "2023-04-17T18:27:47.712Z"
   },
   {
    "duration": 10,
    "start_time": "2023-04-17T18:27:54.589Z"
   },
   {
    "duration": 4,
    "start_time": "2023-04-17T18:28:05.011Z"
   },
   {
    "duration": 9,
    "start_time": "2023-04-17T18:28:05.019Z"
   },
   {
    "duration": 13,
    "start_time": "2023-04-17T18:28:05.035Z"
   },
   {
    "duration": 5813,
    "start_time": "2023-04-17T18:28:05.050Z"
   },
   {
    "duration": 5573,
    "start_time": "2023-04-17T18:28:10.864Z"
   },
   {
    "duration": 17,
    "start_time": "2023-04-17T18:28:16.439Z"
   },
   {
    "duration": 50,
    "start_time": "2023-04-17T18:28:16.458Z"
   },
   {
    "duration": 5,
    "start_time": "2023-04-17T18:28:16.510Z"
   },
   {
    "duration": 5932,
    "start_time": "2023-04-17T18:28:16.516Z"
   },
   {
    "duration": 43,
    "start_time": "2023-04-17T18:28:22.456Z"
   },
   {
    "duration": 18,
    "start_time": "2023-04-17T18:28:22.505Z"
   },
   {
    "duration": 5,
    "start_time": "2023-04-17T18:28:22.524Z"
   },
   {
    "duration": 39,
    "start_time": "2023-04-17T18:28:22.531Z"
   },
   {
    "duration": 28,
    "start_time": "2023-04-17T18:28:22.574Z"
   },
   {
    "duration": 9,
    "start_time": "2023-04-17T18:28:22.603Z"
   },
   {
    "duration": 8,
    "start_time": "2023-04-17T18:28:22.614Z"
   },
   {
    "duration": 15,
    "start_time": "2023-04-17T18:28:22.624Z"
   },
   {
    "duration": 11,
    "start_time": "2023-04-17T18:28:22.641Z"
   },
   {
    "duration": 41,
    "start_time": "2023-04-17T18:28:22.654Z"
   },
   {
    "duration": 6,
    "start_time": "2023-04-17T18:28:22.697Z"
   },
   {
    "duration": 3,
    "start_time": "2023-04-17T18:28:22.704Z"
   },
   {
    "duration": 4,
    "start_time": "2023-04-17T18:28:22.709Z"
   },
   {
    "duration": 6,
    "start_time": "2023-04-17T18:28:22.716Z"
   },
   {
    "duration": 1290,
    "start_time": "2023-04-17T18:28:22.724Z"
   },
   {
    "duration": 1404,
    "start_time": "2023-04-17T18:28:24.015Z"
   },
   {
    "duration": 1257,
    "start_time": "2023-04-17T18:28:25.421Z"
   },
   {
    "duration": 10,
    "start_time": "2023-04-17T18:28:26.682Z"
   },
   {
    "duration": 16,
    "start_time": "2023-04-17T18:28:26.697Z"
   },
   {
    "duration": 115,
    "start_time": "2023-04-17T18:28:26.757Z"
   },
   {
    "duration": 28,
    "start_time": "2023-04-17T18:28:26.874Z"
   },
   {
    "duration": 161,
    "start_time": "2023-04-17T18:28:26.905Z"
   },
   {
    "duration": 10,
    "start_time": "2023-04-17T18:28:27.078Z"
   },
   {
    "duration": 69,
    "start_time": "2023-04-17T18:28:27.098Z"
   },
   {
    "duration": 7,
    "start_time": "2023-04-17T18:28:27.176Z"
   },
   {
    "duration": 10,
    "start_time": "2023-04-17T18:28:27.186Z"
   },
   {
    "duration": 5,
    "start_time": "2023-04-17T18:28:27.198Z"
   },
   {
    "duration": 5,
    "start_time": "2023-04-17T18:28:27.207Z"
   },
   {
    "duration": 9,
    "start_time": "2023-04-17T18:28:46.582Z"
   },
   {
    "duration": 6,
    "start_time": "2023-04-17T18:28:55.842Z"
   },
   {
    "duration": 4,
    "start_time": "2023-04-17T18:29:05.218Z"
   },
   {
    "duration": 5,
    "start_time": "2023-04-17T18:29:14.120Z"
   },
   {
    "duration": 10,
    "start_time": "2023-04-17T18:29:19.206Z"
   },
   {
    "duration": 3,
    "start_time": "2023-04-17T18:29:44.926Z"
   },
   {
    "duration": 26,
    "start_time": "2023-04-17T18:29:52.954Z"
   },
   {
    "duration": 32,
    "start_time": "2023-04-17T18:30:14.661Z"
   },
   {
    "duration": 3,
    "start_time": "2023-04-17T18:30:36.006Z"
   },
   {
    "duration": 16,
    "start_time": "2023-04-17T18:30:36.013Z"
   },
   {
    "duration": 16,
    "start_time": "2023-04-17T18:30:36.031Z"
   },
   {
    "duration": 6050,
    "start_time": "2023-04-17T18:30:36.049Z"
   },
   {
    "duration": 5799,
    "start_time": "2023-04-17T18:30:42.102Z"
   },
   {
    "duration": 9,
    "start_time": "2023-04-17T18:30:47.903Z"
   },
   {
    "duration": 5,
    "start_time": "2023-04-17T18:30:47.914Z"
   },
   {
    "duration": 11,
    "start_time": "2023-04-17T18:30:47.920Z"
   },
   {
    "duration": 5682,
    "start_time": "2023-04-17T18:30:47.933Z"
   },
   {
    "duration": 25,
    "start_time": "2023-04-17T18:30:53.617Z"
   },
   {
    "duration": 25,
    "start_time": "2023-04-17T18:30:53.655Z"
   },
   {
    "duration": 22,
    "start_time": "2023-04-17T18:30:53.682Z"
   },
   {
    "duration": 8,
    "start_time": "2023-04-17T18:30:53.707Z"
   },
   {
    "duration": 9,
    "start_time": "2023-04-17T18:30:53.716Z"
   },
   {
    "duration": 7,
    "start_time": "2023-04-17T18:30:53.727Z"
   },
   {
    "duration": 5,
    "start_time": "2023-04-17T18:30:53.735Z"
   },
   {
    "duration": 31,
    "start_time": "2023-04-17T18:30:53.741Z"
   },
   {
    "duration": 17,
    "start_time": "2023-04-17T18:30:53.773Z"
   },
   {
    "duration": 10,
    "start_time": "2023-04-17T18:30:53.795Z"
   },
   {
    "duration": 3,
    "start_time": "2023-04-17T18:30:53.807Z"
   },
   {
    "duration": 6,
    "start_time": "2023-04-17T18:30:53.812Z"
   },
   {
    "duration": 4,
    "start_time": "2023-04-17T18:30:53.820Z"
   },
   {
    "duration": 4,
    "start_time": "2023-04-17T18:30:53.826Z"
   },
   {
    "duration": 1408,
    "start_time": "2023-04-17T18:30:53.832Z"
   },
   {
    "duration": 1208,
    "start_time": "2023-04-17T18:30:55.242Z"
   },
   {
    "duration": 1440,
    "start_time": "2023-04-17T18:30:56.455Z"
   },
   {
    "duration": 4,
    "start_time": "2023-04-17T18:30:57.901Z"
   },
   {
    "duration": 72,
    "start_time": "2023-04-17T18:30:57.908Z"
   },
   {
    "duration": 113,
    "start_time": "2023-04-17T18:30:57.990Z"
   },
   {
    "duration": 122,
    "start_time": "2023-04-17T18:30:58.158Z"
   },
   {
    "duration": 104,
    "start_time": "2023-04-17T18:30:58.294Z"
   },
   {
    "duration": 75,
    "start_time": "2023-04-17T18:30:58.402Z"
   },
   {
    "duration": 11,
    "start_time": "2023-04-17T18:30:58.487Z"
   },
   {
    "duration": 13,
    "start_time": "2023-04-17T18:30:58.561Z"
   },
   {
    "duration": 11,
    "start_time": "2023-04-17T18:30:58.583Z"
   },
   {
    "duration": 14,
    "start_time": "2023-04-17T18:30:58.596Z"
   },
   {
    "duration": 10,
    "start_time": "2023-04-17T18:30:58.611Z"
   },
   {
    "duration": 6,
    "start_time": "2023-04-17T18:31:13.000Z"
   },
   {
    "duration": 4,
    "start_time": "2023-04-17T18:31:15.606Z"
   },
   {
    "duration": 9,
    "start_time": "2023-04-17T18:31:19.862Z"
   },
   {
    "duration": 15,
    "start_time": "2023-04-17T18:31:24.499Z"
   },
   {
    "duration": 17,
    "start_time": "2023-04-17T18:31:36.892Z"
   },
   {
    "duration": 79,
    "start_time": "2023-04-17T18:55:30.212Z"
   },
   {
    "duration": 19,
    "start_time": "2023-04-17T18:56:10.785Z"
   },
   {
    "duration": 18,
    "start_time": "2023-04-17T18:56:19.498Z"
   },
   {
    "duration": 21,
    "start_time": "2023-04-17T18:56:27.602Z"
   },
   {
    "duration": 19,
    "start_time": "2023-04-17T18:56:35.003Z"
   },
   {
    "duration": 18,
    "start_time": "2023-04-17T18:56:41.808Z"
   },
   {
    "duration": 4,
    "start_time": "2023-04-17T19:00:54.143Z"
   },
   {
    "duration": 1552,
    "start_time": "2023-04-18T17:11:04.241Z"
   },
   {
    "duration": 3,
    "start_time": "2023-04-18T17:11:05.795Z"
   },
   {
    "duration": 11,
    "start_time": "2023-04-18T17:11:05.799Z"
   },
   {
    "duration": 5341,
    "start_time": "2023-04-18T17:11:05.812Z"
   },
   {
    "duration": 5635,
    "start_time": "2023-04-18T17:11:11.155Z"
   },
   {
    "duration": 9,
    "start_time": "2023-04-18T17:11:16.792Z"
   },
   {
    "duration": 5,
    "start_time": "2023-04-18T17:11:16.802Z"
   },
   {
    "duration": 5,
    "start_time": "2023-04-18T17:11:16.809Z"
   },
   {
    "duration": 5356,
    "start_time": "2023-04-18T17:11:16.816Z"
   },
   {
    "duration": 25,
    "start_time": "2023-04-18T17:11:22.174Z"
   },
   {
    "duration": 24,
    "start_time": "2023-04-18T17:11:22.201Z"
   },
   {
    "duration": 3,
    "start_time": "2023-04-18T17:11:22.227Z"
   },
   {
    "duration": 8,
    "start_time": "2023-04-18T17:11:22.232Z"
   },
   {
    "duration": 13,
    "start_time": "2023-04-18T17:11:22.243Z"
   },
   {
    "duration": 9,
    "start_time": "2023-04-18T17:11:22.284Z"
   },
   {
    "duration": 9,
    "start_time": "2023-04-18T17:11:22.294Z"
   },
   {
    "duration": 12,
    "start_time": "2023-04-18T17:11:22.305Z"
   },
   {
    "duration": 12,
    "start_time": "2023-04-18T17:11:22.318Z"
   },
   {
    "duration": 10,
    "start_time": "2023-04-18T17:11:22.332Z"
   },
   {
    "duration": 2,
    "start_time": "2023-04-18T17:11:22.344Z"
   },
   {
    "duration": 6,
    "start_time": "2023-04-18T17:11:22.348Z"
   },
   {
    "duration": 4,
    "start_time": "2023-04-18T17:11:22.385Z"
   },
   {
    "duration": 11,
    "start_time": "2023-04-18T17:11:22.391Z"
   },
   {
    "duration": 1156,
    "start_time": "2023-04-18T17:11:22.403Z"
   },
   {
    "duration": 1330,
    "start_time": "2023-04-18T17:11:23.561Z"
   },
   {
    "duration": 1098,
    "start_time": "2023-04-18T17:11:24.893Z"
   },
   {
    "duration": 4,
    "start_time": "2023-04-18T17:11:25.993Z"
   },
   {
    "duration": 88,
    "start_time": "2023-04-18T17:11:25.998Z"
   },
   {
    "duration": 101,
    "start_time": "2023-04-18T17:11:26.088Z"
   },
   {
    "duration": 99,
    "start_time": "2023-04-18T17:11:26.191Z"
   },
   {
    "duration": 102,
    "start_time": "2023-04-18T17:11:26.293Z"
   },
   {
    "duration": 94,
    "start_time": "2023-04-18T17:11:26.492Z"
   },
   {
    "duration": 4,
    "start_time": "2023-04-18T17:11:26.588Z"
   },
   {
    "duration": 3,
    "start_time": "2023-04-18T17:11:26.594Z"
   },
   {
    "duration": 5,
    "start_time": "2023-04-18T17:11:26.599Z"
   },
   {
    "duration": 5,
    "start_time": "2023-04-18T17:11:26.605Z"
   },
   {
    "duration": 5,
    "start_time": "2023-04-18T17:11:26.612Z"
   },
   {
    "duration": 4,
    "start_time": "2023-04-18T17:11:26.619Z"
   },
   {
    "duration": 13,
    "start_time": "2023-04-18T17:11:26.625Z"
   },
   {
    "duration": 10,
    "start_time": "2023-04-18T17:11:26.640Z"
   },
   {
    "duration": 5,
    "start_time": "2023-04-18T17:11:26.684Z"
   },
   {
    "duration": 20,
    "start_time": "2023-04-18T17:11:26.691Z"
   },
   {
    "duration": 4,
    "start_time": "2023-04-18T17:11:26.714Z"
   },
   {
    "duration": 5,
    "start_time": "2023-04-18T17:11:26.721Z"
   },
   {
    "duration": 8,
    "start_time": "2023-04-18T17:11:26.727Z"
   },
   {
    "duration": 9,
    "start_time": "2023-04-18T17:11:26.737Z"
   },
   {
    "duration": 170,
    "start_time": "2023-04-18T17:11:26.748Z"
   },
   {
    "duration": 0,
    "start_time": "2023-04-18T17:11:26.920Z"
   },
   {
    "duration": 0,
    "start_time": "2023-04-18T17:11:26.921Z"
   },
   {
    "duration": 0,
    "start_time": "2023-04-18T17:11:26.923Z"
   },
   {
    "duration": 0,
    "start_time": "2023-04-18T17:11:26.925Z"
   },
   {
    "duration": 20,
    "start_time": "2023-04-18T17:11:49.972Z"
   },
   {
    "duration": 19,
    "start_time": "2023-04-18T17:12:05.539Z"
   },
   {
    "duration": 3,
    "start_time": "2023-04-18T18:01:04.119Z"
   },
   {
    "duration": 4,
    "start_time": "2023-04-18T18:01:09.625Z"
   },
   {
    "duration": 5,
    "start_time": "2023-04-18T18:01:56.936Z"
   },
   {
    "duration": 1221,
    "start_time": "2023-04-18T18:02:04.676Z"
   },
   {
    "duration": 1366,
    "start_time": "2023-04-18T18:02:27.009Z"
   },
   {
    "duration": 1344,
    "start_time": "2023-04-18T18:02:37.699Z"
   },
   {
    "duration": 5,
    "start_time": "2023-04-18T18:05:01.819Z"
   },
   {
    "duration": 1289,
    "start_time": "2023-04-18T18:05:06.448Z"
   },
   {
    "duration": 1208,
    "start_time": "2023-04-18T18:05:20.503Z"
   },
   {
    "duration": 1249,
    "start_time": "2023-04-18T18:05:26.706Z"
   },
   {
    "duration": 4,
    "start_time": "2023-04-18T18:05:37.503Z"
   },
   {
    "duration": 3,
    "start_time": "2023-04-18T18:05:47.525Z"
   },
   {
    "duration": 4,
    "start_time": "2023-04-18T18:06:06.844Z"
   },
   {
    "duration": 4,
    "start_time": "2023-04-18T18:06:12.601Z"
   },
   {
    "duration": 1221,
    "start_time": "2023-04-18T18:06:15.100Z"
   },
   {
    "duration": 1226,
    "start_time": "2023-04-18T18:06:21.902Z"
   },
   {
    "duration": 1269,
    "start_time": "2023-04-18T18:06:30.618Z"
   },
   {
    "duration": 4,
    "start_time": "2023-04-18T18:06:53.797Z"
   },
   {
    "duration": 1264,
    "start_time": "2023-04-18T18:06:56.213Z"
   },
   {
    "duration": 4,
    "start_time": "2023-04-18T18:07:07.303Z"
   },
   {
    "duration": 1328,
    "start_time": "2023-04-18T18:07:12.019Z"
   },
   {
    "duration": 1243,
    "start_time": "2023-04-18T18:07:21.875Z"
   },
   {
    "duration": 1310,
    "start_time": "2023-04-18T18:07:26.207Z"
   },
   {
    "duration": 3,
    "start_time": "2023-04-18T18:13:26.380Z"
   },
   {
    "duration": 1294,
    "start_time": "2023-04-18T18:13:29.576Z"
   },
   {
    "duration": 1239,
    "start_time": "2023-04-18T18:13:33.550Z"
   },
   {
    "duration": 1335,
    "start_time": "2023-04-18T18:13:37.909Z"
   },
   {
    "duration": 50,
    "start_time": "2023-04-18T18:16:36.514Z"
   },
   {
    "duration": 1362,
    "start_time": "2023-04-18T18:36:40.214Z"
   },
   {
    "duration": 2,
    "start_time": "2023-04-18T18:36:41.578Z"
   },
   {
    "duration": 9,
    "start_time": "2023-04-18T18:36:41.582Z"
   },
   {
    "duration": 4877,
    "start_time": "2023-04-18T18:36:41.592Z"
   },
   {
    "duration": 4560,
    "start_time": "2023-04-18T18:36:46.471Z"
   },
   {
    "duration": 8,
    "start_time": "2023-04-18T18:36:51.033Z"
   },
   {
    "duration": 25,
    "start_time": "2023-04-18T18:36:51.043Z"
   },
   {
    "duration": 24,
    "start_time": "2023-04-18T18:36:51.070Z"
   },
   {
    "duration": 4719,
    "start_time": "2023-04-18T18:36:51.095Z"
   },
   {
    "duration": 28,
    "start_time": "2023-04-18T18:36:55.816Z"
   },
   {
    "duration": 17,
    "start_time": "2023-04-18T18:36:55.846Z"
   },
   {
    "duration": 5,
    "start_time": "2023-04-18T18:36:55.885Z"
   },
   {
    "duration": 10,
    "start_time": "2023-04-18T18:36:55.892Z"
   },
   {
    "duration": 9,
    "start_time": "2023-04-18T18:36:55.906Z"
   },
   {
    "duration": 9,
    "start_time": "2023-04-18T18:36:55.917Z"
   },
   {
    "duration": 4,
    "start_time": "2023-04-18T18:36:55.928Z"
   },
   {
    "duration": 52,
    "start_time": "2023-04-18T18:36:55.933Z"
   },
   {
    "duration": 12,
    "start_time": "2023-04-18T18:36:55.987Z"
   },
   {
    "duration": 11,
    "start_time": "2023-04-18T18:36:56.001Z"
   },
   {
    "duration": 3,
    "start_time": "2023-04-18T18:36:56.014Z"
   },
   {
    "duration": 5,
    "start_time": "2023-04-18T18:36:56.019Z"
   },
   {
    "duration": 24,
    "start_time": "2023-04-18T18:36:56.026Z"
   },
   {
    "duration": 16,
    "start_time": "2023-04-18T18:36:56.051Z"
   },
   {
    "duration": 1182,
    "start_time": "2023-04-18T18:36:56.069Z"
   },
   {
    "duration": 1236,
    "start_time": "2023-04-18T18:36:57.252Z"
   },
   {
    "duration": 1016,
    "start_time": "2023-04-18T18:36:58.489Z"
   },
   {
    "duration": 3,
    "start_time": "2023-04-18T18:36:59.507Z"
   },
   {
    "duration": 76,
    "start_time": "2023-04-18T18:36:59.511Z"
   },
   {
    "duration": 104,
    "start_time": "2023-04-18T18:36:59.590Z"
   },
   {
    "duration": 196,
    "start_time": "2023-04-18T18:36:59.696Z"
   },
   {
    "duration": 107,
    "start_time": "2023-04-18T18:36:59.894Z"
   },
   {
    "duration": 183,
    "start_time": "2023-04-18T18:37:00.003Z"
   },
   {
    "duration": 37,
    "start_time": "2023-04-18T18:37:00.189Z"
   },
   {
    "duration": 45,
    "start_time": "2023-04-18T18:37:00.228Z"
   },
   {
    "duration": 31,
    "start_time": "2023-04-18T18:37:00.274Z"
   },
   {
    "duration": 26,
    "start_time": "2023-04-18T18:37:00.306Z"
   },
   {
    "duration": 23,
    "start_time": "2023-04-18T18:37:00.334Z"
   },
   {
    "duration": 17,
    "start_time": "2023-04-18T18:37:00.359Z"
   },
   {
    "duration": 45,
    "start_time": "2023-04-18T18:37:00.377Z"
   },
   {
    "duration": 58,
    "start_time": "2023-04-18T18:37:00.424Z"
   },
   {
    "duration": 83,
    "start_time": "2023-04-18T18:37:00.486Z"
   },
   {
    "duration": 53,
    "start_time": "2023-04-18T18:37:00.571Z"
   },
   {
    "duration": 13,
    "start_time": "2023-04-18T18:37:00.625Z"
   },
   {
    "duration": 25,
    "start_time": "2023-04-18T18:37:00.640Z"
   },
   {
    "duration": 41,
    "start_time": "2023-04-18T18:37:00.668Z"
   },
   {
    "duration": 30,
    "start_time": "2023-04-18T18:37:00.710Z"
   },
   {
    "duration": 1481,
    "start_time": "2023-04-18T18:37:00.742Z"
   },
   {
    "duration": 0,
    "start_time": "2023-04-18T18:37:02.225Z"
   },
   {
    "duration": 0,
    "start_time": "2023-04-18T18:37:02.227Z"
   },
   {
    "duration": 3,
    "start_time": "2023-04-18T18:37:36.254Z"
   },
   {
    "duration": 3,
    "start_time": "2023-04-18T18:37:41.442Z"
   },
   {
    "duration": 5,
    "start_time": "2023-04-18T18:37:41.518Z"
   },
   {
    "duration": 1278,
    "start_time": "2023-04-18T18:37:41.525Z"
   },
   {
    "duration": 1289,
    "start_time": "2023-04-18T18:37:42.805Z"
   },
   {
    "duration": 1309,
    "start_time": "2023-04-18T18:37:44.096Z"
   },
   {
    "duration": 2,
    "start_time": "2023-04-18T18:55:30.514Z"
   },
   {
    "duration": 2,
    "start_time": "2023-04-18T18:55:58.526Z"
   },
   {
    "duration": 4,
    "start_time": "2023-04-18T19:02:37.901Z"
   },
   {
    "duration": 1290,
    "start_time": "2023-04-18T19:02:54.054Z"
   },
   {
    "duration": 1281,
    "start_time": "2023-04-18T19:03:00.958Z"
   },
   {
    "duration": 1267,
    "start_time": "2023-04-18T19:03:05.521Z"
   },
   {
    "duration": 54,
    "start_time": "2023-04-18T19:06:16.609Z"
   },
   {
    "duration": 1371,
    "start_time": "2023-04-18T19:07:02.992Z"
   },
   {
    "duration": 2,
    "start_time": "2023-04-18T19:07:04.365Z"
   },
   {
    "duration": 19,
    "start_time": "2023-04-18T19:07:04.369Z"
   },
   {
    "duration": 4930,
    "start_time": "2023-04-18T19:07:04.391Z"
   },
   {
    "duration": 4904,
    "start_time": "2023-04-18T19:07:09.323Z"
   },
   {
    "duration": 11,
    "start_time": "2023-04-18T19:07:14.228Z"
   },
   {
    "duration": 5,
    "start_time": "2023-04-18T19:07:14.241Z"
   },
   {
    "duration": 5,
    "start_time": "2023-04-18T19:07:14.249Z"
   },
   {
    "duration": 4766,
    "start_time": "2023-04-18T19:07:14.256Z"
   },
   {
    "duration": 26,
    "start_time": "2023-04-18T19:07:19.024Z"
   },
   {
    "duration": 17,
    "start_time": "2023-04-18T19:07:19.051Z"
   },
   {
    "duration": 4,
    "start_time": "2023-04-18T19:07:19.085Z"
   },
   {
    "duration": 13,
    "start_time": "2023-04-18T19:07:19.090Z"
   },
   {
    "duration": 12,
    "start_time": "2023-04-18T19:07:19.105Z"
   },
   {
    "duration": 12,
    "start_time": "2023-04-18T19:07:19.119Z"
   },
   {
    "duration": 7,
    "start_time": "2023-04-18T19:07:19.133Z"
   },
   {
    "duration": 20,
    "start_time": "2023-04-18T19:07:19.142Z"
   },
   {
    "duration": 30,
    "start_time": "2023-04-18T19:07:19.164Z"
   },
   {
    "duration": 11,
    "start_time": "2023-04-18T19:07:19.196Z"
   },
   {
    "duration": 3,
    "start_time": "2023-04-18T19:07:19.208Z"
   },
   {
    "duration": 5,
    "start_time": "2023-04-18T19:07:19.213Z"
   },
   {
    "duration": 5,
    "start_time": "2023-04-18T19:07:19.220Z"
   },
   {
    "duration": 9,
    "start_time": "2023-04-18T19:07:19.227Z"
   },
   {
    "duration": 1162,
    "start_time": "2023-04-18T19:07:19.238Z"
   },
   {
    "duration": 1260,
    "start_time": "2023-04-18T19:07:20.402Z"
   },
   {
    "duration": 1061,
    "start_time": "2023-04-18T19:07:21.664Z"
   },
   {
    "duration": 4,
    "start_time": "2023-04-18T19:07:22.727Z"
   },
   {
    "duration": 57,
    "start_time": "2023-04-18T19:07:22.736Z"
   },
   {
    "duration": 290,
    "start_time": "2023-04-18T19:07:22.795Z"
   },
   {
    "duration": 200,
    "start_time": "2023-04-18T19:07:23.088Z"
   },
   {
    "duration": 97,
    "start_time": "2023-04-18T19:07:23.290Z"
   },
   {
    "duration": 5,
    "start_time": "2023-04-18T19:07:23.389Z"
   },
   {
    "duration": 91,
    "start_time": "2023-04-18T19:07:23.397Z"
   },
   {
    "duration": 6,
    "start_time": "2023-04-18T19:07:23.490Z"
   },
   {
    "duration": 4,
    "start_time": "2023-04-18T19:07:23.498Z"
   },
   {
    "duration": 11,
    "start_time": "2023-04-18T19:07:23.503Z"
   },
   {
    "duration": 9,
    "start_time": "2023-04-18T19:07:23.516Z"
   },
   {
    "duration": 14,
    "start_time": "2023-04-18T19:07:23.526Z"
   },
   {
    "duration": 24,
    "start_time": "2023-04-18T19:07:23.542Z"
   },
   {
    "duration": 5,
    "start_time": "2023-04-18T19:07:23.586Z"
   },
   {
    "duration": 8,
    "start_time": "2023-04-18T19:07:23.592Z"
   },
   {
    "duration": 10,
    "start_time": "2023-04-18T19:07:23.602Z"
   },
   {
    "duration": 1252,
    "start_time": "2023-04-18T19:07:23.613Z"
   },
   {
    "duration": 1281,
    "start_time": "2023-04-18T19:07:24.866Z"
   },
   {
    "duration": 1269,
    "start_time": "2023-04-18T19:07:26.149Z"
   }
  ],
  "kernelspec": {
   "display_name": "Python 3 (ipykernel)",
   "language": "python",
   "name": "python3"
  },
  "language_info": {
   "codemirror_mode": {
    "name": "ipython",
    "version": 3
   },
   "file_extension": ".py",
   "mimetype": "text/x-python",
   "name": "python",
   "nbconvert_exporter": "python",
   "pygments_lexer": "ipython3",
   "version": "3.11.4"
  },
  "toc": {
   "base_numbering": 1,
   "nav_menu": {},
   "number_sections": true,
   "sideBar": true,
   "skip_h1_title": true,
   "title_cell": "Table of Contents",
   "title_sidebar": "Contents",
   "toc_cell": false,
   "toc_position": {
    "height": "calc(100% - 180px)",
    "left": "10px",
    "top": "150px",
    "width": "283.996px"
   },
   "toc_section_display": true,
   "toc_window_display": false
  }
 },
 "nbformat": 4,
 "nbformat_minor": 4
}
